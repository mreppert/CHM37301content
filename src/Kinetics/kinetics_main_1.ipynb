{
 "cells": [
  {
   "cell_type": "code",
   "execution_count": 1,
   "metadata": {},
   "outputs": [
    {
     "data": {
      "application/javascript": [
       "IPython.OutputArea.auto_scroll_threshold = 9999\n"
      ],
      "text/plain": [
       "<IPython.core.display.Javascript object>"
      ]
     },
     "metadata": {},
     "output_type": "display_data"
    }
   ],
   "source": [
    "%%javascript\n",
    "IPython.OutputArea.auto_scroll_threshold = 9999"
   ]
  },
  {
   "cell_type": "markdown",
   "metadata": {},
   "source": [
    "# Gas-phase Kinetics"
   ]
  },
  {
   "cell_type": "markdown",
   "metadata": {},
   "source": [
    "## Kinetics vs. Thermodynamics ##\n",
    "\n",
    "In this lab, we'll begin to explore the complex but fascinating world of **kinetics**, the study of *how fast* processes happen. Before we start, let's emphasize that kinetics is *fundamentally different* from thermodynamics. Thermodynamics deals with how systems behave at equilibrium -- i.e., at very long times, when the macroscopic properties of a system have ceased to change. Kinetics, in contrast, specifically focuses on the *approach* to equilibrium: in particular, how long it takes a system to get there. \n",
    "\n",
    "## Elementary Reactions and $t$-Butyl Peroxide Decomposition ##\n",
    "\n",
    "Although the word \"kinetics\" can refer to the rate of change of all kinds of things, in this course we're particularly interested in *reaction kinetics*, i.e., the rate at which chemical reactions occur. Reaction kinetics are simplest to understand for **elementary reactions**, i.e., reactions that, at the molecular level, actually occur as written. Many familiar reactions are *not* elementary. For example, the central reaction of photosynthesis<br>\n",
    "\n",
    "$$ 6\\text{CO}_2 + 6\\text{H}_2\\text{O} \\to \\text{C}_6\\text{H}_{12}\\text{O}_6 + 6 \\text{O}_2,$$<br>\n",
    "\n",
    "by which glucose ($\\text{C}_6\\text{H}_{12}\\text{O}_6$) is synthesized from carbon dioxide and water, occurs in green plants via an extraordinarily complex series of individual steps involving a host of enzymes, interconversions, and side reactions. The kinetics of this process depend on a whole host of factors, including the concentration of each reactant, the amount of light reaching the plant, and the availability of many different enzymes. \n",
    "\n",
    "In this lab, we'll focus on a much simpler reaction that **is** elementary: The gas-phase decomposition of $t$-Butyl Peroxide (tBP)<br>\n",
    "\n",
    "$$\\text{(CH}_3)_3\\text{CO-OC(CH}_3)_3 \\to 2 \\text{(CH}_3)_3\\text{CO}^\\bullet$$\n",
    "\n",
    "to yield the two radical fragments of $\\text{(CH}_3)_3\\text{CO}^\\bullet$. Unlike the fundamental reaction of photosynthesis, this reaction *does* occur as written, i.e., tBP decomposes directly to two radical fragments. Your task in this set of labs is to characterize the kinetics of tBP decomposition experimentally and to interpret those results in terms of a simple thermally activated reaction mechanism. \n"
   ]
  },
  {
   "cell_type": "markdown",
   "metadata": {},
   "source": [
    "## Reaction Mechanism ##\n",
    "\n",
    "### Thermal Activation ###\n",
    "\n",
    "The key to understanding tBP decomposition is to recognize that the process is *thermally activated*. Breaking even a \"high-energy\" bond like the O-O linkage in tBP requires some input of energy. Indeed, if there were no energy barrier to overcome, there would be no bond in the first place! The energy needed to break a chemical bond can come in many forms. In photosynthesis, for example, light absorption triggers the electron transfer reactions that ultimately produce O$_2$ gas. \n",
    "\n",
    "In tBP decomposition, the bond-breaking energy comes from a much more mundane source: molecules simply \"bumping into\" each other. As tBP molecules whizz around in the gas phase, every now and then a collision happens that imparts enough thermal energy to one of the tBP molecules to stretch the O-O bond far enough that it simply breaks apart. \n",
    "\n",
    "As originally formulated by Lindemann, the mechanism for tBP decomposition can thus be formally understood to begin with a reaction of the form<br><br>\n",
    "$$ \\text{tBP} + \\text{M} \\xrightarrow{k_1} \\text{tBP}^* + \\text{M}.$$<br>\n",
    "Here \"M\" can be any molecular species in the gas phase that can collide with tBP and impart thermal energy to it (a process called \"activation\"). \"M\" might be tBP itself (this will definitely be the case at the start of our measurements, when only tBP is present in the reaction vessel); or it might be one of the products formed by tBP decomposition. \n",
    "\n",
    "To understand how this microscopic mechanism leads to the first-order rate law expected for a unimolecular decomposition, we'll have to do a little math. Click through the boxes below to follow the derivation."
   ]
  },
  {
   "cell_type": "code",
   "execution_count": 1,
   "metadata": {},
   "outputs": [
    {
     "data": {
      "application/vnd.jupyter.widget-view+json": {
       "model_id": "b6d381984679438cb086fb83415cfda4",
       "version_major": 2,
       "version_minor": 0
      },
      "text/plain": [
       "VBox(children=(Accordion(children=(Output(),), selected_index=None, _titles={'0': 'Thermal Activation'}),))"
      ]
     },
     "metadata": {},
     "output_type": "display_data"
    },
    {
     "data": {
      "application/vnd.jupyter.widget-view+json": {
       "model_id": "50d7f19611224af9a4f1cf0bad74d237",
       "version_major": 2,
       "version_minor": 0
      },
      "text/plain": [
       "VBox(children=(Accordion(children=(Output(),), selected_index=None, _titles={'0': 'The Problem'}),))"
      ]
     },
     "metadata": {},
     "output_type": "display_data"
    },
    {
     "data": {
      "application/vnd.jupyter.widget-view+json": {
       "model_id": "0e0c57fe057f452496e8e660a5a483ec",
       "version_major": 2,
       "version_minor": 0
      },
      "text/plain": [
       "VBox(children=(Accordion(children=(Output(),), selected_index=None, _titles={'0': 'Assumption #1: Steady State…"
      ]
     },
     "metadata": {},
     "output_type": "display_data"
    },
    {
     "data": {
      "application/vnd.jupyter.widget-view+json": {
       "model_id": "be48c4e9f5664a2a91ae987e6075e2ac",
       "version_major": 2,
       "version_minor": 0
      },
      "text/plain": [
       "VBox(children=(Accordion(children=(Output(),), selected_index=None, _titles={'0': 'Assumption #2: High-Pressur…"
      ]
     },
     "metadata": {},
     "output_type": "display_data"
    }
   ],
   "source": [
    "# #### Rate Laws #### \n",
    "\n",
    "# In either case, the reaction proceeds at a rate that is  proportional to the concentration of tBP and the concentration of M, with a proportionality constant $k_1$. Once activated, the excited molecule (tBP$^*$) can do one of two things: It can experience a *deactivating* collision, giving its internal energy back to the bath<br><br>\n",
    "# $$ \\text{tBP}^* + \\text{M} \\xrightarrow{k_{-1}} \\text{tBP} + \\text{M}$$<br>\n",
    "# *or* it can decompose:<br><br>\n",
    "# $$\\text{tBP}^* \\xrightarrow{k_2} 2 (\\text{CH}_3)_3\\text{CO}^\\bullet.$$<br>\n",
    "# In your experiments, you'll monitor the rate $-\\frac{d [\\text{tBP}]}{dt}$ at which the concentration of tBP changes. According to the rate law above, this instantaneous rate  is proportional to the concentration of the thermally activated species tBP$^*$:<br><br> $$ -\\frac{d [\\text{tBP}]}{dt} = k_2 [ \\text{tBP}^*] . $$\n",
    "\n",
    "\n",
    "# #### The Problem ####\n",
    "\n",
    "# Now, if we knew the concentration of tBP$^*$, we could determine $k_2$ directly. The problem is that tBP$^*$ is highly reactive and is present only in a vanishingly small (and essentialy undetectable) concentration in the system at any given time. Thus, while rate laws written in terms of [tBP$^*$] may be formally correct, they aren't of much practical use.\n",
    "\n",
    "# What we need is a rate law for $-\\frac{d [\\text{tBP}]}{dt}$ formulated entirely in terms of experimentally measurable quantities. To get that, we need to make two assumptions.\n",
    "\n",
    "\n",
    "\n",
    "\n",
    "from IPython.display import display_markdown\n",
    "import ipywidgets as widgets\n",
    "from ipywidgets import Layout\n",
    "\n",
    "def make_title_font(text):\n",
    "    text = '<span style=\"font-size:large; font-weight:bold\">' + text + '</span>'\n",
    "    return text\n",
    "\n",
    "def make_def_box(topic, shortdef, longdef):\n",
    "    #Head = widgets.Output()\n",
    "    Body = widgets.Output()\n",
    "    Accord = widgets.Accordion(children=[Body], selected_index=None)\n",
    "    Accord.set_title(0, shortdef)\n",
    "    \n",
    "#     with Head:\n",
    "#         display_markdown(make_title_font(topic) + \":\", raw=True)\n",
    "        \n",
    "    with Body:\n",
    "        display_markdown(longdef, raw=True)\n",
    "        \n",
    "    #return widgets.VBox([Head, Accord])\n",
    "    return widgets.VBox([Accord])\n",
    "\n",
    "\n",
    "TempBoxes = []\n",
    "\n",
    "TempBoxes.append(make_def_box('Thermal Activation', \n",
    "     'Thermal Activation', \n",
    "     'Although the final products of tBP decomposition are lower in energy\\\n",
    "     than tBP itself, breaking a stable bond *always* requires some initial\\\n",
    "     energy input to break the starting molecular configuration. In thermal \\\n",
    "     decomposition, this initial energy is provided by random molecular collisions. \\\n",
    "     As originally formulated by Lindemann, the formal mechanism for tBP decomposition \\\n",
    "     can be thought of as initiating with a molecular collision of the form<br><br>\\\n",
    "     $$ \\\\text{tBP} + \\\\text{M} \\\\xrightarrow{k_1} \\\\text{tBP}^* + \\\\text{M}.$$<br>\\\n",
    "     Here \\\"M\\\" can be any molecular species in the gas phase that can collide with \\\n",
    "     tBP and impart thermal energy to it (a process called \\\"activation\\\". The reaction \\\n",
    "     proceeds at a rate that is  proportional to the concentration of tBP and the \\\n",
    "     concentration of M, with a proportionality constant $k_1$. Once activated, the \\\n",
    "     excited molecule (tBP$^*$) can do one of two things: It can experience a \\\n",
    "     *deactivating* collision, giving its internal energy back to the bath<br><br>\\\n",
    "     $$ \\\\text{tBP}^* + \\\\text{M} \\\\xrightarrow{k_{-1}} \\\\text{tBP} + \\\\text{M}$$<br>\\\n",
    "     *or* it can decompose:<br><br>\\\n",
    "     $$\\\\text{tBP}^* \\\\xrightarrow{k_2} 2 (\\\\text{CH}_3)_3\\\\text{CO}^\\\\bullet.$$<br>\\\n",
    "     In your experiments, you\\'ll monitor the rate $-\\\\frac{d [\\\\text{tBP}]}{dt}$ \\\n",
    "     at which the concentration of tBP changes. According to the rate law above, \\\n",
    "     this instantaneous rate  is proportional to the concentration of the thermally \\\n",
    "     activated species tBP$^*$:<br><br>\\\n",
    "     $$ -\\\\frac{d [\\\\text{tBP}]}{dt} = k_2 [ \\\\text{tBP}^*] . $$\\\n",
    "     <br>'))\n",
    "\n",
    "TempBoxes.append(make_def_box('', \n",
    "     'The Problem', \n",
    "      'If we knew the concentration of tBP$^*$, we could determine $k_2$ directly. \\\n",
    "     The problem is that tBP$^*$ is highly reactive and is present only in a \\\n",
    "     vanishingly small (and essentialy undetectable) concentration in the system \\\n",
    "     at any given time. Thus, while rate laws written in terms of [tBP$^*$] may be \\\n",
    "     formally correct, they aren\\'t of much practical use.<br><br>\\\n",
    "     What we need is a rate law for $-\\\\frac{d [\\\\text{tBP}]}{dt}$ formulated \\\n",
    "     entirely in terms of experimentally measurable quantities. To get that, we \\\n",
    "     need to make two assumptions.'))\n",
    "                              \n",
    "\n",
    "TempBoxes.append(make_def_box('', \n",
    "     'Assumption #1: Steady State [tBP*]', \n",
    "    'First we assume that the concentration of tBP$^*$ is essentially constant\\\n",
    "    once the thermal decomposition reaction gets going.<br><br>\\\n",
    "    The justification for this assumption is straightforward: If [tBP$^*$] were\\\n",
    "    *increasing* with time, it would eventually reach a measurable concentration\\\n",
    "    and we would be able to detect it (which we can\\'t). Conversely, if \\\n",
    "    [tBP$^*$] were *decreasing* with time, it would eventually go to zero, \\\n",
    "    and the tBP decomposition reaction would stop entirely (which it doesn\\'t).\\\n",
    "    The only conclusion is that [tBP$^*$] must remain essentially constant in time or,\\\n",
    "    mathematically, that<br><br> $$\\\\frac{d [\\\\text{tBP}^*]}{dt} = 0.$$<br>\\\n",
    "    Now, combining the three elementary rate laws involving [tBP$^*$], we find that<br><br>\\\n",
    "    $$\\\\frac{d [\\\\text{tBP}^*]}{dt} = k_1 [\\\\text{tBP}] [\\\\text{M}] - k_{-1} [\\\\text{tBP}^*][\\\\text{M}] - k_2 [\\\\text{tBP}^*] = 0.$$<br>\\\n",
    "    Solving for [tBP$^*$], we get:<br><br>\\\n",
    "    $$ [\\\\text{tBP}^*] =  \\\\frac{k_1 [\\\\text{M}][\\\\text{tBP}]}{k_{-1}[\\\\text{M}] + k_2} .$$<br>\\\n",
    "    If we substitute this into our earlier expression for $-\\\\frac{d[\\text{tBP}]}{dt}$,\\\n",
    "    we get<br><br> $$ -\\\\frac{d [\\\\text{tBP}]}{dt} = k_2 [ \\\\text{tBP}^*] = k_2 \\\\frac{k_1 [\\\\text{M}][\\\\text{tBP}]}{k_{-1}[\\\\text{M}] + k_2}. $$'))\n",
    "\n",
    "TempBoxes.append(make_def_box('', \n",
    "     'Assumption #2: High-Pressure Limit', \n",
    "    'This last result is an improvement, but it\\'s still a bit too complicated to be easily applied. \\\n",
    "    We can simplify it dramatically if we make one further assumption: that the pressure inside \\\n",
    "    the reaction vessel is high enough that <br><br>$$k_{-1}[\\\\text{M}] \\\\gg k_2.$$<br>\\\n",
    "    We can make sure that this assumption is satisfied experimentally by simply increasing\\\n",
    "    the pressure in the reaction vessel. The higher the pressure, the more molecules there are \\\n",
    "    for tBP to collide with, and the larger the quantity $k_{-1} [\\\\text{M}]$. When $k_{-1} [\\\\text{M}]$\\\n",
    "    becomes much larger than $k_2$, the concentration of tBP$^*$ can be approximated as<br><br>\\\n",
    "    $$ [\\\\text{tBP}^*] = \\\\frac{k_1 [\\\\text{M}][\\\\text{tBP}]}{k_{-1}[\\\\text{M}] + k_2} \\\\approx \\\\frac{k_1 [\\\\text{M}][\\\\text{tBP}]}{k_{-1}[\\\\text{M}]}\\\n",
    "    \\\\approx \\\\frac{k_1}{k_{-1}} \\\\text{[tBP]}.$$<br>\\\n",
    "    Our rate law thus becomes:<br><br>\\\n",
    "    $$ -\\\\frac{d [\\\\text{tBP}]}{dt} = k_2 \\\\frac{k_1}{k_{-1}} \\\\text{[tBP]}.$$<br>'))\n",
    "\n",
    "# TempBoxes.append(make_def_box('', \n",
    "#      'The High-Pressure Unimolecular Rate Constant', \n",
    "#      'Physically, we understand this result to mean that, when the pressure is sufficiently high,\\\n",
    "#      the fast $k_1$/$k_{-1}$ equilibrium maintains a steady state concentration of tBP$^*$, which \\\n",
    "#      decomposes with a first-order rate constant $k_2$. Thus *in the high-pressure limit*,\\\n",
    "#      we can write the rate of reactant decomposition as<br>\\\n",
    "#      $$ -\\\\frac{d [\\\\text{tBP}]}{dt} = k_\\infty \\\\text{[tBP]},$$<br>\\\n",
    "#      where $k_\\infty$ is a composite of rate constants<br><br> $$k_\\infty = k_2 \\\\frac{k_1}{k_{-1}}$$<br>\\\n",
    "#      termed the *high-pressure unimolecular rate constant.*'))\n",
    "\n",
    "for box in TempBoxes:\n",
    "    display(box)"
   ]
  },
  {
   "cell_type": "markdown",
   "metadata": {},
   "source": [
    "## The High-Pressure Unimolecular Rate Constant ##\n",
    "\n",
    "The final result is that, when the pressure is sufficiently high, the fast $k_1$/$k_{-1}$ equilibrium maintains a steady state concentration of tBP$^*$, which decomposes with a first-order rate constant $k_2$. Thus *in the high-pressure limit*, we can write the rate of reactant decomposition as<br>\n",
    "$$ -\\frac{d [\\text{tBP}]}{dt} = k_\\infty \\text{[tBP]},$$<br> where $k_\\infty$ is a composite of rate constants<br><br> $$k_\\infty = k_2 \\frac{k_1}{k_{-1}}$$<br> termed the *high-pressure unimolecular rate constant*. \n",
    "\n",
    "It is this rate constant that you will monitor experimentally in this lab:\n",
    "* In **Week 1**, you'll track the initial reaction rate for tBP decomposition at varying initial pressures, confirming that the rate does indeed depend linearly on the tBP pressure (or, equivalently, concentration). \n",
    "* In **Week 2**, you'll determine the temperature dependence of $k_\\infty$ and estimate the energy barrier that must be overcome for thermal decomposition to occur. "
   ]
  },
  {
   "cell_type": "markdown",
   "metadata": {},
   "source": [
    "## Your Assignment:\n",
    "\n",
    "In today's lab, you will monitor the rate of tBP decomposition by tracking the pressure inside a sealed reaction chamber. \n",
    "\n",
    "<br><a href=\"Part1.ipynb\"> <button class=\"p-Widget jupyter-widgets jupyter-button widget-button mod-warning\" style=\"width:100px; background-color:#E9E9E9; font-size:10pt; color:black\">Go!</button></a>\n"
   ]
  },
  {
   "cell_type": "code",
   "execution_count": 3,
   "metadata": {},
   "outputs": [
    {
     "data": {
      "application/vnd.jupyter.widget-view+json": {
       "model_id": "d6e93fbf1c1a421dab6a83173bbb09b9",
       "version_major": 2,
       "version_minor": 0
      },
      "text/plain": [
       "HBox(children=(Text(value='', description='Purdue ID:', placeholder='User name'), Button(description='Copy Exe…"
      ]
     },
     "metadata": {},
     "output_type": "display_data"
    },
    {
     "data": {
      "application/vnd.jupyter.widget-view+json": {
       "model_id": "35040766d43d49adab07e1f5e489d83f",
       "version_major": 2,
       "version_minor": 0
      },
      "text/plain": [
       "HTML(value='')"
      ]
     },
     "metadata": {},
     "output_type": "display_data"
    }
   ],
   "source": [
    "import ipywidgets as widgets\n",
    "import os\n",
    "from IPython.display import display\n",
    "from IPython.display import display_markdown\n",
    "\n",
    "HTMLButtonPrompt = '''<html>\n",
    "<head>\n",
    "<meta name=\"viewport\" content=\"width=device-width, initial-scale=1\">\n",
    "</head>\n",
    "<body>\n",
    "<a href=\"{link}\" target=\"_blank\" >\n",
    "<button class=\"p-Widget jupyter-widgets jupyter-button widget-button mod-warning\" style=\"width:100px; background-color:#E9E9E9; font-size:10pt; color:black\">{text}</button>\n",
    "</a>\n",
    "</body>\n",
    "</html>\n",
    "'''\n",
    "\n",
    "\n",
    "HTMLDeadPrompt = '''<html>\n",
    "<head>\n",
    "<meta name=\"viewport\" content=\"width=device-width, initial-scale=1\">\n",
    "</head>\n",
    "<body>\n",
    "<button class=\"p-Widget jupyter-widgets jupyter-button widget-button mod-warning\" style=\"width:100px; background-color:#E9E9E9; font-size:10pt; color:#D2D2D2\">{text}</button>\n",
    "</body>\n",
    "</html>'''\n",
    "\n",
    "\n",
    "\n",
    "def copy_exercise(self):\n",
    "    uname = txt_uname.value.replace(\" \", \"_\").lower()\n",
    "    fpath = \"../../../../local/\"\n",
    "    flist = ['analysis_1.ipynb']\n",
    "    \n",
    "    cpname = \"Kinetics_1_\" + uname + \".ipynb\"\n",
    "\n",
    "    if len(uname)<=0:\n",
    "        print('Please enter a valid user name!')\n",
    "        \n",
    "    elif os.path.isfile(fpath+cpname) and cb_overwrite.value==False:\n",
    "        message_box.value = 'The file already exists! Click \\\"Open\\\" to access.<br> \\\n",
    "        If you want to delete the file and start fresh, you\\'ll need to: <br>  \\\n",
    "           (1) open the file, <br> \\\n",
    "           (2) Click \\\"Edit App\\\" in the top-right corner,<br>\\\n",
    "           (3) Click the File > Open dropdown, and <br> \\\n",
    "           (4) Manually delete the file using the file browser. <br> \\\n",
    "        Then you can return to this page to copy it again. <br> \\\n",
    "        <b>But be careful!</b> This will also delete any data that you\\'ve stored in the notebook!'\n",
    "        bt_open.value=HTMLButtonPrompt.format(link=fpath+cpname, text='Open')\n",
    "        \n",
    "    else:\n",
    "        err = False\n",
    "        \n",
    "        for fname in flist:\n",
    "            \n",
    "            # If it's the first file, reset the file name\n",
    "            if fname==flist[0]:\n",
    "                out = !{\"cp \" + fname + \" \" + fpath+cpname}\n",
    "                if len(out)>0:\n",
    "                    for line in out:\n",
    "                        err = True\n",
    "                        print(out)\n",
    "            else:\n",
    "                \n",
    "                # If it's an image file, make sure the img folder exists\n",
    "                if fname[0:4]=='img/':\n",
    "                    if os.path.isdir(fpath+'/img')==False:\n",
    "                        out = !{'mkdir ' + fpath + '/img'}\n",
    "                        if len(out)>0:\n",
    "                            err = True\n",
    "                            for line in out:\n",
    "                                print(out)\n",
    "                                \n",
    "                # Now copy the file\n",
    "                out = !{\"cp \" + fname + \" \" + fpath+fname}\n",
    "                if len(out)>0:\n",
    "                    for line in out:\n",
    "                        err = True\n",
    "                        print(out)\n",
    "                \n",
    "        if err==False:\n",
    "            bt_open.value=HTMLButtonPrompt.format(link=fpath+cpname, text='Open')\n",
    "    \n",
    "txt_uname = widgets.Text(\n",
    "    value='',\n",
    "    placeholder='User name',\n",
    "    description='Purdue ID:',\n",
    "    disabled=False\n",
    ")\n",
    "\n",
    "\n",
    "bt_genfile = widgets.Button(\n",
    "    description='Copy Exercise',\n",
    "    disabled=False,\n",
    "    button_style='', # 'success', 'info', 'warning', 'danger' or ''\n",
    "    tooltip='Enter your username and then click to create a local exercise file'\n",
    ")\n",
    "\n",
    "bt_open = widgets.HTML(HTMLDeadPrompt.format(text='Open'))\n",
    "\n",
    "cb_overwrite = widgets.Checkbox(\n",
    "    value=False,\n",
    "    description='Overwrite Existing?',\n",
    "    disabled=False\n",
    ")\n",
    "\n",
    "bt_genfile.on_click(copy_exercise)\n",
    "\n",
    "message_box = widgets.HTML('')\n",
    "\n",
    "display(widgets.HBox([txt_uname, bt_genfile, bt_open]))\n",
    "display(message_box)\n"
   ]
  },
  {
   "cell_type": "code",
   "execution_count": null,
   "metadata": {},
   "outputs": [],
   "source": []
  }
 ],
 "metadata": {
  "kernelspec": {
   "display_name": "Python 3.8",
   "language": "python",
   "name": "python3"
  },
  "language_info": {
   "codemirror_mode": {
    "name": "ipython",
    "version": 3
   },
   "file_extension": ".py",
   "mimetype": "text/x-python",
   "name": "python",
   "nbconvert_exporter": "python",
   "pygments_lexer": "ipython3",
   "version": "3.8.10"
  },
  "toc": {
   "base_numbering": 1,
   "nav_menu": {},
   "number_sections": true,
   "sideBar": true,
   "skip_h1_title": false,
   "title_cell": "Table of Contents",
   "title_sidebar": "Contents",
   "toc_cell": false,
   "toc_position": {},
   "toc_section_display": true,
   "toc_window_display": false
  },
  "varInspector": {
   "cols": {
    "lenName": 16,
    "lenType": 16,
    "lenVar": 40
   },
   "kernels_config": {
    "python": {
     "delete_cmd_postfix": "",
     "delete_cmd_prefix": "del ",
     "library": "var_list.py",
     "varRefreshCmd": "print(var_dic_list())"
    },
    "r": {
     "delete_cmd_postfix": ") ",
     "delete_cmd_prefix": "rm(",
     "library": "var_list.r",
     "varRefreshCmd": "cat(var_dic_list()) "
    }
   },
   "types_to_exclude": [
    "module",
    "function",
    "builtin_function_or_method",
    "instance",
    "_Feature"
   ],
   "window_display": false
  }
 },
 "nbformat": 4,
 "nbformat_minor": 2
}
