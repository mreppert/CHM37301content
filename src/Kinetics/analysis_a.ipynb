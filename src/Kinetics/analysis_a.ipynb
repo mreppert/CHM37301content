{
 "cells": [
  {
   "cell_type": "markdown",
   "metadata": {},
   "source": [
    "# First-Order Kinetics\n",
    "\n",
    "Using the data you collected in lab, you should be able to verify experimentally that tBP decomposition is (under our reaction conditions) first order in tBP concentration. \n",
    "\n",
    "In lab, you should have collected two types of data:\n",
    "* A set of text files (e.g., 5uL.txt) that contain voltage readings from the pressure sensor as a function of time\n",
    "* A set of V760 values that indicate the voltage of the pressure meter at a pressure difference of 760 Torr. \n",
    "\n",
    "You'll enter the V760 values manually; we'll use a `for()` loop to import the text files. \n",
    "\n",
    "## 0. Enter and average your V760 values\n",
    "\n",
    "First, enter the V760 values that you measured experimentally into the `V760vals` array below. The code will then average those values to get a single `V760` parameter that you'll use later to convert between voltage and pressure. \n",
    "\n",
    "Note that we're also using this cell to import NumPy and Matplotlib. These `import` commands need to be executed only once at the beginning of the code. "
   ]
  },
  {
   "cell_type": "code",
   "execution_count": 21,
   "metadata": {},
   "outputs": [],
   "source": [
    "import numpy as np\n",
    "import matplotlib.pyplot as plt\n",
    "plt.rcParams.update({'font.size': 16})\n",
    "\n",
    "# Enter your measured V760 values from each trial in the \n",
    "# V760vals array below. \n",
    "V760vals = np.array([])\n",
    "\n",
    "# This line takes the average (mean) of the V760 values and\n",
    "# stores them in a new float variable called V760. \n",
    "V760 = np.mean(V760vals)"
   ]
  },
  {
   "cell_type": "markdown",
   "metadata": {},
   "source": [
    "## 1. Upload your data\n",
    "\n",
    "In lab, you should have collected six different sets of experimental data, using different volumes of injected tBP. You should have data files corresponding to each initial volume with file names\n",
    "* 3uL.txt\n",
    "* 5uL.txt\n",
    "* 10uL.txt\n",
    "* 20uL.txt\n",
    "* 30uL.txt\n",
    "* 40uL.txt\n",
    "\n",
    "If your files are **not** named this way, rename them! (We're going to automate the process of reading data from each file, so your file names need to match the expected format.) To start off, first create a folder called \"Lab3a\" in your nanoHUB directory and upload each text file into it. "
   ]
  },
  {
   "cell_type": "markdown",
   "metadata": {},
   "source": [
    "## 2. Now use a `for()` loop to import and plot your data\n",
    "\n",
    "In analyzing your data, we're going to introduce several new Python commands, and we'll walk through them one at a time. For instructional purposes, we'll break down these steps one at a time, changing just a line or two of code in each new cell. If you feel comfortable with the syntax, you can skip ahead! The final code cell actually does everything necessary to import and plot your data, so you can skip straight to the end if you're comfortable with the syntax. \n",
    "\n",
    "First, we'll give a simple example of basic `for()` syntax to print each volume you used experimentally:"
   ]
  },
  {
   "cell_type": "code",
   "execution_count": null,
   "metadata": {},
   "outputs": [],
   "source": [
    "# Define a NumPy array that stores the volume used in each trial\n",
    "Volumes = np.array([3,5,10,20,30,40])\n",
    "\n",
    "# Check the length of the Volumes array and store the result in a variable called Npts. \n",
    "# In this case, len(Volumes) is equivalent to np.shape(Volumes)[0].\n",
    "# The variable Npts should end up with the value 6, since Volumes contains 6 elements. \n",
    "Npts = len(Volumes)\n",
    "\n",
    "\n",
    "# Now loop through n-values from 0 to Npts\n",
    "for n in range(0, Npts):\n",
    "    \n",
    "    # Define a new variable V whose value is Volumes[n]\n",
    "    V = Volumes[n]\n",
    "    \n",
    "    # And print the volume:\n",
    "    print(V)"
   ]
  },
  {
   "cell_type": "markdown",
   "metadata": {},
   "source": [
    "Now, let's modify that code so that it doesn't just print `Volumes[n]` but defines a `string` variable containing the corresponding file name:"
   ]
  },
  {
   "cell_type": "code",
   "execution_count": null,
   "metadata": {},
   "outputs": [],
   "source": [
    "# Define a NumPy array that stores the volume used in each trial\n",
    "Volumes = np.array([3,5,10,20,30,40])\n",
    "\n",
    "# Check the length of the Volumes array and store the result in a variable called Npts. \n",
    "# In this case, len(Volumes) is equivalent to np.shape(Volumes)[0].\n",
    "# The variable Npts should end up with the value 6, since Volumes contains 6 elements. \n",
    "Npts = len(Volumes)\n",
    "\n",
    "\n",
    "# Now loop through n-values from 0 to Npts\n",
    "for n in range(0, Npts):\n",
    "    \n",
    "    # Define a new variable V whose value is Volumes[n]\n",
    "    Vol = Volumes[n]\n",
    "    \n",
    "    # Define the corresponding file name:\n",
    "    fname = 'Lab3a/' + str(Vol) + 'uL.txt'\n",
    "    \n",
    "    # And print it\n",
    "    print(fname)"
   ]
  },
  {
   "cell_type": "markdown",
   "metadata": {},
   "source": [
    "And, finally, use the newly-defined file name to actually load and plot the data:"
   ]
  },
  {
   "cell_type": "code",
   "execution_count": null,
   "metadata": {},
   "outputs": [],
   "source": [
    "# Define a NumPy array that stores the volume used in each trial\n",
    "Volumes = np.array([3,5,10,20,30,40])\n",
    "\n",
    "# Check the length of the Volumes array and store the result in a variable called Npts. \n",
    "# In this case, len(Volumes) is equivalent to np.shape(Volumes)[0].\n",
    "# The variable Npts should end up with the value 6, since Volumes contains 6 elements. \n",
    "Npts = len(Volumes)\n",
    "\n",
    "\n",
    "# Now loop through n-values from 0 to Npts\n",
    "for n in range(0, Npts):\n",
    "    \n",
    "    # Define a new variable V whose value is Volumes[n]\n",
    "    Vol = Volumes[n]\n",
    "    \n",
    "    # Define the corresponding file name:\n",
    "    fname = 'Lab3a/' + str(Vol) + 'uL.txt'\n",
    "    \n",
    "    # Load the data\n",
    "    dat = np.loadtxt(fname)\n",
    "    \n",
    "    # The first column is the time axis\n",
    "    taxis = dat[:,0]\n",
    "    \n",
    "    # The second column stores the Voltage\n",
    "    Vdat = dat[:,1]\n",
    "    \n",
    "    # We convert voltage to pressure by multiplying by the ratio\n",
    "    # (760 Torr) / ( V at 760 Torr)\n",
    "    Pdat = Vdat*(760.0/V760)\n",
    "    \n",
    "    # Plot the data\n",
    "    plt.plot(taxis, Pdat, '.', label=str(Vol) + 'uL')\n",
    "    \n",
    "# Be sure to add x and y labels and a legend\n",
    "plt.ylabel('Pressure (Torr)')\n",
    "plt.xlabel('Time (s)')\n",
    "plt.legend()\n",
    "    \n",
    "plt.show()"
   ]
  },
  {
   "cell_type": "markdown",
   "metadata": {},
   "source": [
    "## 3. Fit the data\n",
    "\n",
    "Now we'll use the `np.polyfit()` and `np.poly1d` functions to fit and plot our data against the linear model\n",
    "$$P(t) = z[0]\\cdot t + z[1]$$"
   ]
  },
  {
   "cell_type": "code",
   "execution_count": null,
   "metadata": {},
   "outputs": [],
   "source": [
    "# Define a NumPy array that stores the volume used in each trial\n",
    "Volumes = np.array([3,5,10,20,30,40])\n",
    "\n",
    "# Check the length of the Volumes array and store the result in a variable called Npts. \n",
    "# In this case, len(Volumes) is equivalent to np.shape(Volumes)[0].\n",
    "# The variable Npts should end up with the value 6, since Volumes contains 6 elements. \n",
    "Npts = len(Volumes)\n",
    "\n",
    "\n",
    "# Now loop through n-values from 0 to Npts\n",
    "for n in range(0, Npts):\n",
    "    \n",
    "    # Define a new variable V whose value is Volumes[n]\n",
    "    Vol = Volumes[n]\n",
    "    \n",
    "    # Define the corresponding file name:\n",
    "    fname = 'Lab3a/' + str(Vol) + 'uL.txt'\n",
    "    \n",
    "    # Load the data\n",
    "    dat = np.loadtxt(fname)\n",
    "    \n",
    "    # The first column is the time axis\n",
    "    taxis = dat[:,0]\n",
    "    \n",
    "    # The second column stores the Voltage\n",
    "    Vdat = dat[:,1]\n",
    "    \n",
    "    # We convert voltage to pressure by multiplying by the ratio\n",
    "    # (760 Torr) / ( V at 760 Torr)\n",
    "    Pdat = Vdat*(760.0/V760)\n",
    "    \n",
    "    # Plot the data\n",
    "    plt.plot(taxis, Pdat, '.', label=str(Vol) + 'uL')\n",
    "    \n",
    "    # Fit the data\n",
    "    z = np.polyfit(taxis, Pdat, 1)\n",
    "    \n",
    "    # z now contains the fit parameters\n",
    "    #   z[0] is the slope\n",
    "    #   z[1] is the y-intercept\n",
    "    \n",
    "    # np.poly1d(z) defines a Python function that gives the value\n",
    "    # of the best-fit line for any given value of time\n",
    "    polyfun = np.poly1d(z)\n",
    "    \n",
    "    # Now we plot the best-fit line at each point on the taxis:\n",
    "    plt.plot(taxis, polyfun(taxis), 'k')\n",
    "        \n",
    "# Be sure to add x and y labels and a legend\n",
    "plt.ylabel('Pressure (Torr)')\n",
    "plt.xlabel('Time (s)')\n",
    "plt.legend()\n",
    "    \n",
    "plt.show()"
   ]
  },
  {
   "cell_type": "markdown",
   "metadata": {},
   "source": [
    "## 4. Plot the fit parameters as a function of initial pressure\n",
    "\n",
    "Finally, we want to test whether a first-order rate equation describes the data. The slope parameters `z[0]` that we've already defined inside the `for()` loop give the rate at which pressure increases as a function of time, which is *directly proportional* to the rate at which the concentration of tBP decreases.\n",
    "\n",
    "To test whether a first-order rate law accurately describes the data, we thus need just to plot the various `z[0]` fit values as a function of the initial pressure in the reaction vessel, which is directly proportional to the initial concentration of tBP. (In principle, the initial pressure should be directly proportional to the volume of tBP injected, but in practice there's considerable error in that injection process. The measured initial pressure is a much more accurate measure of the initial tBP concentration.) \n",
    "\n",
    "If a first-order rate law is applicable, we should get a linear relationship between the \"Slope\" and \"Initial Pressure\" variables. "
   ]
  },
  {
   "cell_type": "code",
   "execution_count": null,
   "metadata": {},
   "outputs": [],
   "source": [
    "# Define a NumPy array that stores the volume used in each trial\n",
    "Volumes = np.array([3,5,10,20,30,40])\n",
    "\n",
    "# Check the length of the Volumes array and store the result in a variable called Npts. \n",
    "# In this case, len(Volumes) is equivalent to np.shape(Volumes)[0].\n",
    "# The variable Npts should end up with the value 6, since Volumes contains 6 elements. \n",
    "Npts = len(Volumes)\n",
    "\n",
    "\n",
    "# ******************************************************\n",
    "# **************** CHANGES TO THE CODE ****************\n",
    "# Before we enter the for() loop, we create an zeros array\n",
    "# to store the z[0] (slope) values for each volume:\n",
    "Slopes = np.zeros((Npts,))\n",
    "\n",
    "# And another array to store the initial pressures: \n",
    "P0 = np.zeros((Npts,))\n",
    "# ******************************************************\n",
    "\n",
    "\n",
    "# Now loop through n-values from 0 to Npts\n",
    "for n in range(0, Npts):\n",
    "    \n",
    "    # Define a new variable V whose value is Volumes[n]\n",
    "    Vol = Volumes[n]\n",
    "    \n",
    "    # Define the corresponding file name:\n",
    "    fname = 'Lab3a/' + str(Vol) + 'uL.txt'\n",
    "    \n",
    "    # Load the data\n",
    "    dat = np.loadtxt(fname)\n",
    "    \n",
    "    # The first column is the time axis\n",
    "    taxis = dat[:,0]\n",
    "    \n",
    "    # The second column stores the Voltage\n",
    "    Vdat = dat[:,1]\n",
    "    \n",
    "    # We convert voltage to pressure by multiplying by the ratio\n",
    "    # (760 Torr) / ( V at 760 Torr)\n",
    "    Pdat = Vdat*(760.0/V760)\n",
    "    \n",
    "    # Plot the data\n",
    "    plt.plot(taxis, Pdat, '.', label=str(Vol) + 'uL')\n",
    "    \n",
    "    # Fit the data\n",
    "    z = np.polyfit(taxis, Pdat, 1)\n",
    "    \n",
    "    # z now contains the fit parameters\n",
    "    #   z[0] is the slope\n",
    "    #   z[1] is the y-intercept\n",
    "    \n",
    "    # np.poly1d(z) defines a Python function that gives the value\n",
    "    # of the best-fit line for any given value of time\n",
    "    polyfun = np.poly1d(z)\n",
    "    \n",
    "    # Now we plot the best-fit line at each point on the taxis:\n",
    "    plt.plot(taxis, polyfun(taxis), 'k')\n",
    "    \n",
    "    # ******************************************************\n",
    "    # **************** CHANGES TO THE CODE ****************\n",
    "    # Store the slope as the nth element of the Slopes array\n",
    "    Slopes[n] = z[0]\n",
    "    \n",
    "    # Store the initial pressure as the nth element in P0\n",
    "    P0[n] = Pdat[0]\n",
    "    \n",
    "    # ******************************************************\n",
    "    \n",
    "# Be sure to add x and y labels and a legend\n",
    "plt.ylabel('Pressure (Torr)')\n",
    "plt.xlabel('Time (s)')\n",
    "plt.legend()\n",
    "    \n",
    "plt.show()\n",
    "\n",
    "\n",
    "# ******************************************************\n",
    "# **************** CHANGES TO THE CODE ****************\n",
    "\n",
    "# Plot the Slopes array as a function of volume:\n",
    "plt.plot(P0, Slopes, 'o-')\n",
    "plt.xlabel('Initial Pressure (Torr)')\n",
    "plt.ylabel('Initial Rate (Torr/sec)')\n",
    "plt.show()\n",
    "\n",
    "# ******************************************************\n"
   ]
  },
  {
   "cell_type": "markdown",
   "metadata": {},
   "source": [
    "## 5. Add a best-fit line to the Rate vs. Initial Pressure curve\n",
    "\n",
    "This last modification we'll leave up to you. Use the `np.polyfit` and `np.poly1d` functions to plot a best-fit line showing (what should be) the linear relationship between Initial Pressure and Initial Rate. "
   ]
  },
  {
   "cell_type": "code",
   "execution_count": null,
   "metadata": {},
   "outputs": [],
   "source": [
    "# Insert your code here. You can copy-and-paste the last code cell\n",
    "# and then modify the end to add a best-fit line. "
   ]
  },
  {
   "cell_type": "markdown",
   "metadata": {},
   "source": [
    "## 6. Questions!\n",
    "\n",
    "#### Question 1: \n",
    "*Is your data consistent with a first-order reaction mechanism? How can you tell?*"
   ]
  },
  {
   "cell_type": "markdown",
   "metadata": {},
   "source": []
  },
  {
   "cell_type": "markdown",
   "metadata": {},
   "source": [
    "#### Question 2: \n",
    "*What is the slope of your best-fit line in the Initial Rate vs. Initial Pressure plot above. (If necessary, modify your code to print this value.) What are the units on this value? What is its physical significance? (You should be able to relate it to specific parameters in the reaction mechanism discussed in the notes).*"
   ]
  },
  {
   "cell_type": "markdown",
   "metadata": {},
   "source": []
  },
  {
   "cell_type": "markdown",
   "metadata": {},
   "source": [
    "#### Question 3:\n",
    "*When we calculate the initial reaction rate, why do we use only the first 50 seconds of data? What might happen if we were instead to apply our best-fit line to, say, the first 10 minutes of data?*"
   ]
  },
  {
   "cell_type": "markdown",
   "metadata": {},
   "source": []
  },
  {
   "cell_type": "markdown",
   "metadata": {},
   "source": [
    "#### Question 4:\n",
    "\n",
    "*From your data, are you able to extract separate values for the parameters $k_1$, $k_{-1}$, and $k_{\\infty}$ discussed in the pre-lab reading?*"
   ]
  },
  {
   "cell_type": "markdown",
   "metadata": {},
   "source": []
  },
  {
   "cell_type": "markdown",
   "metadata": {},
   "source": [
    "#### Question 5: \n",
    "\n",
    "*Why does the pressure in the chamber **increase** as tBP decomposes? (I.e., if the number of moles of tBP are decreasing, why doesn't pressure decrease?)"
   ]
  },
  {
   "cell_type": "markdown",
   "metadata": {},
   "source": []
  },
  {
   "cell_type": "markdown",
   "metadata": {},
   "source": [
    "#### Question 6:\n",
    "\n",
    "*Given that tBP decomposition is thermally activated, do you expect the reaction rate to increase or decreases (for fixed tBP concentration) with temperature? Why?* "
   ]
  },
  {
   "cell_type": "markdown",
   "metadata": {},
   "source": []
  },
  {
   "cell_type": "markdown",
   "metadata": {},
   "source": [
    "### 6. Submit! \n",
    "\n",
    "As usual, download your notebook as a PDF by selecting File > Download As > PDF via Latex (.pdf) from the dropdown menu at the top right of this window. Then upload the PDF under the Lab3a assignment on the Brightspace page **for your lab section**. <br>\n"
   ]
  }
 ],
 "metadata": {
  "kernelspec": {
   "display_name": "Python 3",
   "language": "python",
   "name": "python3"
  },
  "language_info": {
   "codemirror_mode": {
    "name": "ipython",
    "version": 3
   },
   "file_extension": ".py",
   "mimetype": "text/x-python",
   "name": "python",
   "nbconvert_exporter": "python",
   "pygments_lexer": "ipython3",
   "version": "3.7.7"
  }
 },
 "nbformat": 4,
 "nbformat_minor": 2
}
