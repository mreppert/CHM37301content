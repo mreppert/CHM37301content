{
 "cells": [
  {
   "cell_type": "code",
   "execution_count": 1,
   "metadata": {},
   "outputs": [
    {
     "data": {
      "application/javascript": [
       "IPython.OutputArea.auto_scroll_threshold = 9999\n"
      ],
      "text/plain": [
       "<IPython.core.display.Javascript object>"
      ]
     },
     "metadata": {},
     "output_type": "display_data"
    }
   ],
   "source": [
    "%%javascript\n",
    "IPython.OutputArea.auto_scroll_threshold = 9999"
   ]
  },
  {
   "cell_type": "markdown",
   "metadata": {},
   "source": [
    "## Instructions ##\n",
    "\n",
    "Repeat the experimental procedure from last week, with the variation that you'll use each time an injection volume of 40 $\\mu$L but vary the reaction temperature across the range: 160 $^\\text{o}$C, 167 $^\\text{o}$C, 173 $^\\text{o}$C, and 180 $^\\text{o}$C. For reference, the procedure from last week is reproduced below. The only change is that you should change your file names to reflect the temperature of the run instead of injection volume (e.g., \"160o3.txt\" could represent a run at 160.3 $^\\text{o}$C). Be sure to note the actual temperature of each run since you'll need this data to carry out your analysis. \n",
    "\n",
    "\n",
    "## Procedure ##\n",
    "\n",
    "\n",
    "Your experimental set-up will consist of a thermostated solid aluminum sample cell, which is\n",
    "attached to a copper vacuum line. The cell is fitted with a rubber septum through which you will\n",
    "inject your sample of t-butyl peroxide as a liquid, whereupon it will evaporate and begin to\n",
    "decompose. You will follow the resulting pressure rise electronically by means of a Motorola\n",
    "piezoelectric “pressure transducer” which is mounted on the side of the sample cell. This device\n",
    "produces a voltage output that is proportional to the pressure difference across the transducer.\n",
    "As your reaction proceeds, you will read this voltage (which yields pressure) as a function of\n",
    "time using the HP digital multimeter, which in turn is read into the computer with the LabVIEW\n",
    "program called \"TotalPressure.vi\".\n",
    "\n",
    "\n",
    "The cell is heated by an immersion heater. Temperature is controlled by a proportional\n",
    "controller that senses the temperature of the cell using a thermistor. You will measure the\n",
    "resulting temperatures using an RTD, with its resistive output being read by a digital multimeter.\n",
    "When heating the reaction vessel, you will note that the temperature rises and falls around the\n",
    "intended set-point like that of a sine wave. Therefore, to determine the temperature of the\n",
    "sample cell for each trial, we will take the average of the highest and lowest temperatures as\n",
    "shown by a second LabVIEW program that automatically converts the RTD resistance to\n",
    "temperature during this sine-wave temperature change. Then, notice that the pressure transducer\n",
    "box output (and thus pressure measurements) leads to the first HP DMM. With the green valve\n",
    "open, the vacuum pump connects to the reaction chamber. We will record the voltage shown on\n",
    "this HP DMM, as this value equals the output voltage of the pressure transducer when dP = 760\n",
    "torr. This is because one side of the transducer is measuring the vacuum side pressure, where P\n",
    "= 0 torr, while the other side is reading atmospheric pressure, which we can assume is 760 torr.\n",
    "\n",
    "\n",
    "At each temperature, do the following:\n",
    "\n",
    "1. Record both the high and low temperature values during the sine-wave type pattern, then take the average of these values to calculate the temperature of the cell.\n",
    "\n",
    "2. With the green valve open, record the voltage shown on the HP DMM measuring voltage, as this value equals the output voltage of the pressure transducer when dP = 760 torr. We need this value so that we can convert voltages from the pressure transducer to actual pressures in torr.\n",
    "\n",
    "3. After opening the “TotalPressure.vi”, you should perform the following four steps, **in order**:\n",
    "    * Type the pressure transducer output voltage into the blue box.\n",
    "    * Close the green valve to isolate the evacuated sample cell.\n",
    "    * Inject 40µL of tBP.\n",
    "    * Click the \"START Trial\" button in LabVIEW.\n",
    "    \n",
    "The LabVIEW file is designed to automatically reads the internal total pressure ($P_\\text{tot}$) of the\n",
    "apparatus by subtracting from the variable pressure transducers voltage output during the\n",
    "reaction from the initial constant voltage V$_{760}$, resulting in showing the change of voltage (thus\n",
    "the change in pressure inside chamber, as the outside pressure is constant).\n",
    "\n",
    "Allow the reaction to proceed until the LabVIEW program prompts you to save the data as a\n",
    "text file, which should happen 100 seconds from the start of the trial. After clicking on “OK”,\n",
    "save the file in the “DMM Data” folder, click on “New” and call the trial \"40uL.txt”. Click on “File”\n",
    "so that this data will be stored in the DMM Data folder as a file named 40ul.txt.\n"
   ]
  },
  {
   "cell_type": "code",
   "execution_count": null,
   "metadata": {},
   "outputs": [],
   "source": []
  }
 ],
 "metadata": {
  "kernelspec": {
   "display_name": "Python 3",
   "language": "python",
   "name": "python3"
  },
  "language_info": {
   "codemirror_mode": {
    "name": "ipython",
    "version": 3
   },
   "file_extension": ".py",
   "mimetype": "text/x-python",
   "name": "python",
   "nbconvert_exporter": "python",
   "pygments_lexer": "ipython3",
   "version": "3.7.7"
  }
 },
 "nbformat": 4,
 "nbformat_minor": 2
}
