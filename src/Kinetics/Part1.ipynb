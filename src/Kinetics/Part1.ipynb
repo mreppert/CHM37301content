{
 "cells": [
  {
   "cell_type": "code",
   "execution_count": 1,
   "metadata": {},
   "outputs": [
    {
     "data": {
      "application/javascript": [
       "IPython.OutputArea.auto_scroll_threshold = 9999\n"
      ],
      "text/plain": [
       "<IPython.core.display.Javascript object>"
      ]
     },
     "metadata": {},
     "output_type": "display_data"
    }
   ],
   "source": [
    "%%javascript\n",
    "IPython.OutputArea.auto_scroll_threshold = 9999"
   ]
  },
  {
   "cell_type": "markdown",
   "metadata": {},
   "source": [
    "## Introduction ##\n",
    "\n",
    "To track the decomposition of tBP, you'll monitor the pressure inside a sealed, temperature-stabilized reaction chamber. To understand how this pressure monitoring works, you'll need to know a bit more about the secondary reactions that follow tBP decomposition.\n",
    "\n",
    "##  Secondary Reactions ##\n",
    "\n",
    "After tBP decomposition, the two radical fragments $\\text{(CH}_3)_3\\text{CO}^\\bullet$ quickly react to form acetone and ethane:<br><br>\n",
    "$$ 2 \\text{(CH}_3)_3\\text{CO}^\\bullet \\to 2 \\text{CH}_3\\text{CO}\\text{CH}_3 + 2 \\text{CH}_3^\\bullet$$<br>\n",
    "$$ 2 \\text{CH}_3^\\bullet \\to \\text{C}_2\\text{H}_6.$$<br>\n",
    "Thus the *total* reaction from the thermal decomposition of one molecule of tBP is:<br><br>\n",
    "$$\\text{(CH}_3)_3\\text{CO-OC(CH}_3)_3 \\to 2 \\text{CH}_3\\text{CO}\\text{CH}_3 + \\text{C}_2\\text{H}_6 .$$<br>\n",
    "In analyzing our experimental data, we'll need to be aware that we're not really monitoring only the *decomposition* of tBP but also the *formation* of ethane and acetone. \n",
    "\n",
    "\n",
    "##  Pressure Monitoring ##\n",
    "\n",
    "The end result here is that tBP decomposition leads to the *loss* of one tBP molecule but also to the *gain* of 3 new molecules (one ethane and two acetone). Under ideal gas conditions (where pressure is directly proportional to the total number of molecules in the gas phase), this translates directly into a change in pressure. In fact, the total pressure is just \n",
    "\n",
    "$$P_\\text{tot} = P_\\text{tBP} + P_\\text{ethane} + P_\\text{acetone} = N_\\text{total} \\frac{RT}{V},  $$\n",
    "\n",
    "where $N_\\text{tot} = N_\\text{tBP} + N_\\text{ethane} + N_\\text{acetone} $ is the total number of moles in the gas phase. Since the number of moles *lost* of tBP is equal to the number of moles *formed* of acetone, we have\n",
    "$$ N_\\text{acetone} = \\Delta N_\\text{tBP} = N_\\text{tBP}^\\text{o} - N_\\text{tBP}.$$\n",
    "\n",
    "Here $N_\\text{tBP}^\\text{o}$ is the number of moles of tBP initially present in the reaction vessel, while $N_\\text{tBP}$ is the number of moles remaining at some later point during the experiment. Similarly, since two moles of ethane are formed for each mole of tBP lost\n",
    "\n",
    "$$ N_\\text{ethane} = 2 \\Delta N_\\text{tBP}.$$\n",
    "\n",
    "\n",
    "\n",
    "The total number of moles in the gas phase at any given time is thus\n",
    "\n",
    "\\begin{align}\n",
    "N_\\text{tot} &= N_\\text{tBP} + N_\\text{acetone} + N_\\text{ethane} \\\\\n",
    "&= N_\\text{tBP} + 3 \\Delta N_\\text{tBP}\\\\\n",
    "&= N_\\text{tBP} + 3 \\left( N_\\text{tBP}^\\text{o} - N_\\text{tBP} \\right) \\\\\n",
    "&= 3 N_\\text{tBP}^\\text{o} - 2 N_\\text{tBP} .\n",
    "\\end{align}\n",
    "Rearranging to solve for $N_\\text{tBP}$, we get<br>\n",
    "$$N_\\text{tBP} = \\frac{3 N_\\text{tBP}^\\text{o} - N_\\text{tot} }{2}. $$\n",
    "Applying the ideal gas law, we have \n",
    "\\begin{align}\n",
    "N_\\text{tBP} &= \\frac{V}{RT} \\frac{3 N_\\text{tBP}^\\text{o}\\frac{RT}{V} - N_\\text{tot} \\frac{RT}{V}}{2} = \\frac{\\left( 3 P_\\text{o} - P_\\text{tot} \\right) V}{2RT} .\n",
    "\\end{align}\n",
    "where $P_\\text{o}$ is the initial pressure in the reaction vessel, and $P_\\text{tot}$ is the total pressure in the vessel as a function of time during the measurement. By monitoring the pressure, we can thus calculate the number of moles of tBP present in the reaction vessel at any point in time. The molar concentration is equivalently $N_\\text{tBP} / V$, i.e., \n",
    "$$ [\\text{tBP}] = \\frac{ 3 P_\\text{o} - P_\\text{tot}}{2RT} .$$\n",
    "\n",
    "## Reaction Rate ## \n",
    "\n",
    "In this first lab, you'll be primarily concerned with the *rate* of tBP decomposition, i.e., the quantity <br><br>\n",
    "$$ - \\frac{d[\\text{tBP}]}{dt} = - \\frac{d}{dt} \\frac{\\left( 3 P_\\text{o} - P_\\text{tot} \\right) }{2RT} = \\frac{1}{2RT} \\frac{dP_\\text{tot}}{dt} .$$\n",
    "\n",
    "In your data today, you'll directly measure $P_\\text{tot}$ as a function of time. In the analysis portion of the lab, you'll then calculate the slope of the $P_\\text{tot}(t)$ curve during the initial stages of the reaction when it is essentially linear in time. That initial slope in turn gives you an estimate for the reaction rate $\\frac{dP_\\text{tot}}{dt} $ in the early stages of reaction. You'll tabulate reaction rates for a several different starting pressures and compare these measurements to the high-pressure rate law <br><br>\n",
    "$$ - \\frac{d[\\text{tBP}]}{dt} = k_\\infty [ \\text{tBP}] .$$"
   ]
  },
  {
   "cell_type": "markdown",
   "metadata": {},
   "source": [
    "## Procedure ##\n",
    "\n",
    "Your experimental set-up will consist of a thermostated solid aluminum sample cell, which is\n",
    "attached to a copper vacuum line. The cell is fitted with a rubber septum through which you will\n",
    "inject your sample of t-butyl peroxide as a liquid, whereupon it will evaporate and begin to\n",
    "decompose. You will follow the resulting pressure rise electronically by means of a Motorola\n",
    "piezoelectric “pressure transducer” which is mounted on the side of the sample cell. This device\n",
    "produces a voltage output that is proportional to the pressure difference across the transducer.\n",
    "As your reaction proceeds, you will read this voltage (which yields pressure) as a function of\n",
    "time using the HP digital multimeter, which in turn is read into the computer with the LabVIEW\n",
    "program called \"TotalPressure.vi\".\n",
    "\n",
    "\n",
    "The cell is heated by an immersion heater. Temperature is controlled by a proportional\n",
    "controller that senses the temperature of the cell using a thermistor. You will measure the\n",
    "resulting temperatures using an RTD, with its resistive output being read by a digital multimeter.\n",
    "When heating the reaction vessel, you will note that the temperature rises and falls around the\n",
    "intended set-point like that of a sine wave. Therefore, to determine the temperature of the\n",
    "sample cell for each trial, we will take the average of the highest and lowest temperatures as\n",
    "shown by a second LabVIEW program that automatically converts the RTD resistance to\n",
    "temperature during this sine-wave temperature change. Then, notice that the pressure transducer\n",
    "box output (and thus pressure measurements) leads to the first HP DMM. With the green valve\n",
    "open, the vacuum pump connects to the reaction chamber. We will record the voltage shown on\n",
    "this HP DMM, as this value equals the output voltage of the pressure transducer when dP = 760\n",
    "torr. This is because one side of the transducer is measuring the vacuum side pressure, where P\n",
    "= 0 torr, while the other side is reading atmospheric pressure, which we can assume is 760 torr.\n",
    "\n",
    "\n",
    "At each temperature, do the following:\n",
    "\n",
    "1. Record both the high and low temperature values during the sine-wave type pattern, then take the average of these values to calculate the temperature of the cell.\n",
    "\n",
    "2. With the green valve open, record the voltage shown on the HP DMM measuring voltage, as this value equals the output voltage of the pressure transducer when dP = 760 torr. We need this value so that we can convert voltages from the pressure transducer to actual pressures in torr.\n",
    "\n",
    "3. After opening the “TotalPressure.vi”, you should perform the following four steps, **in order**:\n",
    "    * Type the pressure transducer output voltage into the blue box.\n",
    "    * Close the green valve to isolate the evacuated sample cell.\n",
    "    * Inject 40µL of tBP.\n",
    "    * Click the \"START Trial\" button in LabVIEW.\n",
    "    \n",
    "The LabVIEW file is designed to automatically reads the internal total pressure ($P_\\text{tot}$) of the\n",
    "apparatus by subtracting from the variable pressure transducers voltage output during the\n",
    "reaction from the initial constant voltage V$_{760}$, resulting in showing the change of voltage (thus\n",
    "the change in pressure inside chamber, as the outside pressure is constant).\n",
    "\n",
    "Allow the reaction to proceed until the LabVIEW program prompts you to save the data as a\n",
    "text file, which should happen 100 seconds from the start of the trial. After clicking on “OK”,\n",
    "save the file in the “DMM Data” folder, click on “New” and call the trial “40ul”. Click on “File”\n",
    "so that this data will be stored in the DMM Data folder as a file named 40ul.\n",
    "\n",
    "\n",
    "Follow the instructions on the computer handout to properly load the data into the Igor Pro\n",
    "graphing program called “Kinetics”.\n",
    "\n",
    "Repeat the above procedure for other initial pressures during the\n",
    "first week, calling these trials **30ul**, **20ul**, **10ul**, **5ul** and **3ul**."
   ]
  },
  {
   "cell_type": "code",
   "execution_count": null,
   "metadata": {},
   "outputs": [],
   "source": []
  }
 ],
 "metadata": {
  "kernelspec": {
   "display_name": "Python 3",
   "language": "python",
   "name": "python3"
  },
  "language_info": {
   "codemirror_mode": {
    "name": "ipython",
    "version": 3
   },
   "file_extension": ".py",
   "mimetype": "text/x-python",
   "name": "python",
   "nbconvert_exporter": "python",
   "pygments_lexer": "ipython3",
   "version": "3.7.7"
  }
 },
 "nbformat": 4,
 "nbformat_minor": 2
}
