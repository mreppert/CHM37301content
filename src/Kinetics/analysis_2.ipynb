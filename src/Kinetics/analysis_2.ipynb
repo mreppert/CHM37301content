{
 "cells": [
  {
   "cell_type": "markdown",
   "metadata": {},
   "source": [
    "## Kinetics Par 2: Extracting $k_\\infty$ as a function of temperature ##\n",
    "\n",
    "Last week we verified that tBP decomposition follows the first-order rate equation<br><br>\n",
    "$$ - \\frac{d[\\text{tBP}]}{dt} = k_\\infty [ \\text{tBP}]. $$<br>\n",
    "This last equation can be integrated by separating variables. Informally, this looks like just multiplying through by $dt$ to get the differential relation<br><br>\n",
    "$$\\frac{1}{[\\text{tBP}]} d[\\text{tBP}] = - k_\\infty  dt .$$<br>\n",
    "Integrating both sides gives<br><br>\n",
    "$$ \\ln [\\text{tBP}] = - k_\\infty t + \\ln [\\text{tBP}]_0.$$<br>\n",
    "\n",
    "Using the ideal gas law, we also derived an expression for expressing $[\\text{tBP}]$ in terms of the total pressure ($P_\\text{tot}$) and initial pressure ($P_\\text{o}$) in the reaction chamber:<br><br>\n",
    "$$ [\\text{tBP}] = \\frac{ 3 P_\\text{o} - P_\\text{tot}}{2RT}. $$<br>\n",
    "\n",
    "\n",
    "Combining these two expressions gives<br><br>\n",
    "$$ \\ln \\frac{ 3 P_\\text{o} - P_\\text{tot}}{2RT} = - k_\\infty t + \\ln [\\text{tBP}]_0$$<br>\n",
    "or<br><br>\n",
    "$$ \\ln \\frac{ 3 P_\\text{o} - P_\\text{tot} }{2} = - k_\\infty t + \\ln [\\text{tBP}]_0 + \\ln RT .$$<br>\n",
    "\n",
    "Thus we see that the quantity $\\ln \\frac{3 P_\\text{o} - P_\\text{tot}}{2}$ (representing the partial pressure of tBP as a function of time) is **linearly proportional** to reaction time, with a slope of $-k_\\infty$. In the analysis code below, you'll make use of this relationship by plotting the quantity $\\ln \\frac{ 3 P_\\text{o} - P_\\text{tot} }{2}$ as a function of $t$ and using the slope of the resulting best-fit line to determine $k_\\infty$ from the relationship:\n",
    "$$\\text{slope} = - k_\\infty. $$\n",
    "Let's get started!\n",
    "\n",
    "## Data Types ##\n",
    "\n",
    "In lab, you should have collected two types of data:\n",
    "* A set of four text files (e.g., 5uL.txt) that contain voltage readings from the pressure sensor as a function of time. Although you should record the temperature to an extra decimal point (e.g., 160.2 $^\\text{o}$C, these should correspond roughly to the temperatures\n",
    "   * 160 $^\\text{o}$C\n",
    "   * 167 $^\\text{o}$C\n",
    "   * 173 $^\\text{o}$C\n",
    "   * 180 $^\\text{o}$C\n",
    "   \n",
    "* A set of V760 values that indicate the voltage of the pressure meter at a pressure difference of 760 Torr. \n",
    "\n",
    "You'll need both types of data to complete your assignment. \n",
    "\n",
    "\n",
    "## 0. Enter and average your V760 values\n",
    "\n",
    "First, enter your V760 values into the `V760vals` array below. The code will then average those values to get a single `V760` parameter that you'll use later to convert between voltage and pressure. \n"
   ]
  },
  {
   "cell_type": "code",
   "execution_count": null,
   "metadata": {},
   "outputs": [],
   "source": [
    "import numpy as np\n",
    "import matplotlib.pyplot as plt\n",
    "plt.rcParams.update({'font.size': 16})\n",
    "\n",
    "# Enter your measured V760 values from each trial in the\n",
    "# V760vals array below. \n",
    "V760vals = np.array([])\n",
    "\n",
    "# This line takes the average (mean) of the V760 values and\n",
    "# stores them in a new float variable called V760. \n",
    "V760 = np.mean(V760vals)"
   ]
  },
  {
   "cell_type": "markdown",
   "metadata": {},
   "source": [
    "## 1. Upload data and enter temperatures and file names\n",
    "\n",
    "Next, create a 'Kinetics_2' folder and upload your four experimental data files to it. \n",
    "\n",
    "Then enter the temperature for each of the four trials into the `Temps` array and the file names (in quotes) inside the `fnames` list. \n",
    "\n",
    "Note that `Temps` is a NumPy array, while we leave `fnames` as a Python list since its elements are strings rather than numerical values. "
   ]
  },
  {
   "cell_type": "code",
   "execution_count": null,
   "metadata": {},
   "outputs": [],
   "source": [
    "# Enter your temperatures in degrees C. The \"+ 273.15\" at the end converts to K\n",
    "Temps = np.array([]) + 273.15\n",
    "\n",
    "# Enter your file names inside double or single quotes, e.g. \"160C.txt\"\n",
    "fnames = []"
   ]
  },
  {
   "cell_type": "markdown",
   "metadata": {},
   "source": [
    "## 2. Now use a `for()` loop to import, plot, and fit your data\n",
    "\n",
    "Now adapt the `for()` loop below to import, plot, and fit your data. The code will look very similar to your final code from Lab3a, but instead of fitting the Pressure data directly against the time axis, you'll fit the quantity $\\ln \\frac{ 3 P_\\text{o} - P_\\text{tot} }{2}$ (stored in the vector `ydat`). I've started the code for you, but you'll need to add code both inside and after the `for()` loop to fit and plot each line and to store the slopes in the `Slopes'` array. \n",
    "\n",
    "Don't forget to (correctly) label your $x$- and $y$-axes!"
   ]
  },
  {
   "cell_type": "code",
   "execution_count": null,
   "metadata": {},
   "outputs": [],
   "source": [
    "Ntemps = len(Temps)\n",
    "\n",
    "Slopes = np.zeros((Ntemps,))\n",
    "\n",
    "# And another array to store the initial pressures: \n",
    "P0 = np.zeros((Ntemps,))\n",
    "\n",
    "# Now loop through n-values from 0 to Npts\n",
    "for n in range(0, Ntemps):\n",
    "    \n",
    "    # Define the corresponding file name:\n",
    "    fname = 'Kinetics_2/' + fnames[n]\n",
    "    \n",
    "    # Load the data\n",
    "    dat = np.loadtxt(fname)\n",
    "    \n",
    "    # The first column is the time axis\n",
    "    taxis = dat[:,0]\n",
    "    \n",
    "    # The second column stores the Voltage\n",
    "    Vdat = dat[:,1]\n",
    "    \n",
    "    # We convert voltage to pressure by multiplying by the ratio\n",
    "    # (760 Torr) / ( V at 760 Torr)\n",
    "    Pdat = Vdat*(760.0/V760)\n",
    "    \n",
    "    ydata = np.log( (3*Pdat[0] - Pdat)/2 )\n",
    "    \n",
    "    #***********************************************************#\n",
    "    ## Now add the code needed to \n",
    "    # 1. Plot ydata as a function of taxis\n",
    "    #    -- Hint: Set the data label to: str(Temps[n]) + ' K'\n",
    "    # 2. Create a linear fit of ydata against taxis\n",
    "    # 3. Plot the best-fit line\n",
    "    # 4. Store the slope of the best-fit line in the Slopes array\n",
    "    #***********************************************************#\n",
    "    \n",
    "# Be sure to add x and y labels and a legend\n",
    "plt.ylabel('Pressure (Torr)')\n",
    "plt.xlabel('Time (s)')\n",
    "plt.legend()\n",
    "    \n",
    "plt.show()"
   ]
  },
  {
   "cell_type": "markdown",
   "metadata": {},
   "source": [
    "## 3. Create an Arrhenius Plot\n",
    "\n",
    "Finally, we need to create an Arrhenius plot and calculate the slope to estimate the activation energy $E_\\text{a}$ for the reaction. You'll need to write the code for this yourself, but here's a \"to-do\" list to get you started:\n",
    "1. Create a vector called `lnk` that stores the values of $\\ln k_\\infty$ for each temperature. (Hint: How is $\\ln k$ related to the slope of your best-fit lines from above?)\n",
    "2. Create a second vector `InvT` that stores the inverse temperature of each trial (i.e., the quantity $\\frac{1}{T}$). \n",
    "3. Plot `lnk` against `InvT`.\n",
    "4. Use `np.polyfit()` to calculate linear best-fit parameters for `lnk` against `InvT`. \n",
    "5. Calculate the activation energy from the slope of the best-fit line. (Report this in both kJ/mol and kCal/mol)."
   ]
  },
  {
   "cell_type": "code",
   "execution_count": null,
   "metadata": {},
   "outputs": [],
   "source": []
  },
  {
   "cell_type": "markdown",
   "metadata": {},
   "source": [
    "## 6. Questions!\n",
    "\n",
    "Based on your observations and analysis, answer the questions below. \n",
    "\n",
    "#### Arrhenius Law ####\n",
    "<span style=\"color:red; font-size:14pt; margin:20pt\">Is your data consistent with the Arrhenius law? How can you tell? </span>"
   ]
  },
  {
   "cell_type": "markdown",
   "metadata": {},
   "source": []
  },
  {
   "cell_type": "markdown",
   "metadata": {},
   "source": [
    "#### Pressure behavior on a longer time scale ####\n",
    "\n",
    "<span style=\"color:red; font-size:14pt; margin:20pt\">Over the limited time scale of 100s, it's a little difficult to see the exponential shape of the tBP decomposition curve. The code cell below loads data from a file 'Ptrace.csv' that contains a pressure trace over 2000s. Over this longer time scale, you can much more easily discern the overall exponential shape of the $P_\\text{tot}$ growth curve. </span>\n",
    "\n",
    "<span style=\"color:red; font-size:14pt; margin:20pt\">The current plot shows only the total pressure $P_\\text{tot}$ as a function of time. The partial pressure from tBP is related to the total pressure by the relationship<br>\n",
    "$$P_\\text{tBP} = \\frac{3 P_\\text{tBP}^\\text{o} - P_\\text{tot} }{2}. $$</span>\n",
    "\n",
    "<span style=\"color:red; font-size:14pt; margin:20pt\">Modify the code block below to plot $P_\\text{tBP}$ as a function of time. Does its behavior look exponential?</span>"
   ]
  },
  {
   "cell_type": "code",
   "execution_count": null,
   "metadata": {},
   "outputs": [],
   "source": [
    "dat = np.loadtxt('Ptrace.csv', delimiter=',')\n",
    "taxis = dat[:,0]\n",
    "Ptot = dat[:,1]\n",
    "\n",
    "plt.plot(taxis, Ptot, 'k', label='P$_{tot}$')\n",
    "\n",
    "plt.xlabel('Time (s)')\n",
    "plt.ylabel('Pressure (Torr)')\n",
    "\n",
    "plt.legend()\n",
    "\n",
    "plt.show()"
   ]
  },
  {
   "cell_type": "code",
   "execution_count": null,
   "metadata": {},
   "outputs": [],
   "source": []
  },
  {
   "cell_type": "markdown",
   "metadata": {},
   "source": [
    "#### Logarithm Plot ####\n",
    "\n",
    "<span style=\"color:red; font-size:14pt; margin:20pt\">In the code cell below, copy and paste the code from the last block and then modify it to plot only $\\ln P_\\text{tBP}$ instead of both $P_\\text{tot}$ and $P_\\text{tBP}$. Compared to the last plot, is it harder or easier now to tell whether the decay of tBP is **exactly** exponential? Why might the data *not* be exactly exponential? </span>"
   ]
  },
  {
   "cell_type": "markdown",
   "metadata": {},
   "source": []
  },
  {
   "cell_type": "code",
   "execution_count": null,
   "metadata": {},
   "outputs": [],
   "source": []
  },
  {
   "cell_type": "markdown",
   "metadata": {},
   "source": [
    "#### Fitting Procedure ####\n",
    "\n",
    "<span style=\"color:red; font-size:14pt; margin:20pt\">Based on your answer to the last question, why do you think we extracted our Arrhenius law calculations from a plot of $\\ln k_\\infty$ as a function of $1/T$ rather than simply plotting $k_\\infty$ directly as a function of $T$? (There are curve-fitting libraries in Python to fit all kinds of possible functional forms, so we aren't really limited to simple linear least-squares fits.) </span>"
   ]
  },
  {
   "cell_type": "markdown",
   "metadata": {},
   "source": []
  },
  {
   "cell_type": "markdown",
   "metadata": {},
   "source": [
    "### 6. Submit! \n",
    "\n",
    "As usual, download your notebook as a PDF by selecting File > Download As > PDF via Latex (.pdf) from the dropdown menu at the top right of this window. Then upload the PDF under the Kinetics Part 2 assignment on the course Brightspace page. <br>\n"
   ]
  },
  {
   "cell_type": "code",
   "execution_count": null,
   "metadata": {},
   "outputs": [],
   "source": []
  }
 ],
 "metadata": {
  "kernelspec": {
   "display_name": "Python 3.8",
   "language": "python",
   "name": "python3"
  },
  "language_info": {
   "codemirror_mode": {
    "name": "ipython",
    "version": 3
   },
   "file_extension": ".py",
   "mimetype": "text/x-python",
   "name": "python",
   "nbconvert_exporter": "python",
   "pygments_lexer": "ipython3",
   "version": "3.8.10"
  },
  "toc": {
   "base_numbering": 1,
   "nav_menu": {},
   "number_sections": true,
   "sideBar": true,
   "skip_h1_title": false,
   "title_cell": "Table of Contents",
   "title_sidebar": "Contents",
   "toc_cell": false,
   "toc_position": {},
   "toc_section_display": true,
   "toc_window_display": false
  },
  "varInspector": {
   "cols": {
    "lenName": 16,
    "lenType": 16,
    "lenVar": 40
   },
   "kernels_config": {
    "python": {
     "delete_cmd_postfix": "",
     "delete_cmd_prefix": "del ",
     "library": "var_list.py",
     "varRefreshCmd": "print(var_dic_list())"
    },
    "r": {
     "delete_cmd_postfix": ") ",
     "delete_cmd_prefix": "rm(",
     "library": "var_list.r",
     "varRefreshCmd": "cat(var_dic_list()) "
    }
   },
   "types_to_exclude": [
    "module",
    "function",
    "builtin_function_or_method",
    "instance",
    "_Feature"
   ],
   "window_display": false
  }
 },
 "nbformat": 4,
 "nbformat_minor": 2
}
