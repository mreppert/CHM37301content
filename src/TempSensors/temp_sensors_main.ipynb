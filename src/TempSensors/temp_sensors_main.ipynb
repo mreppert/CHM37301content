{
 "cells": [
  {
   "cell_type": "code",
   "execution_count": 4,
   "metadata": {},
   "outputs": [
    {
     "data": {
      "application/javascript": [
       "IPython.OutputArea.auto_scroll_threshold = 9999\n"
      ],
      "text/plain": [
       "<IPython.core.display.Javascript object>"
      ]
     },
     "metadata": {},
     "output_type": "display_data"
    }
   ],
   "source": [
    "%%javascript\n",
    "IPython.OutputArea.auto_scroll_threshold = 9999"
   ]
  },
  {
   "cell_type": "markdown",
   "metadata": {},
   "source": [
    "# Temperature Sensor Experiment"
   ]
  },
  {
   "cell_type": "markdown",
   "metadata": {},
   "source": [
    "### Background ###\n",
    "\n",
    "In this first experiment you will perform a simple set of temperature measurements with two different types of temperature sensors and then plot and analyze the results using a Jupyter Notebook and the Python programming language. The goals of this experiment are as follows:\n",
    "\n",
    "1. To introduce you to **two different types of electronic temperature sensor** -- and hopefully to get you thinking about how different types of instruments affect experimental measurements. \n",
    "\n",
    "2. To introduce you to **Python programming using the Jupyter Notebook interface** on nanoHUB.org. \n",
    "\n",
    "3. To introduce **Python commands** for three basic operations:\n",
    "    - Manually entering data into a Jupyter Notebook\n",
    "    - Automatically importing data into Jupyter Notebook from a text file\n",
    "    - Plotting data using the NumPy and Matplotlib libraries. \n",
    "\n",
    "You'll use these operations in almost every lab this semester, so use this opportunity to learn how they work. In this first lab, all the Python code will be provided for you, but later in the semester you'll have to learn to write the code yourself!\n",
    "\n",
    "Background reading on temperature sensors can be found in Shoemaker, Garland and Nibler *Experiments in Physical Chemistry*, 5th ed p. 654-661. \n",
    "\n",
    "### Electronic Temperature Sensors ###\n",
    "\n",
    "In this lab, you'll use two different types of electronic temperature sensors: the RTD and the thermistor."
   ]
  },
  {
   "cell_type": "code",
   "execution_count": 1,
   "metadata": {},
   "outputs": [
    {
     "data": {
      "application/vnd.jupyter.widget-view+json": {
       "model_id": "61c7513a3c364f4dbb3b9d1245009176",
       "version_major": 2,
       "version_minor": 0
      },
      "text/plain": [
       "VBox(children=(Output(), Accordion(children=(Output(),), selected_index=None, _titles={'0': 'Resistance Temper…"
      ]
     },
     "metadata": {},
     "output_type": "display_data"
    },
    {
     "data": {
      "application/vnd.jupyter.widget-view+json": {
       "model_id": "38d974f1ead8465480d782d3c67b9095",
       "version_major": 2,
       "version_minor": 0
      },
      "text/plain": [
       "VBox(children=(Output(), Accordion(children=(Output(),), selected_index=None, _titles={'0': 'Thermistor'})))"
      ]
     },
     "metadata": {},
     "output_type": "display_data"
    }
   ],
   "source": [
    "from IPython.display import display_markdown\n",
    "import ipywidgets as widgets\n",
    "from ipywidgets import Layout\n",
    "\n",
    "def make_title_font(text):\n",
    "    text = '<span style=\"font-size:large; font-weight:bold\">' + text + '</span>'\n",
    "    return text\n",
    "\n",
    "def make_def_box(topic, shortdef, longdef):\n",
    "    Head = widgets.Output()\n",
    "    Body = widgets.Output()\n",
    "    Accord = widgets.Accordion(children=[Body], selected_index=None)\n",
    "    Accord.set_title(0, shortdef)\n",
    "    \n",
    "    with Head:\n",
    "        display_markdown(make_title_font(topic) + \":\", raw=True)\n",
    "        \n",
    "    with Body:\n",
    "        display_markdown(longdef, raw=True)\n",
    "        \n",
    "    return widgets.VBox([Head, Accord])\n",
    "\n",
    "\n",
    "TempBoxes = []\n",
    "\n",
    "TempBoxes.append(make_def_box('RTD', \n",
    "     'Resistance Temperature Diode', \n",
    "     'An RTD is just a coil of very pure platinum wire which acts as a metallic\\\n",
    "     conductor that has a calibrated change of resistance with temperature. The reason \\\n",
    "     that the resistance of an RTD increases with temperature is that electrons\\\n",
    "     are scattered by thermal vibrations, or phonons, in the platinum. \\\n",
    "     Electrons in metals move about freely in the conduction band. The resistance\\\n",
    "     is therefore low, but increases when increasing temperature disturbs the \\\n",
    "     crystal structure. The resistance of an RTD changes nearly linearly with \\\n",
    "     temperature. RTD’s have excellent reproducibility, making them the standard\\\n",
    "     for measuring temperatures between -190 $^\\\\text{o}$C and +600 $^\\\\text{o}$C. However, they have\\\n",
    "     drawbacks owing to the high cost  of the platinum and a large\\\n",
    "     time lag due to the mass of the thermometer. For practical and accurate\\\n",
    "     measurements of temperature from measured resistance, T (in Kelvin) is \\\n",
    "     represented by the following fourth-order polynomial in R (where R is in ohms):<br><br>\\\n",
    "     $$T = a_0 + a_1\\cdot R + a_2 \\cdot R^2 + a_3 \\cdot R^3 + a_4 \\cdot R^4$$\\\n",
    "     <br>where<br><br>\\\n",
    "     $$a_0 = 31.1786 \\\\text{ K}$$\\\n",
    "     $$a_1 = 2.2181 \\\\text{ K}/\\\\text{ohm}$$\\\n",
    "     $$a_2 = 2.8514\\cdot 10^{-3} \\\\text{ K}/\\\\text{ohm}^2$$\\\n",
    "     $$a_3 = -1.0567\\cdot 10^{-5} \\\\text{ K}/\\\\text{ohm}^3$$\\\n",
    "     $$a_4 = 2.2087\\cdot 10^{-8} \\\\text{ K}/\\\\text{ohm}^4$$\\\n",
    "     <br> are empirically determined coefficients for platinum wire.<br><br> \\\n",
    "     **Technical Note**: Since the nominal resistance of the RTD is small (~110 Ω at room T), \\\n",
    "     stray resistance in the lead wires used to hook up the sensor (~0.5 Ω \\\n",
    "     resistance) can significantly affect the measured resistance. In order \\\n",
    "     to avoid this problem, you will use a four-lead circuit illustrated in [this figure](RTD_diagram.png), \\\n",
    "     which cancels out the resistance of the wires connecting the RTD to the \\\n",
    "     digital multimeter.'))\n",
    "\n",
    "TempBoxes.append(make_def_box('Thermistor', \n",
    "     'Thermistor', \n",
    "     'A thermistor is a semiconductor-based temperature sensor, consisting of\\\n",
    "     sintered mixtures of metallic oxides such as NiO, Mn$_2$O$_3$ and Co$_2$O$_3$. \\\n",
    "     Thermistors are very useful for measuring small temperature changes and \\\n",
    "     differences. Electrons in semiconductors must pass over energy barriers \\\n",
    "     to get into the conduction band, and therefore do not move freely. The \\\n",
    "     resistance is therefore high, but its resistance decreases with increasing \\\n",
    "     temperature because more electrons are elevated to energies high enough to \\\n",
    "     reach the conduction band as the temperature increases. A thermistor has a \\\n",
    "     nominally exponential dependence of resistance on temperature<br><br>\\\n",
    "     $$R \\\\approx R_\\\\text{o} \\\\exp\\\\left(\\\\frac{\\\\Delta E_g}{2k_B T} \\\\right)$$<br>\\\n",
    "     where $\\\\Delta E_g$ is the semiconductor band gap. The thermistors we use are ~10,000 Ω\\\n",
    "     at room temperature, are quite inexpensive, and respond to temperature \\\n",
    "     changes rapidly. In practice, the temperature is related to the measured \\\n",
    "     resistance of the thermistor you will use, and is represented by the following \\\n",
    "     Steinhart-Hart equation in (lnR) (where R is in ohms):<br><br>\\\n",
    "     $$ T^{-1} = b_0 + b_1 \\\\cdot \\\\ln(R) + b_2 \\\\cdot \\\\left( \\\\ln(R) \\\\right)^3.$$\\\n",
    "     <br>where<br><br>\\\n",
    "     $$b_0 = 1.1292 \\\\cdot 10^{-3} \\\\text{ K}^{-1}$$\\\n",
    "     $$b_1 = 2.3411 \\\\cdot 10^{-4} \\\\text{ K}^{-1}$$\\\n",
    "     $$b_2 = 8.7755 \\\\cdot 10^{-8} \\\\text{ K}^{-1}$$'))\n",
    "\n",
    "for box in TempBoxes:\n",
    "    display(box)"
   ]
  },
  {
   "cell_type": "markdown",
   "metadata": {},
   "source": [
    "## Your Assignment:\n",
    "\n",
    "Your lab today consists of three parts: \n",
    "1. In **Part 1**, you will manually measure the temperature of a heated water bath at different temperatures using an RTD, a thermistor, and a blue spirit thermometer (similar to a traditional mercury thermometer, but using isoamyl benzoate and a blue dye insted of mercury). This will give you a chance to get familiar with how each sensor works. Click the button for detailed instructions. <br><a href=\"Part1.ipynb\"> <button class=\"p-Widget jupyter-widgets jupyter-button widget-button mod-warning\" style=\"width:100px; background-color:#E9E9E9; font-size:10pt; color:black\">Go!</button></a>\n",
    "\n",
    "2. In **Part 2**, you will use a LabView program to automatically monitor the temperature of the RTD and thermistor sensors as they are rapidly heated in a water bath and then air cooled. This will allow you to compare the rate at which each sensor responds to temperature changes, as well as the relative rates of air- vs water-mediated heating and cooling. Click the button for detailed instructions. <br><a href=\"Part2.ipynb\"> <button class=\"p-Widget jupyter-widgets jupyter-button widget-button mod-warning\" style=\"width:100px; background-color:#E9E9E9; font-size:10pt; color:black\">Go!</button></a>\n",
    "\n",
    "3. In **Part 3**, you'll enter your data into a Jupyter Notebook template, plot the data, analyze the results, and answer questions about your observations. In this part of the assignment, you'll use the fit equations displayed in the information boxes above to \"translate\" your experimental resistance values to temperature in Kelvins. You'll upload a PDF copy of this work to Brightspace as your completed lab assignment. \n",
    "\n",
    "To open a copy of the template, enter you PUID in the box below and first click \"Copy\" and then \"Open\". \n",
    "\n"
   ]
  },
  {
   "cell_type": "code",
   "execution_count": 4,
   "metadata": {},
   "outputs": [
    {
     "data": {
      "application/vnd.jupyter.widget-view+json": {
       "model_id": "5f145dab1261421095761af3d466f385",
       "version_major": 2,
       "version_minor": 0
      },
      "text/plain": [
       "HBox(children=(Text(value='', description='Purdue ID:', placeholder='User name'), Button(description='Copy Exe…"
      ]
     },
     "metadata": {},
     "output_type": "display_data"
    },
    {
     "data": {
      "application/vnd.jupyter.widget-view+json": {
       "model_id": "28ae30be0e504fe18aab786bacf130c0",
       "version_major": 2,
       "version_minor": 0
      },
      "text/plain": [
       "HTML(value='')"
      ]
     },
     "metadata": {},
     "output_type": "display_data"
    }
   ],
   "source": [
    "import ipywidgets as widgets\n",
    "import os\n",
    "from IPython.display import display\n",
    "from IPython.display import display_markdown\n",
    "\n",
    "HTMLButtonPrompt = '''<html>\n",
    "<head>\n",
    "<meta name=\"viewport\" content=\"width=device-width, initial-scale=1\">\n",
    "</head>\n",
    "<body>\n",
    "<a href=\"{link}\" target=\"_blank\" >\n",
    "<button class=\"p-Widget jupyter-widgets jupyter-button widget-button mod-warning\" style=\"width:100px; background-color:#E9E9E9; font-size:10pt; color:black\">{text}</button>\n",
    "</a>\n",
    "</body>\n",
    "</html>\n",
    "'''\n",
    "\n",
    "\n",
    "HTMLDeadPrompt = '''<html>\n",
    "<head>\n",
    "<meta name=\"viewport\" content=\"width=device-width, initial-scale=1\">\n",
    "</head>\n",
    "<body>\n",
    "<button class=\"p-Widget jupyter-widgets jupyter-button widget-button mod-warning\" style=\"width:100px; background-color:#E9E9E9; font-size:10pt; color:#D2D2D2\">{text}</button>\n",
    "</body>\n",
    "</html>'''\n",
    "\n",
    "\n",
    "\n",
    "def copy_exercise(self):\n",
    "    uname = txt_uname.value.replace(\" \", \"_\").lower()\n",
    "    fpath = \"../../../../local/\"\n",
    "    flist = ['analysis.ipynb', 'img/EditApp.png', 'img/FileOpen.png', 'img/Upload.png']\n",
    "    \n",
    "    cpname = \"Lab1_\" + uname + \".ipynb\"\n",
    "\n",
    "    if len(uname)<=0:\n",
    "        print('Please enter a valid user name!')\n",
    "        \n",
    "    elif os.path.isfile(fpath+cpname) and cb_overwrite.value==False:\n",
    "        message_box.value = 'The file already exists! Click \\\"Open\\\" to access.<br> \\\n",
    "        If you want to delete the file and start fresh, you\\'ll need to: <br>  \\\n",
    "           (1) open the file, <br> \\\n",
    "           (2) Click the File > Open dropdown, and <br> \\\n",
    "           (3) Manually delete the file. <br> \\\n",
    "        Then you can return to this page to copy it again. <br> \\\n",
    "        <b>But be careful!</b> This will also delete any data that you\\'ve stored in the notebook!'\n",
    "        bt_open.value=HTMLButtonPrompt.format(link=fpath+cpname, text='Open')\n",
    "        \n",
    "    else:\n",
    "        err = False\n",
    "        \n",
    "        for fname in flist:\n",
    "            \n",
    "            # If it's the first file, reset the file name\n",
    "            if fname==flist[0]:\n",
    "                out = !{\"cp \" + fname + \" \" + fpath+cpname}\n",
    "                if len(out)>0:\n",
    "                    for line in out:\n",
    "                        err = True\n",
    "                        print(out)\n",
    "            else:\n",
    "                \n",
    "                # If it's an image file, make sure the img folder exists\n",
    "                if fname[0:4]=='img/':\n",
    "                    if os.path.isdir(fpath+'/img')==False:\n",
    "                        out = !{'mkdir ' + fpath + '/img'}\n",
    "                        if len(out)>0:\n",
    "                            err = True\n",
    "                            for line in out:\n",
    "                                print(out)\n",
    "                                \n",
    "                # Now copy the file\n",
    "                out = !{\"cp \" + fname + \" \" + fpath+fname}\n",
    "                if len(out)>0:\n",
    "                    for line in out:\n",
    "                        err = True\n",
    "                        print(out)\n",
    "                \n",
    "        if err==False:\n",
    "            bt_open.value=HTMLButtonPrompt.format(link=fpath+cpname, text='Open')\n",
    "    \n",
    "txt_uname = widgets.Text(\n",
    "    value='',\n",
    "    placeholder='User name',\n",
    "    description='Purdue ID:',\n",
    "    disabled=False\n",
    ")\n",
    "\n",
    "\n",
    "bt_genfile = widgets.Button(\n",
    "    description='Copy Exercise',\n",
    "    disabled=False,\n",
    "    button_style='', # 'success', 'info', 'warning', 'danger' or ''\n",
    "    tooltip='Enter your username and then click to create a local exercise file'\n",
    ")\n",
    "\n",
    "bt_open = widgets.HTML(HTMLDeadPrompt.format(text='Open'))\n",
    "\n",
    "cb_overwrite = widgets.Checkbox(\n",
    "    value=False,\n",
    "    description='Overwrite Existing?',\n",
    "    disabled=False\n",
    ")\n",
    "\n",
    "bt_genfile.on_click(copy_exercise)\n",
    "\n",
    "message_box = widgets.HTML('')\n",
    "\n",
    "display(widgets.HBox([txt_uname, bt_genfile, bt_open]))\n",
    "display(message_box)\n"
   ]
  },
  {
   "cell_type": "code",
   "execution_count": null,
   "metadata": {},
   "outputs": [],
   "source": []
  }
 ],
 "metadata": {
  "kernelspec": {
   "display_name": "Python 3",
   "language": "python",
   "name": "python3"
  },
  "language_info": {
   "codemirror_mode": {
    "name": "ipython",
    "version": 3
   },
   "file_extension": ".py",
   "mimetype": "text/x-python",
   "name": "python",
   "nbconvert_exporter": "python",
   "pygments_lexer": "ipython3",
   "version": "3.7.7"
  }
 },
 "nbformat": 4,
 "nbformat_minor": 2
}
