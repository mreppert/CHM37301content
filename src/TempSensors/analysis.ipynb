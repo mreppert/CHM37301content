{
 "cells": [
  {
   "cell_type": "markdown",
   "metadata": {},
   "source": [
    "# Part 3: Data Analysis #\n",
    "\n",
    "In this section, you'll learn how to analyze your data using the Python programming language. "
   ]
  },
  {
   "cell_type": "markdown",
   "metadata": {},
   "source": [
    "## Instructions: ##\n",
    "### 1. Exit app mode: ###\n",
    "To get started, you first need to exit \"Appmode\" in your nanoHUB Jupyter Notebook session. To do that, click the \"Edit App\" button that shows up at the top right of your screen, as illustrated in the image below.<br>\n",
    "<img src=\"img/EditApp.png\" width=\"900\"/>\n",
    "This will allow you view and modify the Python source code that the Jupyter Notebook runs. <br><br>\n",
    "\n",
    "### 2. Enter your Temperature/Resistance Data from Part 1: ###\n",
    "\n",
    "Next, you'll need to enter your temperature/resistance data from Part 1 of this experiment. You'll enter the data as a *NumPy Array*. NumPy arrays are a type of Python variable that serve essentially as matrices to store data (like your experimental results) or for linear algebra operations (like solving systems of linear equations). In the code cell below, you can see the definition of a very simple array that contains the numbers 1, 2, 3, and 4. \n",
    "* The line `import numpy as np` tells Python that you're going to use NumPy variables. Otherwise, the Jupyter Compiler won't recognize the commands we use later that start with `np`. <br><br>\n",
    "* The array is *defined* in the line `MyArray = np.array([1,2,3,4])`. From now on, if you type the word `MyArray` in a code cell, the Jupyter Compiler will know that you really want to refer to the numerical data \\[1, 2, 3, 4\\]. <br><br>\n",
    "* The `print(MyArray)` command tells the notebook to print the contents of the array so that you can confirm they are what you expected. \n",
    "\n",
    "Execute the code cell by clicking on it with your cursor and pressing <Shift+Enter>. "
   ]
  },
  {
   "cell_type": "code",
   "execution_count": null,
   "metadata": {},
   "outputs": [],
   "source": [
    "# This line tells Python to use the NumPy library\n",
    "import numpy as np\n",
    "\n",
    "MyArray = np.array([1, 2, 3, 4])\n",
    "print(MyArray)"
   ]
  },
  {
   "cell_type": "markdown",
   "metadata": {},
   "source": [
    "Now fill in **your experimental data** into the three arrays started for you below! To do this, click with your mouse inside the pair of square brackets `[]` in the appropriate `np.array([])` command and enter each of your numerical readings, separated by commas. "
   ]
  },
  {
   "cell_type": "code",
   "execution_count": null,
   "metadata": {},
   "outputs": [],
   "source": [
    "# This should store resistance values for the RTD\n",
    "MyRTD = np.array([])\n",
    "\n",
    "# This should store resistance values for the Thermistor\n",
    "MyThermistor = np.array([])\n",
    "\n",
    "# This should store resistance values for the Blue Spirit thermometer\n",
    "MyBlueSpirit = np.array([])"
   ]
  },
  {
   "cell_type": "markdown",
   "metadata": {},
   "source": [
    "Be sure to hit <Shift+Enter> after you finish entering your data! This will cause the Jupyter Notebook Kernel to internalize the data so that it's available for processing later in the notebook. \n",
    "\n",
    "### 3. Plot Your Resistance Data from Part 1: ###\n",
    "\n",
    "Next, plot your resistance data from Part 1 (the 5 manually collected data points). We'll use the MatPlotLib library for plotting. MatPlotLib is a Python library that will allow you to make publication-quality graphs with simple Python syntax. To tell Python that we want to use MatPlotLib, we must first `import` it. We'll give it the short-hand name `plt` so that we can refer to it easily later: "
   ]
  },
  {
   "cell_type": "code",
   "execution_count": null,
   "metadata": {},
   "outputs": [],
   "source": [
    "# All of our plotting commands will now start with `plt`. \n",
    "import matplotlib.pyplot as plt\n",
    "\n",
    "# We'll also change the default font size to make our plots more readable.\n",
    "plt.rc('font', size=16) "
   ]
  },
  {
   "cell_type": "markdown",
   "metadata": {},
   "source": [
    "Now we're ready to plot the data!"
   ]
  },
  {
   "cell_type": "code",
   "execution_count": null,
   "metadata": {},
   "outputs": [],
   "source": [
    "# Plot the RTD data (y-axis) against the BlueSpirit data (x-axis)\n",
    "plt.plot(MyBlueSpirit, MyRTD, 'o', label='RTD')\n",
    "\n",
    "# Plot the Thermistor data (y-axis) against the BlueSpirit data (x-axis)\n",
    "plt.plot(MyBlueSpirit, MyThermistor, 'o', label='Thermistor')\n",
    "\n",
    "# Add axis labels. \n",
    "plt.xlabel('Temperature (K)')\n",
    "plt.ylabel('Resistance (Ohm)')\n",
    "\n",
    "# Add a legend. The legend() command will use the label='...' flags\n",
    "# from your earlier plt.plot() commands to determine how to add labels\n",
    "# to each data series. \n",
    "plt.legend()\n",
    "\n",
    "# Show the figure.\n",
    "plt.show()"
   ]
  },
  {
   "cell_type": "markdown",
   "metadata": {},
   "source": [
    "### 4. Convert Resistance to Temperature\n",
    "\n",
    "Now we need to convert the raw resistance data for each sensor (both RTD and Thermistor) into temperature. To do that, we'll use the fit equations provided for each sensor in Part 1. \n",
    "\n",
    "In the code below, the command `np.power(A, n)` raises the NumPy array `A` to the power `n`. E.g., `np.power(MyRTD, 2)` squares each value in the array MyRTD. "
   ]
  },
  {
   "cell_type": "code",
   "execution_count": null,
   "metadata": {},
   "outputs": [],
   "source": [
    "# Convert RTD data: \n",
    "\n",
    "# These are the coefficients provided in your lab handout\n",
    "a0 = 31.1786\n",
    "a1 = 2.2181\n",
    "a2 = 2.8514e-3\n",
    "a3 = -1.0567e-5\n",
    "a4 = 2.2087e-8\n",
    "\n",
    "# The new variable RTD_Temp stores converted RTD temperature\n",
    "RTD_Temp = a0 + a1*MyRTD + a2*np.power(MyRTD, 2)\\\n",
    "               + a3*np.power(MyRTD, 3) + a4*np.power(MyRTD, 4)\n",
    "\n",
    "# Convert Thermistor data:\n",
    "b0 = 1.1292e-3\n",
    "b1 = 2.3411e-4\n",
    "b2 = 8.7755e-8\n",
    "\n",
    "Thermistor_Temp = 1/(b0 + b1*np.log(MyThermistor) + b2*np.power(np.log(MyThermistor), 3))"
   ]
  },
  {
   "cell_type": "markdown",
   "metadata": {},
   "source": [
    "### 5. Plot Temperature Data ###\n",
    "\n",
    "Finally, you have three sets of temperature data, stored in the arrays `MyBlueSpirit`, `RTD_Temp`, and `Thermistor_Temp`. Now let's compare them by plotting all three temperature sets as a function of the RTD temperature:"
   ]
  },
  {
   "cell_type": "code",
   "execution_count": null,
   "metadata": {},
   "outputs": [],
   "source": [
    "# RTD temp vs. RTD temp: should be a straight line\n",
    "plt.plot(RTD_Temp, RTD_Temp, 'o', label='RTD')\n",
    "\n",
    "# RTD Temp vs. Thermistor Temp\n",
    "plt.plot(RTD_Temp, Thermistor_Temp, 'o', label='Thermistor')\n",
    "\n",
    "# RTD Temp vs. BlueSpirit Temp\n",
    "plt.plot(RTD_Temp, MyBlueSpirit, 'o', label='Blue Spirit')\n",
    "\n",
    "plt.xlabel('Temperature')\n",
    "plt.ylabel('Temperature')\n",
    "\n",
    "\n",
    "plt.show()"
   ]
  },
  {
   "cell_type": "markdown",
   "metadata": {},
   "source": [
    "### 6. Upload Time-series Data Files\n",
    "\n",
    "Now let's plot the data from Part 2. To do this, you need to upload your data file. First, click on the \"File > Open\" dropdown as illustrated below:<br>\n",
    "<img src=\"img/FileOpen.png\" width=\"600\"/><br>\n",
    "Then click the \"Upload\" button on the right-hand side of the screen and select the experimental RTD time-series data file you saved in Part 2 of this lab. \n",
    "<img src=\"img/Upload.png\" width=\"300\"/><br>\n",
    "Do the same with the Thermistor time-series data file. "
   ]
  },
  {
   "cell_type": "markdown",
   "metadata": {},
   "source": [
    "### 7. Read data from text files\n",
    "\n",
    "Your data files should now be saved online in the nanoHUB Jupyter notebook interface in the same directory as this notebook. To load the data so that you can analyze it, we'll use the NumPy loadtxt() function\n",
    "\n",
    "To do this in the script below, just replace the text `<RTD file name>` with your actual RTD file name, and the text `<Thermistor file name>` with the name of your actual Thermistor data file. \n",
    "\n",
    "#### If you get an error: ####\n",
    "It's most likely because the file name is incorrect. Double check! (Did you include the extension? E.g., `my_rtd_dat.txt`, not just `my_rtd_dat`.)"
   ]
  },
  {
   "cell_type": "code",
   "execution_count": null,
   "metadata": {},
   "outputs": [],
   "source": [
    "# The file name for the RTD time series data\n",
    "RTD_file_name = '<RTD file name>'\n",
    "\n",
    "# The file name for the Thermister time series data\n",
    "Thermistor_file_name = '<Thermistor file name>'\n",
    "\n",
    "# First we're going to check whether the files actually exist or not. This will help\n",
    "# alert you if you've entered the wrong file name. \n",
    "import os\n",
    "if os.path.isfile(RTD_file_name)==False or os.path.isfile(Thermistor_file_name)==False:\n",
    "    print('Could not locate the specified files! Please check file names/locations!')\n",
    "    RTD_series = []\n",
    "    Thermistor_series = []\n",
    "    \n",
    "else:     \n",
    "    \n",
    "    # Now read the data into the notebook. \n",
    "    # This creates two new NumPy arrays named RTD_series and Thermistor_series that contain your experimental data\n",
    "    RTD_series = np.loadtxt(RTD_file_name)\n",
    "    Thermistor_series = np.loadtxt(Thermistor_file_name)"
   ]
  },
  {
   "cell_type": "markdown",
   "metadata": {},
   "source": [
    "### 8. Plot the time-series data\n",
    "\n",
    "You've now created new NumPy arrays named RTD_series and Thermistor_series that contain your experimental time-series data. Just like in the input text files, the first column of RTD_series contains the time values 0, 1, 2, ..., 200. The second column contains the RTD readings corresponding to each time. The Thermistor_series array has the same format.\n",
    "\n",
    "The code performs three functions\n",
    "1. It extracts data from the RTD_series and Thermistor_series arrays and stores them in separate arrays for the time (t) and resistance (r) values. \n",
    "\n",
    "2. It converts the resistance values to temperatures, just like we did in step 4. \n",
    "\n",
    "3. It plots the data. \n",
    "\n",
    "Read through the code before you execute it and see if you can figure out what each step does. You'll need to enter commands like this yourself in the future!"
   ]
  },
  {
   "cell_type": "code",
   "execution_count": null,
   "metadata": {},
   "outputs": [],
   "source": [
    "# The `if` statement prevents errors if the RTD_series and Thermistor_series data haven't been read yet\n",
    "if len(RTD_series)>0 and len(Thermistor_series)>0:\n",
    "\n",
    "    # This extracts the first column of data and stores it in\n",
    "    # a new array called t_values_rtd\n",
    "    t_values_rtd = RTD_series[:,0]\n",
    "\n",
    "    # This stores the second column of data in the array r_values_rtd\n",
    "    r_values_rtd = RTD_series[:,1]\n",
    "\n",
    "    # This converts the r-values to temperatures\n",
    "    temp_values_rtd = a0 + a1*r_values_rtd + a2*np.power(r_values_rtd, 2)\\\n",
    "                   + a3*np.power(r_values_rtd, 3) + a4*np.power(r_values_rtd, 4)\n",
    "\n",
    "    # The next three lines repeat this process for the thermistor data. \n",
    "    t_values_thermistor = Thermistor_series[:,0]\n",
    "    r_values_thermistor = Thermistor_series[:,1]\n",
    "    temp_values_thermistor = 1/(b0 + b1*np.log(r_values_thermistor) + b2*np.power(np.log(r_values_thermistor), 3))\n",
    "\n",
    "    # Finally, we generate a plot:\n",
    "    plt.plot(t_values_rtd, temp_values_rtd, '-', label='RTD')\n",
    "    plt.plot(t_values_thermistor, temp_values_thermistor, '-', label='Thermistor')\n",
    "\n",
    "    plt.xlabel('Time (s)')\n",
    "    plt.ylabel('Temperature (K)')\n",
    "    plt.legend()\n",
    "    plt.show()"
   ]
  },
  {
   "cell_type": "markdown",
   "metadata": {},
   "source": [
    "### 9. Discussion and Conclusions\n",
    "\n",
    "Based on your observations, answer the following questions. Type your answers directly into the text cells following each question. (If instead of a text box you seen a statement like \"Type Markdown and LaTeX:  $\\alpha^2$\", just double click on that text to open the text box.) These are *Markdown* cells, i.e., they accept text input using the Markdown text-formatting language. Markdown allows you to produce nicely-formatted text. For example: \n",
    "* Text enclosed in a single pair of asterisks `*like this*` will be formatted in italics. \n",
    "* Text enclosed in a double pair of asterisks `**like this**` will be formatted in bold. \n",
    "* Text enclosed in dollar signs `$like this$` will be interpreted as a mathematical equation using LaTex syntax. \n",
    "\n",
    "When you are finished with your answer, type <Shift+Enter> to convert your input into formatted text. If you want to modify your input, just double-click on it to re-enter text entry mode. \n",
    "\n",
    "#### Question 1: Which temperature sensor do you think has the largest systematic error? Where might this systematic error come from? "
   ]
  },
  {
   "cell_type": "markdown",
   "metadata": {},
   "source": []
  },
  {
   "cell_type": "markdown",
   "metadata": {},
   "source": [
    "#### Question 2: Which detector has better linearity? How can you tell?"
   ]
  },
  {
   "cell_type": "markdown",
   "metadata": {},
   "source": []
  },
  {
   "cell_type": "markdown",
   "metadata": {},
   "source": [
    "#### Question 3: Which detector has a quicker response time? Why do you think this is the case? "
   ]
  },
  {
   "cell_type": "markdown",
   "metadata": {},
   "source": []
  },
  {
   "cell_type": "markdown",
   "metadata": {},
   "source": [
    "#### Question 4: Which detector would you choose to measure a temperature difference of 0.01 $^\\text{o}$ C? Why?"
   ]
  },
  {
   "cell_type": "markdown",
   "metadata": {},
   "source": []
  },
  {
   "cell_type": "markdown",
   "metadata": {},
   "source": [
    "#### Question 5: What difference did you notice about heat conduction between water and air? Why might this be the case? "
   ]
  },
  {
   "cell_type": "markdown",
   "metadata": {},
   "source": []
  },
  {
   "cell_type": "markdown",
   "metadata": {},
   "source": [
    "#### Question 6: Apart from the fundamental limitations of the detectors, do you think there were any major sources of error in your data? (E.g., did anything \"go wrong\" during data collection that would have affected your results? Or do you think everything went as expected?)\n"
   ]
  },
  {
   "cell_type": "markdown",
   "metadata": {},
   "source": []
  },
  {
   "cell_type": "markdown",
   "metadata": {},
   "source": [
    "### 10. Submit! \n",
    "\n",
    "Finally, when you're satisfied with your answers, download your notebook as a PDF by selecting File > Download As > PDF via Latex (.pdf) from the dropdown menu at the top right of this window. (See screen shot below.) Then upload the PDF under the Lab1 assignment on the Brightspace page **for your lab section**. <br>\n",
    "\n",
    "Note: There are separate Brightspace pages for your lab section and for the Monday lecture. You will submit your PDF notebooks on your lab Brightspace page, **not** the Monday lecture page. \n",
    "\n",
    "<br>\n",
    "<img src=\"img/DownloadAs.png\" width=\"700\"/>"
   ]
  },
  {
   "cell_type": "code",
   "execution_count": null,
   "metadata": {},
   "outputs": [],
   "source": []
  }
 ],
 "metadata": {
  "kernelspec": {
   "display_name": "Python 3",
   "language": "python",
   "name": "python3"
  },
  "language_info": {
   "codemirror_mode": {
    "name": "ipython",
    "version": 3
   },
   "file_extension": ".py",
   "mimetype": "text/x-python",
   "name": "python",
   "nbconvert_exporter": "python",
   "pygments_lexer": "ipython3",
   "version": "3.7.7"
  }
 },
 "nbformat": 4,
 "nbformat_minor": 2
}
