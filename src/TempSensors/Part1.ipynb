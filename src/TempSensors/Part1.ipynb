{
 "cells": [
  {
   "cell_type": "code",
   "execution_count": 4,
   "metadata": {},
   "outputs": [
    {
     "data": {
      "application/javascript": [
       "IPython.OutputArea.auto_scroll_threshold = 9999\n"
      ],
      "text/plain": [
       "<IPython.core.display.Javascript object>"
      ]
     },
     "metadata": {},
     "output_type": "display_data"
    }
   ],
   "source": [
    "%%javascript\n",
    "IPython.OutputArea.auto_scroll_threshold = 9999"
   ]
  },
  {
   "cell_type": "markdown",
   "metadata": {},
   "source": [
    "## Part 1: Resistance Measurements at Various Temperatures##\n",
    "\n",
    "1. Check to make sure that the water bath mixer is properly stirring the water. Place the RTD, thermistor and the blue spirit thermometer into the water bath. Note the relative positions of each temperature-measuring element. The initial temperature should be around 20-30 $^\\text{o}$C.\n",
    "\n",
    "2. Record the blue spirit thermometer’s temperature, as well as the RTD resistance and the thermistor resistance. Make sure that the raw data table in your lab book has properly labeled units.\n",
    "\n",
    "3. Increase the water bath temperature by around 5 $^\\text{o}$C. To do this, turn on all 4 heaters in the water bath. Heaters 1, 2 and 3 are connected to the Sargent Thermonitor controller unit, while heater 4 is operated independently with a Variac powerstat controller. Verify that heaters \\#1, 2 and 3 are on by observing that the red heating indicator lamp on the Thermonitor controller is ON (if not, rotate the COARSE control knob clockwise as far as it will go). When the water bath is close to the desired temperature, turn off ALL heaters except heater \\#1, which is needed to maintain a constant T above room temperature in the bath. At this point, allow the water bath temperature to stabilize. Once the resistance output of the RTD and thermistor are stable, then the data can be attained.\n"
   ]
  },
  {
   "cell_type": "markdown",
   "metadata": {},
   "source": []
  },
  {
   "cell_type": "code",
   "execution_count": 1,
   "metadata": {},
   "outputs": [
    {
     "data": {
      "application/vnd.jupyter.widget-view+json": {
       "model_id": "da9cee48b84b46959717c260cef35888",
       "version_major": 2,
       "version_minor": 0
      },
      "text/plain": [
       "VBox(children=(Output(), Accordion(children=(Output(),), selected_index=None, _titles={'0': 'Resistance Temper…"
      ]
     },
     "metadata": {},
     "output_type": "display_data"
    },
    {
     "data": {
      "application/vnd.jupyter.widget-view+json": {
       "model_id": "0d71ab90331f474282f2bbca6c7ec293",
       "version_major": 2,
       "version_minor": 0
      },
      "text/plain": [
       "VBox(children=(Output(), Accordion(children=(Output(),), selected_index=None, _titles={'0': 'Thermistor'})))"
      ]
     },
     "metadata": {},
     "output_type": "display_data"
    }
   ],
   "source": [
    "from IPython.display import display_markdown\n",
    "import ipywidgets as widgets\n",
    "from ipywidgets import Layout\n",
    "\n",
    "def make_title_font(text):\n",
    "    text = '<span style=\"font-size:large; font-weight:bold\">' + text + '</span>'\n",
    "    return text\n",
    "\n",
    "def make_def_box(topic, shortdef, longdef):\n",
    "    Head = widgets.Output()\n",
    "    Body = widgets.Output()\n",
    "    Accord = widgets.Accordion(children=[Body], selected_index=None)\n",
    "    Accord.set_title(0, shortdef)\n",
    "    \n",
    "    with Head:\n",
    "        display_markdown(make_title_font(topic) + \":\", raw=True)\n",
    "        \n",
    "    with Body:\n",
    "        display_markdown(longdef, raw=True)\n",
    "        \n",
    "    return widgets.VBox([Head, Accord])\n",
    "\n",
    "\n",
    "TempBoxes = []\n",
    "\n",
    "TempBoxes.append(make_def_box('RTD', \n",
    "     'Resistance Temperature Diode', \n",
    "     'An RTD is just a coil of very pure platinum wire which acts as a metallic\\\n",
    "     conductor that has a calibrated change of resistance with temperature. The reason \\\n",
    "     that the resistance of an RTD increases with temperature is that electrons\\\n",
    "     are scattered by thermal vibrations, or phonons, in the platinum. \\\n",
    "     Electrons in metals move about freely in the conduction band. The resistance\\\n",
    "     is therefore low, but increases when increasing temperature disturbs the \\\n",
    "     crystal structure. The resistance of an RTD changes nearly linearly with \\\n",
    "     temperature. RTD’s have excellent reproducibility, making them the standard\\\n",
    "     for measuring temperatures between -190 $^\\\\text{o}$C and +600 $^\\\\text{o}$C. However, they have\\\n",
    "     drawbacks owing to the high cost  of the platinum and a large\\\n",
    "     time lag due to the mass of the thermometer. For practical and accurate\\\n",
    "     measurements of temperature from measured resistance, T (in Kelvin) is \\\n",
    "     represented by the following fourth-order polynomial in R (where R is in ohms):<br><br>\\\n",
    "     $$T = a_0 + a_1\\cdot R + a_2 \\cdot R^2 + a_3 \\cdot R^3 + a_4 \\cdot R^4$$\\\n",
    "     <br>where<br><br>\\\n",
    "     $$a_0 = 31.1786 \\\\text{ K}$$\\\n",
    "     $$a_1 = 2.2181 \\\\text{ K}/\\\\text{ohm}$$\\\n",
    "     $$a_2 = 2.8514\\cdot 10^{-3} \\\\text{ K}/\\\\text{ohm}^2$$\\\n",
    "     $$a_3 = -1.0567\\cdot 10^{-5} \\\\text{ K}/\\\\text{ohm}^3$$\\\n",
    "     $$a_4 = 2.2087\\cdot 10^{-8} \\\\text{ K}/\\\\text{ohm}^4$$\\\n",
    "     <br> are empirically determined coefficients for platinum wire.<br><br> \\\n",
    "     **Technical Note**: Since the nominal resistance of the RTD is small (~110 Ω at room T), \\\n",
    "     stray resistance in the lead wires used to hook up the sensor (~0.5 Ω \\\n",
    "     resistance) can significantly affect the measured resistance. In order \\\n",
    "     to avoid this problem, you will use a four-lead circuit illustrated in [this figure](RTD_diagram.png), \\\n",
    "     which cancels out the resistance of the wires connecting the RTD to the \\\n",
    "     digital multimeter.'))\n",
    "\n",
    "TempBoxes.append(make_def_box('Thermistor', \n",
    "     'Thermistor', \n",
    "     'A thermistor is a semiconductor-based temperature sensor, consisting of\\\n",
    "     sintered mixtures of metallic oxides such as NiO, Mn$_2$O$_3$ and Co$_2$O$_3$. \\\n",
    "     Thermistors are very useful for measuring small temperature changes and \\\n",
    "     differences. Electrons in semiconductors must pass over energy barriers \\\n",
    "     to get into the conduction band, and therefore do not move freely. The \\\n",
    "     resistance is therefore high, but its resistance decreases with increasing \\\n",
    "     temperature because more electrons are elevated to energies high enough to \\\n",
    "     reach the conduction band as the temperature increases. A thermistor has a \\\n",
    "     nominally exponential dependence of resistance on temperature<br><br>\\\n",
    "     $$R \\\\approx R_\\\\text{o} \\\\exp\\\\left(\\\\frac{\\\\Delta E_g}{2k_B T} \\\\right)$$<br>\\\n",
    "     where $\\\\Delta E_g$ is the semiconductor band gap. The thermistors we use are ~10,000 Ω\\\n",
    "     at room temperature, are quite inexpensive, and respond to temperature \\\n",
    "     changes rapidly. In practice, the temperature is related to the measured \\\n",
    "     resistance of the thermistor you will use, and is represented by the following \\\n",
    "     Steinhart-Hart equation in (lnR) (where R is in ohms):<br><br>\\\n",
    "     $$ T^{-1} = b_0 + b_1 \\\\cdot \\\\ln(R) + b_2 \\\\cdot \\\\left( \\\\ln(R) \\\\right)^3.$$\\\n",
    "     <br>where<br><br>\\\n",
    "     $$b_0 = 1.1292 \\\\cdot 10^{-3} \\\\text{ K}^{-1}$$\\\n",
    "     $$b_1 = 2.3411 \\\\cdot 10^{-4} \\\\text{ K}^{-1}$$\\\n",
    "     $$b_2 = 8.7755 \\\\cdot 10^{-8} \\\\text{ K}^{-1}$$'))\n",
    "\n",
    "for box in TempBoxes:\n",
    "    display(box)"
   ]
  },
  {
   "cell_type": "markdown",
   "metadata": {},
   "source": [
    "## Your Assignment:\n",
    "\n",
    "Your lab today consists of three parts: \n",
    "1. In **Part 1**, you will manually measure the temperature of a heated water bath at different temperatures using an RTD, a thermistor, and a blue spirit thermometer (similar to a traditional mercury thermometer, but using isoamyl benzoate and a blue dye insted of mercury). This will give you a chance to get familiar with how each sensor works. \n",
    "\n",
    "2. In **Part 2**, you will use a LabView program to automatically monitor the temperature of the RTD and thermistor sensors as they are rapidly heated in a water bath and then air cooled. This will allow you to compare the rate at which each sensor responds to temperature changes, as well as the relative rates of air- vs water-mediated heating and cooling. \n",
    "\n",
    "3. In **Part 3**, you'll enter your data into a Jupyter Notebook template, plot the data, analyze the results, and answer questions about your observations. In this part of the assignment, you'll use the fit equations displayed in the information boxes above to \"translate\" your experimental resistance values to temperature in Kelvins. You'll upload a PDF copy of this work to Brightspace as your completed lab assignment. \n",
    "\n",
    "\n"
   ]
  },
  {
   "cell_type": "code",
   "execution_count": null,
   "metadata": {},
   "outputs": [],
   "source": []
  }
 ],
 "metadata": {
  "kernelspec": {
   "display_name": "Python 3",
   "language": "python",
   "name": "python3"
  },
  "language_info": {
   "codemirror_mode": {
    "name": "ipython",
    "version": 3
   },
   "file_extension": ".py",
   "mimetype": "text/x-python",
   "name": "python",
   "nbconvert_exporter": "python",
   "pygments_lexer": "ipython3",
   "version": "3.7.7"
  }
 },
 "nbformat": 4,
 "nbformat_minor": 2
}
