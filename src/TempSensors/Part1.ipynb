{
 "cells": [
  {
   "cell_type": "code",
   "execution_count": 4,
   "metadata": {},
   "outputs": [
    {
     "data": {
      "application/javascript": [
       "IPython.OutputArea.auto_scroll_threshold = 9999\n"
      ],
      "text/plain": [
       "<IPython.core.display.Javascript object>"
      ]
     },
     "metadata": {},
     "output_type": "display_data"
    }
   ],
   "source": [
    "%%javascript\n",
    "IPython.OutputArea.auto_scroll_threshold = 9999"
   ]
  },
  {
   "cell_type": "markdown",
   "metadata": {},
   "source": [
    "## Part 1: Resistance Measurements at Various Temperatures##\n",
    "\n",
    "1. Check to make sure that the water bath mixer is properly stirring the water. Place the RTD, thermistor and the blue spirit thermometer into the water bath. Note the relative positions of each temperature-measuring element. The initial temperature should be around 20-30 $^\\text{o}$C.\n",
    "\n",
    "2. Record the blue spirit thermometer’s temperature, as well as the RTD resistance and the thermistor resistance. Make sure that the raw data table in your lab book has properly labeled units.\n",
    "\n",
    "3. Increase the water bath temperature by around 5 $^\\text{o}$C. To do this, turn on all 4 heaters in the water bath. Heaters 1, 2 and 3 are connected to the Sargent Thermonitor controller unit, while heater 4 is operated independently with a Variac powerstat controller. Verify that heaters \\#1, 2 and 3 are on by observing that the red heating indicator lamp on the Thermonitor controller is ON (if not, rotate the COARSE control knob clockwise as far as it will go). When the water bath is close to the desired temperature, turn off ALL heaters except heater \\#1, which is needed to maintain a constant T above room temperature in the bath. At this point, allow the water bath temperature to stabilize. Once the resistance output of the RTD and thermistor are stable, then the data can be obtained.\n",
    "\n",
    "4. Wait one minute to allow the temperature to stabilize, then record the blue spirit thermometer temperature, the resistance of the RTD, and the resistance of the thermistor. For best results, these all need to be read at the same time.\n",
    "\n",
    "5. REPEAT steps 3 \\& 4 until you have a total of five sets of data points."
   ]
  },
  {
   "cell_type": "code",
   "execution_count": null,
   "metadata": {},
   "outputs": [],
   "source": []
  }
 ],
 "metadata": {
  "kernelspec": {
   "display_name": "Python 3",
   "language": "python",
   "name": "python3"
  },
  "language_info": {
   "codemirror_mode": {
    "name": "ipython",
    "version": 3
   },
   "file_extension": ".py",
   "mimetype": "text/x-python",
   "name": "python",
   "nbconvert_exporter": "python",
   "pygments_lexer": "ipython3",
   "version": "3.7.7"
  }
 },
 "nbformat": 4,
 "nbformat_minor": 2
}
