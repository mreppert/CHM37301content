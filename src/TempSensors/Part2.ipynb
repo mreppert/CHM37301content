{
 "cells": [
  {
   "cell_type": "code",
   "execution_count": 4,
   "metadata": {},
   "outputs": [
    {
     "data": {
      "application/javascript": [
       "IPython.OutputArea.auto_scroll_threshold = 9999\n"
      ],
      "text/plain": [
       "<IPython.core.display.Javascript object>"
      ]
     },
     "metadata": {},
     "output_type": "display_data"
    }
   ],
   "source": [
    "%%javascript\n",
    "IPython.OutputArea.auto_scroll_threshold = 9999"
   ]
  },
  {
   "cell_type": "markdown",
   "metadata": {},
   "source": [
    "## Part 2: Measurement Response Times ##\n",
    "\n",
    "### Overview: ###\n",
    "\n",
    "In this experiment, we will use a LabVIEW program to read resistance data from the DMM once every second for 200 seconds. This data will be stored in a text file that you'll upload to nanoHUB and analyze using Python code. When you analyze your data, pay particularly close attention to *how quickly* each temperature sensor responds to changes in its thermal environment. \n",
    "\n",
    "### Instructions: ###"
   ]
  },
  {
   "cell_type": "markdown",
   "metadata": {},
   "source": [
    "1. Set the water bath to a temperature of between 40 - 50 $^\\text{o}$C, and adjust to constant temperature. Take the RTD and thermistor out of the water bath and place them on the bench top so they can go back to room temperature. \n",
    "    * Note: The RTD should be connected to the HP 34401A Digital Multimeter (DMM) that has the number 23 on the bottom-right of the front panel. This number indicates the GPIB address of the DMM, which is necessary for the computer interfacing."
   ]
  },
  {
   "cell_type": "markdown",
   "metadata": {},
   "source": [
    "2. Open the LabVIEW folder, then open “TempSensors.vi. \n",
    "    * Note: Verify that the LabVIEW GPIB address is set to “23”."
   ]
  },
  {
   "cell_type": "markdown",
   "metadata": {},
   "source": [
    "3. On LabVIEW, click the green “START Trial” button to begin collecting data and follow these steps:\n",
    "    * At $t = 10$ seconds, quickly place the RTD into the water bath.\n",
    "    \n",
    "    * At $t = 60$ seconds, pull the RTD out of the water bath, quickly dry the end of the RTD with a Kimwipe, and place it on the edge of the lab bench so it is hanging over the edge of bench.\n",
    "\n",
    "    * Allow data recording to continue until the trial is finished, which should be at a total time of 200 seconds. \n",
    "    * If a mistake is made while a trial is in progress, click the red “Stop Trial” button. Click the “Clear Chart” button and repeat step 3) after cooling the RTD back to room temperature."
   ]
  },
  {
   "cell_type": "markdown",
   "metadata": {},
   "source": [
    "4. Upon a successful trial, the computer will prompt you for a file name in which to save your data:\n",
    "    * Click on “New”, type the appropriate file name, then click on “File”. "
   ]
  },
  {
   "cell_type": "markdown",
   "metadata": {},
   "source": [
    "5. To collect data from the thermistor, go back to LabVIEW 8.5. Clear the data from the graph by clicking the yellow \"Clear Chart\" button. The graph should now be blank. "
   ]
  },
  {
   "cell_type": "markdown",
   "metadata": {},
   "source": [
    "6. Update the labview settings to read from the thermistor: \n",
    "    * Change the function to \"2-Wire Resistance\", as the thermistor does not use the 4-wire resistance required by the RTD. \n",
    "    * Change the GPIB address to \"22\" so that the computer will now read data from the other DMM, to which the thermister is connected. "
   ]
  },
  {
   "cell_type": "markdown",
   "metadata": {},
   "source": [
    "7. REPEAT STEPS 3 and 4 for the THERMISTOR response data."
   ]
  },
  {
   "cell_type": "markdown",
   "metadata": {},
   "source": [
    "### Data Management ###\n",
    "\n",
    "The experimental data from this measurement is stored in the two text files that you saved in step 4. You should have **two** text files (with different names) that contain RTD and thermistor data. Be sure that you either e-mail these files to yourself or upload them to your local nanoHUB account before you leave lab. **You will need these files to complete your experimental analysis!** "
   ]
  },
  {
   "cell_type": "code",
   "execution_count": null,
   "metadata": {},
   "outputs": [],
   "source": []
  }
 ],
 "metadata": {
  "kernelspec": {
   "display_name": "Python 3",
   "language": "python",
   "name": "python3"
  },
  "language_info": {
   "codemirror_mode": {
    "name": "ipython",
    "version": 3
   },
   "file_extension": ".py",
   "mimetype": "text/x-python",
   "name": "python",
   "nbconvert_exporter": "python",
   "pygments_lexer": "ipython3",
   "version": "3.7.7"
  }
 },
 "nbformat": 4,
 "nbformat_minor": 2
}
