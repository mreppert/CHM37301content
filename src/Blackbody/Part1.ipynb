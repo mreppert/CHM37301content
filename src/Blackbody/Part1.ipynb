{
 "cells": [
  {
   "cell_type": "markdown",
   "id": "12a2df2b",
   "metadata": {},
   "source": [
    "# Blackbody Lab Procedure #\n",
    "\n",
    "!!! **IMPORTANT**: The light sources in this lab are very bright! Be careful **not** to shine them into your own eyes or those of your labmates!!! \n",
    "\n",
    "All measurements for this lab will use miniature Vernier UV/Vis spectrometers. The general procedure for these spectrometers is fairly simple:  \n",
    "* Flip the switch on the back to \"on\" (if not already powered on).\n",
    "* Open the \"Vernier Spectral Analysis\" program on the attached computer (if not already open).\n",
    "* Start a new experiment and select \"Fluorescence (Wavelength dependence)\".\n",
    "* Insert a white teflon insert into the sample chamber, keeping the top of the insert toward the *front* of the spectrometer. (The insert will help scatter light from your selected light source into the detector).\n",
    "* Point the selected light source so that it shines into the sample chamber (in front of the teflon insert) and click \"Collect\" to begin recording data. \n",
    "* After completing a measurement, select \"Export\" to write the data to a csv file that you can load into Python for your post-lab analysis.\n",
    "\n",
    "The teflon insert is really only necessary for the blackbody spectrum measurement. The pointer light sources are bright (and diffuse) enough that you can make those measurements without any teflon insert. \n",
    "\n",
    "**Note**: The spectra you collect in this lab are not really \"fluorescence\" spectra in the usual sense (where a light source is used to excite a sample and we record the light that the sample subsequently emits). Instead, we are here measuring the spectrum of the light source itself. For this reason, do *not* insert any of the light source attachments included with the UV/Vis spectrometer. You'll simply shine the selected light sources in through the top of the sample chamber. \n"
   ]
  },
  {
   "cell_type": "markdown",
   "id": "42b5a435",
   "metadata": {},
   "source": [
    "# Light Sources #\n",
    "\n",
    "To get a sense for how the spectrometer works, we'll collect spectra from a hand-held pointer with three different settings: black light (one click on the back button), flashlight (two clicks on the back button), and laser pointer (press and hold the front button). Collect \"fluorescence\" spectra for each source and export the data to three text files: \n",
    "* \"blacklight.csv\"\n",
    "* \"flashlight.csv\"\n",
    "* \"laser.csv\"\n",
    "\n",
    "Pay attention to the shape of each spectrum. Do any of these look like Blackbody radiators? How can you tell? "
   ]
  },
  {
   "cell_type": "markdown",
   "id": "b2dec5d9",
   "metadata": {},
   "source": [
    "# Blackbody Spectrum #\n",
    "\n",
    "We have only one calibrated blackbody source in the lab, which is temperature-stabilized to 2796 K. Once you know how to use the Vernier spectrometers, move to the spectrometer near the calibrated blackbody source and repeat your measurement with the blackbody source. \n",
    "\n",
    "Before you measure your blackbody spectrum, measure a \"background\" spectrum with your hand held over the cuvette slot, so that you know how much signal the detector registers when there is no light hitting the detector. (These are called \"dark counts\".) You'll subtract this background curve from your data during data processing. (The Vernier should do this automatically, but for some reason it doesn't seem to do a very thorough job.) Save this background spectrum as \"background.csv\". \n",
    "\n",
    "Next, measure the spectrum of the blackbody source by removing the cap from the fiber optic cable and shining the light into the cuvette slot. \n",
    "\n",
    "**IMPORTANT**: Do NOT sharply bend the fiber optic cable that carries light from the blackbody source. Sharp bends in the cable will break it!\n",
    "\n",
    "The signal from the blackbody source is weaker than from the hand-held pointer, so you may want to increase \"Real Time Averages\" to 10 and \"Integration Time\" to 500 ms. This is like lowering the exposure time on a camera, increasing the amount of signal that reaches the detector and hence the signal-to-noise ratio in your measured spectrum. \n",
    "\n",
    "Export your data to a file called \"blackbody.csv\"."
   ]
  },
  {
   "cell_type": "markdown",
   "id": "d100fc64",
   "metadata": {},
   "source": [
    "# File Handling #\n",
    "\n",
    "Before you export your data, open the text files and manually delete the first line, which contains header information about the axes. This will make it easier to load your data using NumPy. In total, you should have 5 files:\n",
    "* \"blacklight.csv\"\n",
    "* \"flashlight.csv\"\n",
    "* \"laser.csv\"\n",
    "* \"background.csv\"\n",
    "* \"blackbody.csv\""
   ]
  },
  {
   "cell_type": "code",
   "execution_count": null,
   "id": "7a9ebf5f",
   "metadata": {},
   "outputs": [],
   "source": []
  }
 ],
 "metadata": {
  "kernelspec": {
   "display_name": "Python 3.8",
   "language": "python",
   "name": "python3"
  },
  "language_info": {
   "codemirror_mode": {
    "name": "ipython",
    "version": 3
   },
   "file_extension": ".py",
   "mimetype": "text/x-python",
   "name": "python",
   "nbconvert_exporter": "python",
   "pygments_lexer": "ipython3",
   "version": "3.8.10"
  },
  "toc": {
   "base_numbering": 1,
   "nav_menu": {},
   "number_sections": true,
   "sideBar": true,
   "skip_h1_title": false,
   "title_cell": "Table of Contents",
   "title_sidebar": "Contents",
   "toc_cell": false,
   "toc_position": {},
   "toc_section_display": true,
   "toc_window_display": false
  },
  "varInspector": {
   "cols": {
    "lenName": 16,
    "lenType": 16,
    "lenVar": 40
   },
   "kernels_config": {
    "python": {
     "delete_cmd_postfix": "",
     "delete_cmd_prefix": "del ",
     "library": "var_list.py",
     "varRefreshCmd": "print(var_dic_list())"
    },
    "r": {
     "delete_cmd_postfix": ") ",
     "delete_cmd_prefix": "rm(",
     "library": "var_list.r",
     "varRefreshCmd": "cat(var_dic_list()) "
    }
   },
   "types_to_exclude": [
    "module",
    "function",
    "builtin_function_or_method",
    "instance",
    "_Feature"
   ],
   "window_display": false
  }
 },
 "nbformat": 4,
 "nbformat_minor": 5
}
