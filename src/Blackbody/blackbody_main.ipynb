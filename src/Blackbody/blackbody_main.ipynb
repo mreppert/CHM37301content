{
 "cells": [
  {
   "cell_type": "markdown",
   "id": "f68913e0",
   "metadata": {},
   "source": [
    "# Fundamental Constants: How do you know what you know? #\n",
    "\n",
    "Easy question: How many atoms are in 12 grams of $^{12}$C? \n",
    "\n",
    "You probably know the answer even if it takes you minute to realize it. By definition, the answer is \"one mole\" or 6.022 $\\cdot 10^{23}$ atoms.\n",
    "\n",
    "Now a harder question: How do you *know* that a mole contains 6.022 $\\cdot 10^{23}$ atoms? Where did that number come from? \n",
    "\n",
    "One of the disadvantages of practicing science in the \"modern age\" (amongst a great many advantages) is that what we learn about the world is often pretty far separated from its discovery. Have you ever stopped to think about *how* we know what we know? Just to take a few examples, here are a few \"common knowledge\" statements in science today:\n",
    "* All bulk materials are composed of an enourmous number of atoms. \n",
    "* The number of atoms in a mole is 6.022$\\cdot 10^{23}$.\n",
    "* The speed of light in vacuum is 2.9979$\\cdot 10^{8}$ m/s.\n",
    "* The ideal gas constant is 8.3145 J/(mol$\\cdot$K).\n",
    "* A single electron carries a charge of 1.602$\\cdot 10^{19}$ C.\n",
    "\n",
    "You've almost certainly used these facts many times in your scientific career so far, and you'll use them many times in the future. But where did that information come from? \n",
    "\n",
    "Some of these quantities (like the ideal gas constant) are pretty easy to measure. But most are very difficult. How do you count the number of atoms in a mole? Clearly we can't use a microscope. (Even if you could resolve the individual atoms, there would be too many to count one by one.) Or how do you measure something as fast as the speed of light? Over any \"reasonable\" distances (say up to a few miles) light propagation looks almost instantaneous to even the fastest electronic circuits. And keep in mind that when most of these numbers were first determined, there *were* no electronics! How did they do it?\n",
    "\n",
    "Today we'll see how two fundamental constants -- Avogadro's number and Planck's constant -- were first determined accurately. Perhaps surprisingly, both come from measurement of a single quantity: the thermal emission spectrum of a blackbody radiator. "
   ]
  },
  {
   "cell_type": "markdown",
   "id": "eb16cb76",
   "metadata": {},
   "source": [
    "# The Blackbody Problem #\n",
    "\n",
    "By the late 1800s, the concept of the \"atom\" was fairly well established; it was generally (though not universally) accepted that all matter was made up of very small particles that could combine with each other to form different substances. Even though atoms couldn't yet be individually studied, the \"law of constant proportions\" (e.g., that one mole of oxygen gas always combines with two moles of hydrogen gas to form two moles of water) had been thoroughly tested and seemed to hint quite strongly at the existence of discrete \"bits\" of matter. \n",
    "\n",
    "It wasn't until the first years of the 20$^{th}$ century, though, that a clear picture of this \"atomic\" world began to emerge. By this time, the physics of \"everyday\" objects -- Newton's equations for objects and Maxwell's equations for electromagnetic waves -- had been rigorously tested, and physicists and chemists began to wonder what kind of information these theories could provide about the atomic world.\n",
    "\n",
    "The focus of this quest soon crystalized around the \"blackbody problem\": the challenge of predicting theoretically the spectrum $\\rho(\\lambda)$ of electromagnetic radiation emitted by an object that is initially in thermal equilibrium at some fixed temperature $T$. Why this problem in particular? Because blackbody radiation turns out to be \"universal\": *all* materials at a fixed temperature $T$ turn out to have identical radiation spectra. A surprisingly simple proof of this fact was produced by Gustav Kirchhoff, using only the Second Law of Thermodynmics. Briefly, if two different materials had different radiation spectra at the same temperature, colored filters could be used to transfer heat from one to the other, leading to the spontaneous transfer of energy from a *colder* object to a *hotter* one and enabling the construction of a perpetual motion machine.\n",
    "\n",
    "The fact that *all* materials give rise to the same blackbody radiation greatly simplified efforts to calculate $\\rho(\\lambda)$ theoretically because it meant that researchers could make whatever assumptions were convenient about the atomistic structure of the material. It didn't matter whether these atomistic models were actually correct -- according to the Second Law, $\\rho(\\lambda)$ would be the same either way. \n"
   ]
  },
  {
   "attachments": {
    "image.png": {
     "image/png": "[encoded data removed]"
    }
   },
   "cell_type": "markdown",
   "id": "250d68dd",
   "metadata": {},
   "source": [
    "# The Ultraviolet Catastrophe #\n",
    "\n",
    "Using this result, $\\rho(\\lambda)$ can (relatively) easily be calculated to have the functional form\n",
    "$$\\rho(\\nu) = 2 k_\\text{B} T \\frac{\\nu^2}{c^2} $$\n",
    "or as a function of wavelength \n",
    "$$ \\rho(\\lambda) = 2 k_\\text{B} T \\frac{c}{\\lambda^4}. $$\n",
    "This is a beautifully simple result: the amount of radiation emitted by an object in thermal equilibrium at a fixed temperature is a simple quadratic function of the frequency $\\nu$ or a quartic function of the wavelength. \n",
    "\n",
    "Unfortunately, the result is in complete disagreement with experiment. The image below compares the *predicted* blackbody spectrum of an object at 10,000 K compared to the *actual* spectrum of such an object. In the infrared region of the spectrum (frequencies below visible light), the agreement is reasonable. But as we move toward the visible and ultraviolet regions, the comparison becomes increasingly \"catastrophic\": The real spectrum converges toward zero, while the theoretical curve soars up toward infinity with no upper imit. \n",
    "\n",
    "![image.png](attachment:image.png)"
   ]
  },
  {
   "cell_type": "markdown",
   "id": "623120d5",
   "metadata": {},
   "source": [
    "# Quantization and the Birth of Quantum Mechanics #\n",
    "\n",
    "As a blow to the bedrock of physics, the significance of the UV catastrophe can hardly be overstated. What was so terrifying about this result to early 20$^{th}$ century physicists was that the derivation of the blackbody law depended only on three things: \n",
    "* Newton's equations (for the matter)\n",
    "* Maxwell's equations (for the light)\n",
    "* The Second Law of Thermodynamics (to simplify and justify assumptions about the material)\n",
    "\n",
    "And yet it didn't work! With great reluctance, scientists began to realize that (at least) one of these assumptions had to be wrong!\n",
    "\n",
    "Fortunately, they didn't have to wait long for a resolution: In the first years of the 20$^{th}$ century, a German scientist named Max Planck noticed that a very simple adjustment to the calculation of $\\rho(\\nu)$ would solve the problem. According to Newton's equations, a material system can take on any energy between 0 and infinity: an object at rest can be assigned an energy of 0, and as the object moves faster (or explores other regions of the potential energy surface) its energy increases continuously. What Planck noticed was that if he relaxed this assumption and allowed the material to take on only certain discrete energy states, the form of the blackbody curve changed dramatically: \n",
    "\n",
    "$$\\rho(\\nu) = \\frac{2h}{c^2} \\frac{\\nu^3}{ e^{\\frac{h \\nu}{k_B T} } - 1} . $$\n",
    "\n",
    "In contrast to the (incorrect) continuous increase of the original blackbody curve, this function increases steadily at low frequencies but (when $ h \\nu$ becomes large relative to $k_B T$) the denominator becomes very large and eventually drives the curve toward zero. In fact, if the constant $h$ (which sets the \"step size\" between Planck's discrete or \"quantized\" energy states) was chosen correctly, the curve was found to match the available experimental data almost exactly. \n"
   ]
  },
  {
   "cell_type": "markdown",
   "id": "ac64b123",
   "metadata": {},
   "source": [
    "# Back to Avogadro's Number # \n",
    "\n",
    "Without exaggeration, Planck's finding revolutionized science. From this observation, the new theory of quantum physics was born, making possible a vast range of new scientific theories and technological advancements, from nuclear reactors to MP3 players. \n",
    "\n",
    "But you may be wondering at this point what all this has to do with Avogadro's number. You've probably noticed already that Planck's radiation formula allows us to determine the value of $h$ (Planck's constant), one of the fundamental constants we discussed at the start. What you may not have noticed is that it *also* provides a way to measure the Boltzmann constant $k_B$, which from statistical mechanics we know is related to the ideal gas constant $R$ by the formula\n",
    "$$ R = k_B \\cdot N_A$$\n",
    "\n",
    "where $N_A$ is Avogadro's number. The *magnitude* of the blackbody curve is directly proportional to $h$, while the *shape* is determined by the ratio of $\\frac{h}{k_B}$ in the exponent in the denominator. Thus if both the shape and absolute intensity of radiation emitted by a blackbody source are known, both constants can be obtained independently. "
   ]
  },
  {
   "cell_type": "markdown",
   "id": "d15aaf8e",
   "metadata": {},
   "source": [
    "# Today's Lab #\n",
    "\n",
    "In today's lab, you'll take advantage of this observation to first calculate the *ratio* $\\frac{h}{k_B}$ by fitting the shape of the emission spectrum of a calibrated blackbody source (temperature-stabilized at 2796 K). We'll then estimate the absolute magnitude of both $h$ and $k_B$ individually by plugging our experimentally determined ratio into an expression for the total radiant intensity emitted by the sun (which is well approximated as a blackbody emitter at T = 5772 K). From there, you'll calculate Avogadro's number, just as Planck did in the early 1900s.\n",
    "\n",
    "For detailed instructions, click here: <br><a href=\"Part1.ipynb\"> <button class=\"p-Widget jupyter-widgets jupyter-button widget-button mod-warning\" style=\"width:100px; background-color:#E9E9E9; font-size:10pt; color:black\">Go!</button></a>\n"
   ]
  },
  {
   "cell_type": "code",
   "execution_count": 1,
   "id": "f4dc2a9d",
   "metadata": {
    "ExecuteTime": {
     "end_time": "2023-11-27T15:04:10.745770Z",
     "start_time": "2023-11-27T15:04:10.563242Z"
    }
   },
   "outputs": [
    {
     "data": {
      "application/vnd.jupyter.widget-view+json": {
       "model_id": "ca8a29ed2a6a4452845e3934d3c03b7f",
       "version_major": 2,
       "version_minor": 0
      },
      "text/plain": [
       "HBox(children=(Text(value='', description='Purdue ID:', placeholder='User name'), Button(description='Copy Exe…"
      ]
     },
     "metadata": {},
     "output_type": "display_data"
    },
    {
     "data": {
      "application/vnd.jupyter.widget-view+json": {
       "model_id": "6d2ee78deae14f428e79447e72771a08",
       "version_major": 2,
       "version_minor": 0
      },
      "text/plain": [
       "HTML(value='')"
      ]
     },
     "metadata": {},
     "output_type": "display_data"
    }
   ],
   "source": [
    "import ipywidgets as widgets\n",
    "import os\n",
    "from IPython.display import display\n",
    "from IPython.display import display_markdown\n",
    "\n",
    "HTMLButtonPrompt = '''<html>\n",
    "<head>\n",
    "<meta name=\"viewport\" content=\"width=device-width, initial-scale=1\">\n",
    "</head>\n",
    "<body>\n",
    "<a href=\"{link}\" target=\"_blank\" >\n",
    "<button class=\"p-Widget jupyter-widgets jupyter-button widget-button mod-warning\" style=\"width:100px; background-color:#E9E9E9; font-size:10pt; color:black\">{text}</button>\n",
    "</a>\n",
    "</body>\n",
    "</html>\n",
    "'''\n",
    "\n",
    "\n",
    "HTMLDeadPrompt = '''<html>\n",
    "<head>\n",
    "<meta name=\"viewport\" content=\"width=device-width, initial-scale=1\">\n",
    "</head>\n",
    "<body>\n",
    "<button class=\"p-Widget jupyter-widgets jupyter-button widget-button mod-warning\" style=\"width:100px; background-color:#E9E9E9; font-size:10pt; color:#D2D2D2\">{text}</button>\n",
    "</body>\n",
    "</html>'''\n",
    "\n",
    "\n",
    "\n",
    "def copy_exercise(self):\n",
    "    uname = txt_uname.value.replace(\" \", \"_\").lower()\n",
    "    fpath = \"../../../../local/\"\n",
    "    flist = ['analysis.ipynb', 'response.txt']\n",
    "    \n",
    "    cpname = \"Blackbody_\" + uname + \".ipynb\"\n",
    "\n",
    "    if len(uname)<=0:\n",
    "        print('Please enter a valid user name!')\n",
    "        \n",
    "    elif os.path.isfile(fpath+cpname) and cb_overwrite.value==False:\n",
    "        message_box.value = 'The file already exists! Click \\\"Open\\\" to access.<br> \\\n",
    "        If you want to delete the file and start fresh, you\\'ll need to: <br>  \\\n",
    "           (1) open the file, <br> \\\n",
    "           (2) Click \\\"Edit App\\\" in the top-right corner,<br>\\\n",
    "           (3) Click the File > Open dropdown, and <br> \\\n",
    "           (4) Manually delete the file using the file browser. <br> \\\n",
    "        Then you can return to this page to copy it again. <br> \\\n",
    "        <b>But be careful!</b> This will also delete any data that you\\'ve stored in the notebook!'\n",
    "        bt_open.value=HTMLButtonPrompt.format(link=fpath+cpname, text='Open')\n",
    "        \n",
    "    else:\n",
    "        err = False\n",
    "        \n",
    "        for fname in flist:\n",
    "            \n",
    "            # If it's the first file, reset the file name\n",
    "            if fname==flist[0]:\n",
    "                out = !{\"cp \" + fname + \" \" + fpath+cpname}\n",
    "                if len(out)>0:\n",
    "                    for line in out:\n",
    "                        err = True\n",
    "                        print(out)\n",
    "            else:\n",
    "                \n",
    "                # If it's an image file, make sure the img folder exists\n",
    "                if fname[0:4]=='img/':\n",
    "                    if os.path.isdir(fpath+'/img')==False:\n",
    "                        out = !{'mkdir ' + fpath + '/img'}\n",
    "                        if len(out)>0:\n",
    "                            err = True\n",
    "                            for line in out:\n",
    "                                print(out)\n",
    "                                \n",
    "                # Now copy the file\n",
    "                out = !{\"cp \" + fname + \" \" + fpath+fname}\n",
    "                if len(out)>0:\n",
    "                    for line in out:\n",
    "                        err = True\n",
    "                        print(out)\n",
    "                \n",
    "        if err==False:\n",
    "            bt_open.value=HTMLButtonPrompt.format(link=fpath+cpname, text='Open')\n",
    "    \n",
    "txt_uname = widgets.Text(\n",
    "    value='',\n",
    "    placeholder='User name',\n",
    "    description='Purdue ID:',\n",
    "    disabled=False\n",
    ")\n",
    "\n",
    "\n",
    "bt_genfile = widgets.Button(\n",
    "    description='Copy Exercise',\n",
    "    disabled=False,\n",
    "    button_style='', # 'success', 'info', 'warning', 'danger' or ''\n",
    "    tooltip='Enter your username and then click to create a local exercise file'\n",
    ")\n",
    "\n",
    "bt_open = widgets.HTML(HTMLDeadPrompt.format(text='Open'))\n",
    "\n",
    "cb_overwrite = widgets.Checkbox(\n",
    "    value=False,\n",
    "    description='Overwrite Existing?',\n",
    "    disabled=False\n",
    ")\n",
    "\n",
    "bt_genfile.on_click(copy_exercise)\n",
    "\n",
    "message_box = widgets.HTML('')\n",
    "\n",
    "display(widgets.HBox([txt_uname, bt_genfile, bt_open]))\n",
    "display(message_box)\n"
   ]
  },
  {
   "cell_type": "code",
   "execution_count": null,
   "id": "a6860e4a",
   "metadata": {},
   "outputs": [],
   "source": []
  }
 ],
 "metadata": {
  "kernelspec": {
   "display_name": "Python 3.8",
   "language": "python",
   "name": "python3"
  },
  "language_info": {
   "codemirror_mode": {
    "name": "ipython",
    "version": 3
   },
   "file_extension": ".py",
   "mimetype": "text/x-python",
   "name": "python",
   "nbconvert_exporter": "python",
   "pygments_lexer": "ipython3",
   "version": "3.8.10"
  },
  "toc": {
   "base_numbering": 1,
   "nav_menu": {},
   "number_sections": true,
   "sideBar": true,
   "skip_h1_title": false,
   "title_cell": "Table of Contents",
   "title_sidebar": "Contents",
   "toc_cell": false,
   "toc_position": {},
   "toc_section_display": true,
   "toc_window_display": false
  },
  "varInspector": {
   "cols": {
    "lenName": 16,
    "lenType": 16,
    "lenVar": 40
   },
   "kernels_config": {
    "python": {
     "delete_cmd_postfix": "",
     "delete_cmd_prefix": "del ",
     "library": "var_list.py",
     "varRefreshCmd": "print(var_dic_list())"
    },
    "r": {
     "delete_cmd_postfix": ") ",
     "delete_cmd_prefix": "rm(",
     "library": "var_list.r",
     "varRefreshCmd": "cat(var_dic_list()) "
    }
   },
   "types_to_exclude": [
    "module",
    "function",
    "builtin_function_or_method",
    "instance",
    "_Feature"
   ],
   "window_display": false
  }
 },
 "nbformat": 4,
 "nbformat_minor": 5
}
