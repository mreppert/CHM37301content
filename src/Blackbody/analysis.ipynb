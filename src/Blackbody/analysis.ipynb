{
 "cells": [
  {
   "cell_type": "markdown",
   "id": "664fe9b3",
   "metadata": {},
   "source": [
    "# 1. Plot Spectra #\n",
    "\n",
    "Let's start by importing the spectroscopic data you collected for the blacklight, flash light, laser pointer, and blackbody source. In the code block below:\n",
    "* Import your experimental spectra from the respective csv files\n",
    "* Plot the data in a single MatPlotlib window\n",
    "* Add a legend to indicate which spectrum is which \n",
    "* Label your x and y axes. (Use correct units for the x axis. You can label the y-axis as \"Raw Counts\".\n",
    "\n",
    "You'll compare these spectra in the discussion questions below. "
   ]
  },
  {
   "cell_type": "code",
   "execution_count": null,
   "id": "9b897791",
   "metadata": {
    "ExecuteTime": {
     "end_time": "2023-11-27T13:56:09.023332Z",
     "start_time": "2023-11-27T13:56:09.021212Z"
    }
   },
   "outputs": [],
   "source": [
    "# Insert your plotting code here. "
   ]
  },
  {
   "attachments": {
    "image-2.png": {
     "image/png": "[encoded data removed]"
    }
   },
   "cell_type": "markdown",
   "id": "6ba467a2",
   "metadata": {},
   "source": [
    "# Correct your spectra for detector effects #\n",
    "\n",
    "The \"Raw Counts\" in the spectra you just plotted correspond roughly to the number of photons of each wavelength detected by the CCD camera inside the Vernier spectrometer. The number of photons *detected* by the CCD, however, doesn't necessarily correspond to the number of photons *emitted* by your sample. To get an accurate estimate of $h$ and $k_B$, we'll need to correct for two \"flavors\" of error in the experimental data. \n",
    "\n",
    "\n",
    "## Background Subtraction ##\n",
    "\n",
    "The first type of error we'll correct for is subtraction of a static baseline to correct for the fact that the CCD camera gives some signal even when no light is hitting the detector. In principle, these errors should already be accounted for by the Vernier spectrometer, but you'll probably notice in your data that the signal does not *quite* decay to zero on the short-wavelength (high-frequency) side. To correct for this, you'll need to subtract from your blackbody spectrum (\"blackbody.csv\") the background curve (\"background.csv\") you measured in the lab. \n",
    "\n",
    "\n",
    "## Detector Responsiveness ##\n",
    "\n",
    "The second artifact we have to correct for is that CCD cameras are more sensitive to photons in the middle of the visible spectrum than they are to photons at the edge. So if the camera detects 90% of the photons at 650 nm, it might only capture 20% of the photons at 800 nm or 500 nm. To get accurate spectra, we thus need to correct our experimentally measured curves for the responsiveness of the detector. The plot below shows the approximate response efficiency of the actual CCD camera used in the Vernier spectrometer. (Measured for you ahead of time.) You'll correct for this wavelength-dependent responsiveness by dividing your baseline-corrected data by the response curve. \n",
    "\n",
    "![image-2.png](attachment:image-2.png)\n",
    "\n",
    "## Instructions ##\n",
    "\n",
    "Including both baseline and response-curve corrections, your final corrected spectrum should be given by $$ S_{corr}(\\lambda) = \\frac{S_{raw}(\\lambda) - B(\\lambda)}{R(\\lambda)}, $$\n",
    "where $B(\\lambda)$ is your measured background spectrum, and $R(\\lambda)$ is the response curve provided for you. \n",
    "\n",
    "In the code cell below, \n",
    "1. Load your experimental blackbody spectrum into a NumPy array.\n",
    "2. Load your experimental background spectrum into a NumPy array. \n",
    "3. Load the response curve stored in \"response.txt\" into a NumPy array. (This file is automatically included for you with this notebook). \n",
    "4. Subtract the background curve from the blackbody curve. \n",
    "5. Divide this background-corrected curve by the response curve. \n",
    "\n",
    "Note how the shape of the curve changes based on the response curve. At wavelengths where the detector is not very responsive (the response curve is small), does the response correction increase or decrease the signal compared to the raw data? Why does this happen? "
   ]
  },
  {
   "cell_type": "code",
   "execution_count": null,
   "id": "0a5bc640",
   "metadata": {
    "ExecuteTime": {
     "end_time": "2023-11-27T13:56:09.770064Z",
     "start_time": "2023-11-27T13:56:09.768155Z"
    },
    "scrolled": false
   },
   "outputs": [],
   "source": [
    "# Insert your code here"
   ]
  },
  {
   "cell_type": "markdown",
   "id": "2414bc0e",
   "metadata": {},
   "source": [
    "# 3. Estimate the ratio $\\frac{h}{k_B}$ #\n",
    "\n",
    "We're finally ready to estimate $\\frac{h}{k_B}$. In the next section, you'll use the SciPy optimize package to fit your data automatically. But you'll quickly learn that success in numerical fitting often depends strongly on having a good initial guess. So let's see if we can get a rough guess for the *approximate* value of the ratio $\\frac{h}{k_B}$ before we do any numerical fitting. \n",
    "\n",
    "To do this, take a look again at the Blackbody radiation formula, expressed as a function of wavelength: \n",
    "\n",
    "$$\\rho(\\lambda) = \\frac{2hc^2}{\\lambda^5} \\frac{1}{ e^{\\frac{hc}{\\lambda k_B T} } - 1} . $$\n",
    "\n",
    "Due to the wavelength range of our UV/Vis spectrometers, we can't see much of the infrared part of the spectrum (wavelengths longer than 800 nm). But we can easily see the wavelength range where the signal drops to zero on the short wavelength (high-frequency) side. Roughly speaking, this will happen when the exponent factor $\\frac{hc}{\\lambda k_B T}$ in the denominator of the blackbody expression becomes larger than 1, so that the exponential $e^{\\frac{hc}{\\lambda k_B T}}$ begins to rapidly increase, sending the denominator toward infinity and the expression as a whole toward zero. \n",
    "\n",
    "Mathematically, this happens at the wavelength $\\lambda_0$ where\n",
    "\n",
    "$$ \\frac{h c}{\\lambda_0 k_B T} \\approx 1 $$\n",
    "or \n",
    "$$ \\frac{h}{k_B} \\approx \\frac{\\lambda_0 T}{c} .$$\n",
    "\n",
    "In the code block below, use this expression to estimate the value of the ratio $\\frac{h}{k_B}$, referring back to your response-corrected blackbody curve to estimate the wavelength $\\lambda_0$ where the blackbody spectrum approaches zero. For concreteness, you could set $\\lambda_0$ to be the wavelength at which the experimental curve drops to less than 10% of its maximum value. \n",
    "\n",
    "Write your code so that your estimate of the ratio $\\frac{h}{k_B}$ is stored as a variable named ``hkEstimate`` and add the line \n",
    "\n",
    "``print(hkEstimate)`` \n",
    "\n",
    "to print the result to the screen. "
   ]
  },
  {
   "cell_type": "code",
   "execution_count": null,
   "id": "690171ec",
   "metadata": {
    "ExecuteTime": {
     "end_time": "2023-11-27T13:57:07.675136Z",
     "start_time": "2023-11-27T13:57:07.672851Z"
    }
   },
   "outputs": [],
   "source": [
    "# Enter your code here #"
   ]
  },
  {
   "cell_type": "markdown",
   "id": "6aa616aa",
   "metadata": {},
   "source": [
    "## Fit your data to determine $\\frac{h}{k_B}$ ##\n",
    "\n",
    "Now that we have a rough estimate for $\\frac{h}{k_B}$, let's get a more accurate value by using the SciPy.Optimize toolbox to fit the data numerically. The Optimize tookbox is very powerful, but its syntax can be a little confusing, so we'll walk through this together. The code below assumes that your (detector-corrected) blackbody spectrum is stored in a NumPy array called ``bb``, where ``bb[:,0]`` is the wavelength axis in nm, and ``bb[:,1]`` is the baseline- and response-corrected blackbody curve. Essentially, there are three steps: \n",
    "\n",
    "0. **Import scipy.optimize**. Use ``from scipy import optimize``. 'Nuff said. \n",
    "\n",
    "1. **Define the function to which you wish to fit your data.** The function should be definined with a specific form: \n",
    "    * The first argument should be the x-axis at which it should be evaluated. \n",
    "    * The remaining arguments should be parameters to be optimized. \n",
    "    \n",
    "    In our case, there is only one optimization parameter, so we can use the syntax ``def blackbody(xvals, hk):`` to define our fit function. ``xvals`` will be the x-axis vector denoting wavelength, while ``hk`` will represent the ratio $\\frac{h}{k_B}$ to be optimized. \n",
    "\n",
    "2. **Call ``optimize.curve_fit`` with the following arguments:**\n",
    "    * 1st argument: The fit function, in this case ``blackbody``, *without arguments*. The arguments will be added by scipy.optimize during the fitting procedure. \n",
    "    * 2nd argument: x-axis values. In our case, we'll pass the wavelength axis from our data ``bb[:,0]``. \n",
    "    * 3rd argument: y-values to fit against. This is our experimental blackbody spectrum, stored in the array ``bb[:,1]``. \n",
    "    * 4th argument: Initial guess for fit parameters, as a Python list. In our case, there's only one parameter, so we'll pass a list containing only our estimated value ``[hkEstimate]`` for $\\frac{h}{k_B}$. \n",
    "    * Optional argument: Upper and lower limits for fit parameters. This isn't required, but it often helps to keep the fitting procedure from going off the rails, especially in situations where there is more than one argument to fit. In this case, bounds are useful to prevent numerical overflow errors in the ``np.exp()`` call that defines the blackbody curve. (Numbers like $e^{1000}$ are very, very big and tend to produce numerical errors.) Here we'll just set the error bounds to 100 times larger and 100 times smaller than our initial estimate using the syntax ``bounds=(hkEstimate*0.01,hkEstimate*100)``. Note the ``bounds=`` is required here because ``bounds`` is an optional argument and otherwise scipy.optimize won't be sure *which* optional argument this is. (There are others.)\n",
    "    \n",
    "Altogether, we get the following syntax: \n",
    "\n",
    "``pars, parcov = optimize.curve_fit(blackbody, bb[:,0], bb[:,1], [hkEstimate], bounds=(hkEstimate*0.01,hkEstimate*100))``\n",
    "\n",
    "where the output parameters ``pars`` and ``parcov`` are, respectively, a list of best-fit parameters and an estimated covariance matrix indicating the uncertainty associated with the fit. More specifically, the square root of the diagonal elements of ``parcov`` gives the one standard deviation error for each fit parameter. Note that this covarience estimate captures only the uncertainty due to *noise* in the data (i.e., random fluctuations around the true value). It does *not* reflect systematic errors that may also be present, e.g., due to a miscalibrated source or detector. \n",
    "\n",
    "The code block below is set up to fit your baseline-corrected blackbody data, stored in an array called ``bb``. Note that before the fitting procedure starts, ``bb[:,1]`` is normalized to have a sum of exactly 1. The ``blackbody()`` function does the same with its output data. This avoids the need to fit the amplitude of our data (which doesn't mean much in our measurement), so that the optimization can focus exclusively on the shape of the curve. \n",
    "\n",
    "Use the code block below to:\n",
    "1. Fit your blackbody curve\n",
    "2. Print the best-estimate of $\\frac{h}{k_B}$ -- with units!\n",
    "3. Print the estimated error in the fit (also with units!). \n",
    "4. Plot both the experimental data and the best-fit curve by evaluating the blackbody() function using your best-fit parameters. \n",
    "\n",
    "Be sure to use correct axis labels and include a legend to show which curve is which. "
   ]
  },
  {
   "cell_type": "code",
   "execution_count": null,
   "id": "a835aa3e",
   "metadata": {
    "ExecuteTime": {
     "end_time": "2023-11-27T13:56:40.987484Z",
     "start_time": "2023-11-27T13:56:40.972567Z"
    }
   },
   "outputs": [],
   "source": [
    "from scipy import optimize\n",
    "\n",
    "# The first argument should be the x-axis\n",
    "# The second argument is h/k, which will be optimized. \n",
    "def blackbody(xvals, hk):\n",
    "    \n",
    "    T = 2796.0     # Lamp Temperature in K\n",
    "    c = (2.9979e+8)*(1e+9) # speed of light in nm/sec\n",
    "    \n",
    "    # This is the generic form for a Blackbody radiator at temperature T\n",
    "    yvals = 1.0/((np.exp(c*hk/(xvals*T)) - 1.0)*((xvals)**5))\n",
    "    \n",
    "    # Since we're only fitting the shape (not the absolute intensity), we\n",
    "    # normalize by dividing by the sum of all data points (which is \n",
    "    # proportional to the area under the curve.)\n",
    "    yvals /= np.sum(yvals)\n",
    "    return yvals\n",
    "\n",
    "bb[:,1] /= np.sum(bb[:,1])\n",
    "pars, parcov = optimize.curve_fit(blackbody, bb[:,0], bb[:,1], [hkEstimate], bounds=(hkEstimate*0.01,hkEstimate*100))"
   ]
  },
  {
   "cell_type": "markdown",
   "id": "8596166f",
   "metadata": {},
   "source": [
    "# Questions #\n",
    "\n",
    "## 1. Light sources ##\n",
    "\n",
    "<span style=\"color:red\">Referring back to your plot of the light sources from the laser pointer: Do you think any of these sources are blackbody emitters? How can you tell? Why does Kirchhoff's theorem not apply to them? </span>\n"
   ]
  },
  {
   "cell_type": "markdown",
   "id": "7df41047",
   "metadata": {},
   "source": []
  },
  {
   "cell_type": "markdown",
   "id": "30e8c4ef",
   "metadata": {},
   "source": [
    "\n",
    "\n",
    "## 2. Detector Response Correction ##\n",
    "\n",
    "<span style=\"color:red\">Referrring back to your correction for the detector respone: at wavelengths where the detector is not very responsive (the response curve is small), does the response correction increase or decrease the signal compared to the raw data? Why does this happen?</span>\n"
   ]
  },
  {
   "cell_type": "markdown",
   "id": "20fb1522",
   "metadata": {},
   "source": []
  },
  {
   "cell_type": "markdown",
   "id": "7487093d",
   "metadata": {},
   "source": [
    "## 3. $\\frac{h}{k_B}$ estimate ##\n",
    "\n",
    "\n",
    "<span style=\"color:red\">How close was your estimate of $\\frac{h}{k_B}$ to the true value? How does this compare to the reported one-standard-deviation error from scipy.optimize? What do you think determines the error in this experiment? </span>\n"
   ]
  },
  {
   "cell_type": "markdown",
   "id": "2f18d5c7",
   "metadata": {},
   "source": []
  },
  {
   "cell_type": "markdown",
   "id": "0f1580ca",
   "metadata": {},
   "source": [
    "## 4. Estimate $h$ and $k_B$ individually ##\n",
    "\n",
    "Your experimental measurement provides an estimate for the ratio $\\frac{h}{k_B}$, but to get these two terms *separately* we need a measurement of the total power of a blackbody source with a known surface area. (At a given temperature, large objects emit more light than smaller objects, so it's important that we know the area accurately.) Since we don't know the total surface area of the ThorLabs blackbody emitter, we can't use this to estimate $h$ and $k_B$ directly. \n",
    "\n",
    "Fortunately, there's an easy way to get a back-of-the-envelope estimate for these factors without doing any more measurements. The sun closely approximates a blackbody source with the following parameters:\n",
    "* Radius: 6.96$\\cdot 10^8$ m\n",
    "* Temperature: 5700 K\n",
    "* Distance from the earth: 1.50$\\cdot 10^{11}$ m. \n",
    "* Intensity of light hitting the earth: 1361 J/(m$^2 \\cdot $ s).\n",
    "\n",
    "If one integrates Planck's blackbody radiation law over all frequencies, orientations, and the total surface area of the emitter, we obtain a formula (the *Stefan-Boltzmann Law*) for the total power emitted by the sun:\n",
    "$$ P_{sun} = \\frac{8 \\pi^6 (k_B T)^4}{15 c^2 h^3} R_{sun}^2 = \\frac{8 \\pi^6 T^4}{15 c^2 \\left( \\frac{h}{k_B} \\right)^3} \\cdot R_{sun}^2 \\cdot k_B . $$\n",
    "\n",
    "Note that in the second equality, we have grouped the three factors of $h$ together with three of the four factors of $k_B$ into the ratio $\\frac{h}{k_B}$ that you just estimated. A lone factor of $k_B$ remains on the right-hand side. If we can calculate the total power of light emitted by the sun, we can thus calculate $k_B$ directly:\n",
    "\n",
    "$$ k_B = \\frac{P_{sun}}{\\frac{8 \\pi^6 T^4}{15 c^2 \\left( \\frac{h}{k_B} \\right)^3} \\cdot R_{sun}^2}$$\n",
    "\n",
    "This might sound hard (how do you get a detector around the entire sun?), but it's actually quite easy. All we really have to do is measure the intensity of sunlight striking a detector on earth (1.5$\\cdot 10^{11}$ m away from the sun) and then calculate how much of the total light emitted by the sun is striking that detector. (Hint: this is a very small number!) More precisely, a 1 m$^2$ detector on earth represents \n",
    "\n",
    "$$ f = \\frac{1 m^2}{4\\pi\\cdot (1.5\\cdot 10^{11} m)^2} = 3.54\\cdot 10^{-24}$$\n",
    "\n",
    "of the total power emitted by the sun. (The denominator here is the surface area of a sphere with $1.5\\cdot 10^{11}$ m, the distance from the earth to the sun.) The sun's total power is thus (approximately)\n",
    "\n",
    "$$ P_{sun} = \\frac{1361 J/(m^2\\cdot s) }{3.54\\cdot10^{-24}} = 3.85 \\cdot 10^{26} J/(m^2\\cdot s) .$$\n",
    "\n",
    "<span style=\"color:red\">Use this result together with the formula above for $k_B$ in terms of $R_{sun}$ and your experimentally determined value of $\\frac{h}{k_B}$ to estimate the absolute value of $k_B$. Put your numerical calculations in the code block below, and then discuss in the Markdown box that follows:</span>\n",
    "* <span style=\"color:red\">How close you get to the real value for $k_B$? </span>\n",
    "* <span style=\"color:red\">What estimate do you get for $h$ you get by combining your estimates of $\\frac{h}{k_B}$ and $k_B$? </span>"
   ]
  },
  {
   "cell_type": "code",
   "execution_count": null,
   "id": "a53d2bbe",
   "metadata": {
    "ExecuteTime": {
     "end_time": "2023-11-27T13:56:56.198626Z",
     "start_time": "2023-11-27T13:56:56.196366Z"
    }
   },
   "outputs": [],
   "source": [
    "# Enter your code here #"
   ]
  },
  {
   "cell_type": "markdown",
   "id": "8f6846e1",
   "metadata": {},
   "source": []
  },
  {
   "cell_type": "markdown",
   "id": "0ba7be18",
   "metadata": {},
   "source": [
    "## Estimating Avogadro's number ##\n",
    "\n",
    "<span style=\"color:red\">Finally, use the relationship $$R = N_A k_B$$ between the ideal gas constant $R$, Avogadro's number $N_A$, and the Boltzmann constant $k_B$ to estimate Avogadro's number. How close do you come to the true value? </span>"
   ]
  },
  {
   "cell_type": "code",
   "execution_count": null,
   "id": "1b3c696f",
   "metadata": {
    "ExecuteTime": {
     "end_time": "2023-11-27T13:57:01.007274Z",
     "start_time": "2023-11-27T13:57:01.005090Z"
    }
   },
   "outputs": [],
   "source": [
    "# Enter your code here #"
   ]
  },
  {
   "cell_type": "markdown",
   "id": "997f5514",
   "metadata": {},
   "source": []
  },
  {
   "cell_type": "code",
   "execution_count": null,
   "id": "627699a3",
   "metadata": {},
   "outputs": [],
   "source": []
  }
 ],
 "metadata": {
  "kernelspec": {
   "display_name": "Python 3.8",
   "language": "python",
   "name": "python3"
  },
  "language_info": {
   "codemirror_mode": {
    "name": "ipython",
    "version": 3
   },
   "file_extension": ".py",
   "mimetype": "text/x-python",
   "name": "python",
   "nbconvert_exporter": "python",
   "pygments_lexer": "ipython3",
   "version": "3.8.10"
  },
  "toc": {
   "base_numbering": 1,
   "nav_menu": {},
   "number_sections": true,
   "sideBar": true,
   "skip_h1_title": false,
   "title_cell": "Table of Contents",
   "title_sidebar": "Contents",
   "toc_cell": false,
   "toc_position": {},
   "toc_section_display": true,
   "toc_window_display": false
  },
  "varInspector": {
   "cols": {
    "lenName": 16,
    "lenType": 16,
    "lenVar": 40
   },
   "kernels_config": {
    "python": {
     "delete_cmd_postfix": "",
     "delete_cmd_prefix": "del ",
     "library": "var_list.py",
     "varRefreshCmd": "print(var_dic_list())"
    },
    "r": {
     "delete_cmd_postfix": ") ",
     "delete_cmd_prefix": "rm(",
     "library": "var_list.r",
     "varRefreshCmd": "cat(var_dic_list()) "
    }
   },
   "types_to_exclude": [
    "module",
    "function",
    "builtin_function_or_method",
    "instance",
    "_Feature"
   ],
   "window_display": false
  }
 },
 "nbformat": 4,
 "nbformat_minor": 5
}
