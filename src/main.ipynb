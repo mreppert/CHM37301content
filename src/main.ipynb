{
 "cells": [
  {
   "cell_type": "code",
   "execution_count": 1,
   "metadata": {},
   "outputs": [
    {
     "data": {
      "application/javascript": [
       "IPython.OutputArea.auto_scroll_threshold = 9999\n"
      ],
      "text/plain": [
       "<IPython.core.display.Javascript object>"
      ]
     },
     "metadata": {},
     "output_type": "display_data"
    }
   ],
   "source": [
    "%%javascript\n",
    "IPython.OutputArea.auto_scroll_threshold = 9999"
   ]
  },
  {
   "cell_type": "code",
   "execution_count": 11,
   "metadata": {},
   "outputs": [],
   "source": [
    "from IPython.display import display_markdown\n",
    "import sys, os\n",
    "\n",
    "import schedule"
   ]
  },
  {
   "cell_type": "markdown",
   "metadata": {},
   "source": [
    "# CHM 37301: Physical Chemistry Laboratory\n",
    "\n"
   ]
  },
  {
   "cell_type": "code",
   "execution_count": 13,
   "metadata": {},
   "outputs": [
    {
     "data": {
      "text/markdown": [
       "Welcome to Physical Chemistry Laboratory!<br><br> This site hosts Jupyter Notebooks where you can upload, import, and analyze your experimental data and write electronic lab reports for each laboratory period. The schedule below will be updated each week with links to the relevant notebook sessions.\r",
       "## Experiment 1 \r",
       " * <b>Aug 22</b>: <a href=\"./TempSensors/temp_sensors_main.ipynb\"> <span style=\"color:Black;text-decoration:underline\">Group A: Temp. Sensors and Computer Analysis</span></a> \r",
       "\r",
       " * <b>Aug 29</b>: <a href=\"./TempSensors/temp_sensors_main.ipynb\"> <span style=\"color:Black;text-decoration:underline\">Group B: Temp. Sensors and Computer Analysis</span></a> \r",
       "\r",
       "\r",
       "## Experiment 2 \r",
       " * <b>Sep 5</b>: <a href=\"./UVVis/uvvis_main_a.ipynb\"> <span style=\"color:Black;text-decoration:underline\">Group A: Electronic Spectroscopy Part 1</span></a> \r",
       "\r",
       " * <b>Sep 12</b>: <a href=\"./UVVis/uvvis_main_b.ipynb\"> <span style=\"color:Black;text-decoration:underline\">Group A: Electronic Spectroscopy Part 2</span></a> \r",
       "\r",
       " * <b>Sep 19</b>: <a href=\"./UVVis/uvvis_main_a.ipynb\"> <span style=\"color:Black;text-decoration:underline\">Group B: Electronic Spectroscopy Part 1</span></a> \r",
       "\r",
       " * <b>Sep 26</b>: <a href=\"./UVVis/uvvis_main_b.ipynb\"> <span style=\"color:Black;text-decoration:underline\">Group B: Electronic Spectroscopy Part 2</span></a> \r",
       "\r",
       "\r",
       "## Experiment 3 \r",
       " * <b>Oct 3</b>: <a href=\"./Kinetics/kinetics_main_a.ipynb\"> <span style=\"color:Black;text-decoration:underline\">Group A: Gas Phase Kinetics Part 1</span></a> \r",
       "\r",
       " * <b>Oct 10</b>: <span style=\"color:Purple\">October Break (No labs)</span> \r",
       "\r",
       " * <b>Oct 17</b>: <a href=\"./Kinetics/kinetics_main_b.ipynb\"> <span style=\"color:Black;text-decoration:underline\">Group A: Gas Phase Kinetics Part 2</span></a> \r",
       "\r",
       " * <b>Oct 24</b>: <a href=\"./Kinetics/kinetics_main_a.ipynb\"> <span style=\"color:Black;text-decoration:underline\">Group B: Gas Phase Kinetics Part 1</span></a> \r",
       "\r",
       " * <b>Oct 31</b>: <a href=\"./Kinetics/kinetics_main_b.ipynb\"> <span style=\"color:Black;text-decoration:underline\">Group B: Gas Phase Kinetics Part 1</span></a> \r",
       "\r",
       "\r",
       "## Experiment 4 \r",
       " * <b>Nov 7</b>: <a href=\"./JouleThomson/joule_thomson_main_a.ipynb\"> <span style=\"color:Black;text-decoration:underline\">Group A: Joule Thomson Part 1</span></a> \r",
       "\r",
       " * <b>Nov 14</b>: <a href=\"./JouleThomson/joule_thomson_main_b.ipynb\"> <span style=\"color:Black;text-decoration:underline\">Group A: Joule Thomson Part 2</span></a> \r",
       "\r",
       " * <b>Nov 21</b>: <span style=\"color:Purple\">Thanksgiving (No labs)</span> \r",
       "\r",
       " * <b>Nov 28</b>: <a href=\"./JouleThomson/joule_thomson_main_a.ipynb\"> <span style=\"color:Black;text-decoration:underline\">Group B: Joule Thomson Part 1</span></a> \r",
       "\r",
       " * <b>Dec 5</b>: <a href=\"./JouleThomson/joule_thomson_main_b.ipynb\"> <span style=\"color:Black;text-decoration:underline\">Group B: Joule Thomson Part 2</span></a> \r",
       "\r"
      ]
     },
     "metadata": {},
     "output_type": "display_data"
    }
   ],
   "source": [
    "import importlib\n",
    "importlib.reload(schedule)\n",
    "\n",
    "schd = schedule.build_schedule('./')\n",
    "schd.print_events()"
   ]
  },
  {
   "cell_type": "code",
   "execution_count": null,
   "metadata": {},
   "outputs": [],
   "source": []
  }
 ],
 "metadata": {
  "kernelspec": {
   "display_name": "Python 3",
   "language": "python",
   "name": "python3"
  },
  "language_info": {
   "codemirror_mode": {
    "name": "ipython",
    "version": 3
   },
   "file_extension": ".py",
   "mimetype": "text/x-python",
   "name": "python",
   "nbconvert_exporter": "python",
   "pygments_lexer": "ipython3",
   "version": "3.7.7"
  }
 },
 "nbformat": 4,
 "nbformat_minor": 2
}
