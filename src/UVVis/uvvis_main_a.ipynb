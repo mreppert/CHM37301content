{
 "cells": [
  {
   "cell_type": "code",
   "execution_count": 2,
   "metadata": {},
   "outputs": [
    {
     "data": {
      "application/javascript": [
       "IPython.OutputArea.auto_scroll_threshold = 9999\n"
      ],
      "text/plain": [
       "<IPython.core.display.Javascript object>"
      ]
     },
     "metadata": {},
     "output_type": "display_data"
    }
   ],
   "source": [
    "%%javascript\n",
    "IPython.OutputArea.auto_scroll_threshold = 9999"
   ]
  },
  {
   "cell_type": "code",
   "execution_count": 3,
   "metadata": {},
   "outputs": [],
   "source": [
    "import nglview as nv\n",
    "import ipywidgets as widgets"
   ]
  },
  {
   "cell_type": "markdown",
   "metadata": {},
   "source": [
    "# Optical Absorption Spectroscopy"
   ]
  },
  {
   "cell_type": "markdown",
   "metadata": {},
   "source": [
    "### Background ###\n",
    "\n",
    "#### Optical Spectroscopy ####\n",
    "\n",
    "In this lab, you'll be introduced to optical absorption spectroscopy, although you've most likely encountered many of these ideas already in other classes. Here you'll get a more detailed look at how optical spectroscopy works experimentally and how it offers insight into the rules governing our world at the atomic and molecular level. \n",
    "\n",
    "This week, you'll focus on familiarizing yourself with the Cary 60 UV/Vis spectrometer used to collect absorption and fluorescence measurements, learning how to process optical data, and building some intuition for how spectroscopic parameters like wavelength, absorbance, and percent transmission relate to more familiar concepts like color and concentration. For these experiments, you'll use both color filters and the P7 dye whose structure is displayed below. "
   ]
  },
  {
   "cell_type": "code",
   "execution_count": 9,
   "metadata": {},
   "outputs": [
    {
     "data": {
      "application/vnd.jupyter.widget-view+json": {
       "model_id": "93d8c6f6806349a883791210e0b26803",
       "version_major": 2,
       "version_minor": 0
      },
      "text/plain": [
       "HBox(children=(HTML(value='<p style=\"font-size:30px; text-align:center\">P7</p><p style=\"font-size:15px; text-a…"
      ]
     },
     "metadata": {},
     "output_type": "display_data"
    },
    {
     "data": {
      "application/vnd.jupyter.widget-view+json": {
       "model_id": "aa798397a5c84d2aa347100f0664bcd7",
       "version_major": 2,
       "version_minor": 0
      },
      "text/plain": [
       "HBox(children=(NGLWidget(),))"
      ]
     },
     "metadata": {},
     "output_type": "display_data"
    }
   ],
   "source": [
    "from ipywidgets.widgets import Box\n",
    "\n",
    "view1 = nv.show_structure_file('P5.pdb')\n",
    "view2 = nv.show_structure_file('P7.pdb')\n",
    "view3 = nv.show_structure_file('P9.pdb')\n",
    "\n",
    "view1._set_size('300px', '300px')\n",
    "view2._set_size('300px', '300px')\n",
    "view3._set_size('300px', '300px')\n",
    "\n",
    "lab1 = widgets.HTML(value='<p style=\"font-size:30px; text-align:center\">P5</p>', layout=widgets.Layout(width='300px'))\n",
    "lab2 = widgets.HTML(value='<p style=\"font-size:30px; text-align:center\">P7</p><p style=\"font-size:15px; text-align:center\">3,3’-diethylthiadicarbocyanine iodide</p>', layout=widgets.Layout(width='300px'))\n",
    "lab3 = widgets.HTML(value='<p style=\"font-size:30px; text-align:center\">P9</p>', layout=widgets.Layout(width='300px'))\n",
    "\n",
    "#labbox = widgets.HBox([lab1, lab2, lab3])\n",
    "#viewbox = widgets.HBox([view1, view2, view3])\n",
    "\n",
    "labbox = widgets.HBox([lab2])\n",
    "viewbox = widgets.HBox([view2])\n",
    "\n",
    "display(labbox)\n",
    "display(viewbox)\n",
    "\n",
    "\n"
   ]
  },
  {
   "cell_type": "markdown",
   "metadata": {},
   "source": [
    "## Your Assignment:\n",
    "\n",
    "1. In **Part 1**, you'll get to know the UV/Vis spectrometer by measuring the transmittance through a series of filters.<br><a href=\"Part1.ipynb\"> <button class=\"p-Widget jupyter-widgets jupyter-button widget-button mod-warning\" style=\"width:100px; background-color:#E9E9E9; font-size:10pt; color:black\">Go!</button></a>\n",
    "\n",
    "2. In **Part 2**, you'll see how optical wavelengths correspond to visible colors.<br><a href=\"Part2.ipynb\"> <button class=\"p-Widget jupyter-widgets jupyter-button widget-button mod-warning\" style=\"width:100px; background-color:#E9E9E9; font-size:10pt; color:black\">Go!</button></a>\n",
    "\n",
    "3. In **Part 3**, you'll explore the relationship between percent transmittance, absorbance, and concentration.<br><a href=\"Part3.ipynb\"> <button class=\"p-Widget jupyter-widgets jupyter-button widget-button mod-warning\" style=\"width:100px; background-color:#E9E9E9; font-size:10pt; color:black\">Go!</button></a>\n",
    "\n",
    "4. Finally, you'll process all this data using the Python language. By the end of this week's assignment, you should be able to \n",
    "    * Load data from a text file into a NumPy array. \n",
    "    * Plot that data using MatPlotLib. \n",
    "    * Format the plot to include data legends and axis labels. \n",
    "\n",
    "Your analysis assignment will walk you through this process step-by-step. To open a copy of the template, enter you PUID in the box below and first click \"Copy\" and then \"Open\". \n",
    "\n"
   ]
  },
  {
   "cell_type": "code",
   "execution_count": 5,
   "metadata": {},
   "outputs": [
    {
     "data": {
      "application/vnd.jupyter.widget-view+json": {
       "model_id": "03fdeff0033249aeb471a00ddd75d7c5",
       "version_major": 2,
       "version_minor": 0
      },
      "text/plain": [
       "HBox(children=(Text(value='', description='Purdue ID:', placeholder='User name'), Button(description='Copy Exe…"
      ]
     },
     "metadata": {},
     "output_type": "display_data"
    },
    {
     "data": {
      "application/vnd.jupyter.widget-view+json": {
       "model_id": "e358bc4dec794685a12a168f9d17b742",
       "version_major": 2,
       "version_minor": 0
      },
      "text/plain": [
       "HTML(value='')"
      ]
     },
     "metadata": {},
     "output_type": "display_data"
    }
   ],
   "source": [
    "import ipywidgets as widgets\n",
    "import os\n",
    "from IPython.display import display\n",
    "from IPython.display import display_markdown\n",
    "\n",
    "HTMLButtonPrompt = '''<html>\n",
    "<head>\n",
    "<meta name=\"viewport\" content=\"width=device-width, initial-scale=1\">\n",
    "</head>\n",
    "<body>\n",
    "<a href=\"{link}\" target=\"_blank\" >\n",
    "<button class=\"p-Widget jupyter-widgets jupyter-button widget-button mod-warning\" style=\"width:100px; background-color:#E9E9E9; font-size:10pt; color:black\">{text}</button>\n",
    "</a>\n",
    "</body>\n",
    "</html>\n",
    "'''\n",
    "\n",
    "\n",
    "HTMLDeadPrompt = '''<html>\n",
    "<head>\n",
    "<meta name=\"viewport\" content=\"width=device-width, initial-scale=1\">\n",
    "</head>\n",
    "<body>\n",
    "<button class=\"p-Widget jupyter-widgets jupyter-button widget-button mod-warning\" style=\"width:100px; background-color:#E9E9E9; font-size:10pt; color:#D2D2D2\">{text}</button>\n",
    "</body>\n",
    "</html>'''\n",
    "\n",
    "\n",
    "\n",
    "def copy_exercise(self):\n",
    "    uname = txt_uname.value.replace(\" \", \"_\").lower()\n",
    "    fpath = \"../../../../local/\"\n",
    "    flist = ['analysis_a.ipynb']\n",
    "    \n",
    "    cpname = \"Lab2a_\" + uname + \".ipynb\"\n",
    "\n",
    "    if len(uname)<=0:\n",
    "        print('Please enter a valid user name!')\n",
    "        \n",
    "    elif os.path.isfile(fpath+cpname) and cb_overwrite.value==False:\n",
    "        message_box.value = 'The file already exists! Click \\\"Open\\\" to access.<br> \\\n",
    "        If you want to delete the file and start fresh, you\\'ll need to: <br>  \\\n",
    "           (1) open the file, <br> \\\n",
    "           (2) Click \\\"Edit App\\\" in the top-right corner,<br>\\\n",
    "           (3) Click the File > Open dropdown, and <br> \\\n",
    "           (4) Manually delete the file using the file browser. <br> \\\n",
    "        Then you can return to this page to copy it again. <br> \\\n",
    "        <b>But be careful!</b> This will also delete any data that you\\'ve stored in the notebook!'\n",
    "        bt_open.value=HTMLButtonPrompt.format(link=fpath+cpname, text='Open')\n",
    "        \n",
    "    else:\n",
    "        err = False\n",
    "        \n",
    "        for fname in flist:\n",
    "            \n",
    "            # If it's the first file, reset the file name\n",
    "            if fname==flist[0]:\n",
    "                out = !{\"cp \" + fname + \" \" + fpath+cpname}\n",
    "                if len(out)>0:\n",
    "                    for line in out:\n",
    "                        err = True\n",
    "                        print(out)\n",
    "            else:\n",
    "                \n",
    "                # If it's an image file, make sure the img folder exists\n",
    "                if fname[0:4]=='img/':\n",
    "                    if os.path.isdir(fpath+'/img')==False:\n",
    "                        out = !{'mkdir ' + fpath + '/img'}\n",
    "                        if len(out)>0:\n",
    "                            err = True\n",
    "                            for line in out:\n",
    "                                print(out)\n",
    "                                \n",
    "                # Now copy the file\n",
    "                out = !{\"cp \" + fname + \" \" + fpath+fname}\n",
    "                if len(out)>0:\n",
    "                    for line in out:\n",
    "                        err = True\n",
    "                        print(out)\n",
    "                \n",
    "        if err==False:\n",
    "            bt_open.value=HTMLButtonPrompt.format(link=fpath+cpname, text='Open')\n",
    "    \n",
    "txt_uname = widgets.Text(\n",
    "    value='',\n",
    "    placeholder='User name',\n",
    "    description='Purdue ID:',\n",
    "    disabled=False\n",
    ")\n",
    "\n",
    "\n",
    "bt_genfile = widgets.Button(\n",
    "    description='Copy Exercise',\n",
    "    disabled=False,\n",
    "    button_style='', # 'success', 'info', 'warning', 'danger' or ''\n",
    "    tooltip='Enter your username and then click to create a local exercise file'\n",
    ")\n",
    "\n",
    "bt_open = widgets.HTML(HTMLDeadPrompt.format(text='Open'))\n",
    "\n",
    "cb_overwrite = widgets.Checkbox(\n",
    "    value=False,\n",
    "    description='Overwrite Existing?',\n",
    "    disabled=False\n",
    ")\n",
    "\n",
    "bt_genfile.on_click(copy_exercise)\n",
    "\n",
    "message_box = widgets.HTML('')\n",
    "\n",
    "display(widgets.HBox([txt_uname, bt_genfile, bt_open]))\n",
    "display(message_box)\n"
   ]
  },
  {
   "cell_type": "code",
   "execution_count": null,
   "metadata": {},
   "outputs": [],
   "source": []
  }
 ],
 "metadata": {
  "kernelspec": {
   "display_name": "Python 3",
   "language": "python",
   "name": "python3"
  },
  "language_info": {
   "codemirror_mode": {
    "name": "ipython",
    "version": 3
   },
   "file_extension": ".py",
   "mimetype": "text/x-python",
   "name": "python",
   "nbconvert_exporter": "python",
   "pygments_lexer": "ipython3",
   "version": "3.7.7"
  }
 },
 "nbformat": 4,
 "nbformat_minor": 2
}
