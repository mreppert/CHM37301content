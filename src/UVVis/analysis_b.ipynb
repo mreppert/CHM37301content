{
 "cells": [
  {
   "cell_type": "markdown",
   "metadata": {},
   "source": [
    "# Lab 2b Data Analysis #\n"
   ]
  },
  {
   "cell_type": "markdown",
   "metadata": {},
   "source": [
    "## Instructions: ##\n",
    "\n",
    "### 1. Plot Absorption Spectra for P5, P7, and P9 dyes ###\n",
    "\n",
    "Using the code from last week as examples, plot absorption spectra for the P5, P7, and P9 dyes that you measured this week in lab. Don't forget to\n",
    "1. Import Matplotlib and Numpy\n",
    "2. Set the default Matplotlib fontsize to 16\n",
    "3. Use np.loadtxt() to import the %T data, naming the imported data arrays `dat5`, `dat7`, and `dat9` (for P5, P7, and P9). \n",
    "4. Multiply your %T data by 0.01 to convert to fractional T data\n",
    "5. Convert your fractional T data to absorbance using the -np.log10() function\n",
    "6. Label both x- and y-axes!\n",
    "\n",
    "In the figure, color the P5 curve blue, the P7 curve gree, and the P9 curve red. "
   ]
  },
  {
   "cell_type": "code",
   "execution_count": 9,
   "metadata": {},
   "outputs": [
    {
     "data": {
      "image/png": "[encoded data removed]",
      "text/plain": [
       "<Figure size 432x288 with 1 Axes>"
      ]
     },
     "metadata": {
      "needs_background": "light"
     },
     "output_type": "display_data"
    }
   ],
   "source": [
    "import matplotlib.pyplot as plt\n",
    "import numpy as np\n",
    "plt.rc('font', size=16) \n",
    "\n",
    "dat9 = np.loadtxt('Lab2b/P9.csv', delimiter=',')\n",
    "dat7 = np.loadtxt('Lab2b/P7.csv', delimiter=',')\n",
    "dat5 = np.loadtxt('Lab2b/P5.csv', delimiter=',')\n",
    "plt.plot(dat5[:,0], -np.log10(dat5[:,1]*0.01), 'b')\n",
    "plt.plot(dat7[:,0], -np.log10(dat7[:,1]*0.01), 'g')\n",
    "plt.plot(dat9[:,0], -np.log10(dat9[:,1]*0.01), 'r')\n",
    "\n",
    "plt.xlabel('Wavelength (nm)')\n",
    "plt.ylabel('Absorbance')\n",
    "\n",
    "plt.show()"
   ]
  },
  {
   "cell_type": "markdown",
   "metadata": {},
   "source": [
    "\n",
    "### 2. Identify peak absorbance wavelengths  ###\n",
    "\n",
    "Next, identify the maximum absorbance wavelength for each dye molecule. To make this easy, I've defined below a simple Python *function* that takes two arguments, ``x`` and ``y`` and finds the value in ``x`` that corresponds to the maximum value of ``y``. (Be sure to execute the cell by clicking on it and hitting <Shift + Enter>!) You don't need to modify this cell block, but let's pause for a moment to explain what's going on. \n",
    "\n",
    "* The ``def`` command tells Python that we're about to define a new function. Using such `def` commands, we can define functions that do all sorts of things and often avoid repeating the same code over and over again. \n",
    "\n",
    "* The text in blue immediately following the `def` command is the *name* of the function, in this case `find_peak`. This is the text we'll type in our programs when we want to call the function. When you define new functions, you can name them anything you want (even `dog` or `cat`), but it's always a good idea to name them something that will help you remember what they actually do!\n",
    "\n",
    "* Inside the function, the numpy function `np.argmax` finds the *index* at which the vector `y` achieves its maximal value. (The prefix \"arg\" indicates that the function will return the *index* rather than the *value* of the maximum.) \n",
    "\n",
    "* The `return` command tells the compiler what value the function should return when it's called in a script. In this case, it will return the value from the x-axis (the `x` vector) stored at the index `ndxmax` where the `y` vector is at a maximum. \n"
   ]
  },
  {
   "cell_type": "code",
   "execution_count": 15,
   "metadata": {},
   "outputs": [],
   "source": [
    "def find_peak(x, y):\n",
    "    ndxmax = np.argmax(y)\n",
    "    return x[ndxmax]"
   ]
  },
  {
   "cell_type": "markdown",
   "metadata": {},
   "source": [
    "If we now apply this function to our absorption data, it will *return* the wavelength value where each absorption spectrum is at a maximum. "
   ]
  },
  {
   "cell_type": "code",
   "execution_count": 17,
   "metadata": {},
   "outputs": [
    {
     "name": "stdout",
     "output_type": "stream",
     "text": [
      "P5 peak absorption wavelength:  559.999939  nm\n",
      "P7 peak absorption wavelength:  655.9827271  nm\n",
      "P9 peak absorption wavelength:  761.0080566  nm\n"
     ]
    }
   ],
   "source": [
    "# Assuming your %T data is stored in the three arrays dat5, dat7, and dat9\n",
    "# l5 will store the wavelength of maximum absorption for P5,\n",
    "# l7 will store the wavelength of maximum absorption for P7, and\n",
    "# l9 will store the wavelength of maximum absorption for P9. \n",
    "\n",
    "l5 = find_peak(dat5[:,0], -np.log10(dat5[:,1]*0.01))\n",
    "l7 = find_peak(dat7[:,0], -np.log10(dat7[:,1]*0.01))\n",
    "l9 = find_peak(dat9[:,0], -np.log10(dat9[:,1]*0.01))\n",
    "\n",
    "# Print the values: \n",
    "print('P5 peak absorption wavelength: ', l5, ' nm')\n",
    "print('P7 peak absorption wavelength: ', l7, ' nm')\n",
    "print('P9 peak absorption wavelength: ', l9, ' nm')"
   ]
  },
  {
   "cell_type": "markdown",
   "metadata": {},
   "source": [
    "Do the reported peak absorption wavelengths seem to correspond to what you see in your graph? If not, there's a problem!"
   ]
  },
  {
   "cell_type": "markdown",
   "metadata": {},
   "source": [
    "### 3. Convert Wavelength to Frequency\n",
    "\n",
    "Next, since our calculations refer to the *frequency* of the electronic dynamics, convert wavelength to frequency using the formula\n",
    "$$\\nu = \\frac{c}{\\lambda}$$\n",
    "where $c$ is the speed of light. In the code block below, the first line defines a new variable `c` that stores the value of the speed of light in m/s. In the second line, a new variable `f5` is defined that stores the peak absorption frequency of the P5 dye, calculated using the formula above. (Note that since our wavelength axis is in nm, we have to multiply by $10^{-9}$ to convert to meters.) \n",
    "\n",
    "Using this code as an example, add two more lines to the cell block defining variables `f7` and `f9` that store peak absorption frequencies for the P7 and P9 dye molecules. "
   ]
  },
  {
   "cell_type": "code",
   "execution_count": 18,
   "metadata": {},
   "outputs": [
    {
     "name": "stdout",
     "output_type": "stream",
     "text": [
      "535339344028035.7 457008984558672.8 393938010774011.0\n"
     ]
    }
   ],
   "source": [
    "c = 2.9979e+8   # m/s\n",
    "f5 = c / (l5*1e-9)"
   ]
  },
  {
   "cell_type": "markdown",
   "metadata": {},
   "source": [
    "### 4. Calculate the corresponding quantum particle-in-a-box frequencies ###\n",
    "\n",
    "Finally, let's compare your experimental peak frequencies with the calculated frequencies using the quantum particle-in-a-box model. In the cell block below, enter in the lines starting `L1 = `, `L2 =`, and `L3 =`, the three box-lengths you measured in Part 6 for *each* of the three different definitions of box length (L1, L2, and L3) *and* each dye molecule. (E.g., there should be three values in L1, corresponding to the L1 length of P5, P7, and P7). \n",
    "\n",
    "Once your length measurements are entered, the code can be executed. It will plot the experimental frequencies for each dye (x-axis) against the calculated values using the quantum particle-in-a-box model and each of the three L values you measured. Which data set gives the best agreement? "
   ]
  },
  {
   "cell_type": "code",
   "execution_count": 43,
   "metadata": {},
   "outputs": [
    {
     "data": {
      "image/png": "[encoded data removed]",
      "text/plain": [
       "<Figure size 432x288 with 1 Axes>"
      ]
     },
     "metadata": {
      "needs_background": "light"
     },
     "output_type": "display_data"
    }
   ],
   "source": [
    "# This array holds the experimental peak frequencies you just calculated\n",
    "exp_freqs = np.array([f5, f7, f9])\n",
    "\n",
    "# These three arrays hold the lengths you measured for each of the three dye molecules\n",
    "L1 = np.array([9.37, 11.81, 14.27])*(1e-10)\n",
    "L2 = np.array([12.06, 14.50, 16.95])*(1e-10)\n",
    "L3 = np.array([13.89, 16.33, 18.79])*(1e-10)\n",
    "\n",
    "# NC is the number of C atoms in each dye chain \n",
    "NC = np.array([5, 7, 9])\n",
    "\n",
    "# Ne is the number of electrons in each pi system\n",
    "Ne = NC + 3\n",
    "\n",
    "# Planck's constant\n",
    "h = 6.626e-34  # J*s\n",
    "\n",
    "# The electron mass\n",
    "m = 9.11e-31   # kg\n",
    "\n",
    "# Calculated particle-in-a-box frequencies\n",
    "L1freqs = h*(Ne + 1)/(8*m*L1**2)\n",
    "L2freqs = h*(Ne + 1)/(8*m*L2**2)\n",
    "L3freqs = h*(Ne + 1)/(8*m*L3**2)\n",
    "\n",
    "plt.plot(exp_freqs, L1freqs,'o', label='L1')\n",
    "plt.plot(exp_freqs, L2freqs,'o', label='L2')\n",
    "plt.plot(exp_freqs, L3freqs,'o', label='L3')\n",
    "plt.plot(exp_freqs, exp_freqs, 'k-')\n",
    "plt.legend()\n",
    "\n",
    "plt.xlabel('Experimental Frequency (Hz)')\n",
    "plt.ylabel('Calculated Frequency (Hz)')\n",
    "plt.show()\n"
   ]
  },
  {
   "cell_type": "markdown",
   "metadata": {},
   "source": [
    "#### Question 1: \n",
    "\n",
    "In the classical particle-in-a-box simulation, how does changing the box length alter the time it takes each particle to travel across the box? "
   ]
  },
  {
   "cell_type": "markdown",
   "metadata": {},
   "source": []
  },
  {
   "cell_type": "markdown",
   "metadata": {},
   "source": [
    "#### Question 2: \n",
    "\n",
    "In the classical particle-in-a-box simulation with 5000 particles, what seems to be the most common round-trip frequency? Why do you think this is the most common value? "
   ]
  },
  {
   "cell_type": "markdown",
   "metadata": {},
   "source": []
  },
  {
   "cell_type": "markdown",
   "metadata": {},
   "source": [
    "#### Question 3: \n",
    "\n",
    "How does the most common round-trip frequency for the classicle particle-in-a-box simulation compare with the *measured* absorption frequencies from the experiment? What does this comparison tell you about classical models for electronic motion? "
   ]
  },
  {
   "cell_type": "markdown",
   "metadata": {},
   "source": []
  },
  {
   "cell_type": "markdown",
   "metadata": {},
   "source": [
    "#### Question 4: \n",
    "\n",
    "In the *quantum* particle-in-a-box calculation, which definition of box length gives the best agreement against experimental data? Why do you think this might be physically? "
   ]
  },
  {
   "cell_type": "markdown",
   "metadata": {},
   "source": []
  },
  {
   "cell_type": "markdown",
   "metadata": {},
   "source": [
    "#### Question 5: \n",
    "\n",
    "Based on the values you measured for P5, P7, and P9, roughly what do you think would be the best \"box length\" to estimate the absorption frequency of the P3 dye (i.e., with three carbons between the two nitrogens)? In the code block below, calculate (and print!) the absorption frequency you would expect for this dye. What peak absorption wavelength does this correspond to? What color do you think this dye would be in solution? "
   ]
  },
  {
   "cell_type": "markdown",
   "metadata": {},
   "source": []
  },
  {
   "cell_type": "code",
   "execution_count": 48,
   "metadata": {},
   "outputs": [
    {
     "name": "stdout",
     "output_type": "stream",
     "text": [
      "705170112293270.0 425.1314608684403\n"
     ]
    }
   ],
   "source": [
    "# Type your code here\n",
    "\n",
    "f = h*(6 + 1)/(8*m*(9.5e-10)**2)\n",
    "print(f, c/(f*1e-9))"
   ]
  },
  {
   "cell_type": "markdown",
   "metadata": {},
   "source": [
    "#### Question 6: \n",
    "\n",
    "Using the `find_peak` function defined above as an example, define a new function `calc_square(x)` in the code block below that calculates the square of a number `x`. Verify that it works by using it to calculate $x^2$ with $x$ equal to 2, 5, and 10. (Be sure to print the results each time using the `print()` command.) \n"
   ]
  },
  {
   "cell_type": "code",
   "execution_count": 49,
   "metadata": {},
   "outputs": [
    {
     "name": "stdout",
     "output_type": "stream",
     "text": [
      "4\n",
      "25\n",
      "100\n"
     ]
    }
   ],
   "source": [
    "def calc_square(x):\n",
    "    return x*x\n",
    "\n",
    "print(calc_square(2))\n",
    "print(calc_square(5))\n",
    "print(calc_square(10))"
   ]
  },
  {
   "cell_type": "markdown",
   "metadata": {},
   "source": [
    "### 5. Submit! \n",
    "\n",
    "As usual, download your notebook as a PDF by selecting File > Download As > PDF via Latex (.pdf) from the dropdown menu at the top right of this window. Then upload the PDF under the Lab1 assignment on the Brightspace page **for your lab section**. <br>\n"
   ]
  },
  {
   "cell_type": "code",
   "execution_count": null,
   "metadata": {},
   "outputs": [],
   "source": []
  }
 ],
 "metadata": {
  "kernelspec": {
   "display_name": "Python 3",
   "language": "python",
   "name": "python3"
  },
  "language_info": {
   "codemirror_mode": {
    "name": "ipython",
    "version": 3
   },
   "file_extension": ".py",
   "mimetype": "text/x-python",
   "name": "python",
   "nbconvert_exporter": "python",
   "pygments_lexer": "ipython3",
   "version": "3.7.7"
  }
 },
 "nbformat": 4,
 "nbformat_minor": 2
}
