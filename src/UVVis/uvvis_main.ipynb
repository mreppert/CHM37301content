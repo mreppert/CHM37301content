{
 "cells": [
  {
   "cell_type": "code",
   "execution_count": 2,
   "metadata": {},
   "outputs": [
    {
     "data": {
      "application/javascript": [
       "IPython.OutputArea.auto_scroll_threshold = 9999\n"
      ],
      "text/plain": [
       "<IPython.core.display.Javascript object>"
      ]
     },
     "metadata": {},
     "output_type": "display_data"
    }
   ],
   "source": [
    "%%javascript\n",
    "IPython.OutputArea.auto_scroll_threshold = 9999"
   ]
  },
  {
   "cell_type": "code",
   "execution_count": 3,
   "metadata": {},
   "outputs": [],
   "source": [
    "import nglview as nv\n",
    "import ipywidgets as widgets"
   ]
  },
  {
   "cell_type": "markdown",
   "metadata": {},
   "source": [
    "# Optical Absorption Spectroscopy of Linear Polyenes"
   ]
  },
  {
   "cell_type": "markdown",
   "metadata": {},
   "source": [
    "### Background ###\n",
    "\n",
    "#### Quantum vs. Classical ####\n",
    "\n",
    "In your lecture, you've probably already heard the terms \"quantum\" and \"classical\", but it's not surprising if the distinction between them isn't particularly clear yet. Briefly, these two terms represent different theories of how the physical world operates: *quantum mechanics* (or quantum theory) is \"the physics of the very small\", i.e., it describes how physical objects and fields behave when the spatial and energy scales involved are very small (think: electrons). *Classical mechanics* is \"the physics everyday life\", i.e., it describes how objects and fields behave under the physical conditions we interact with in daily life (think: baseballs and cars). There is yet a third domain of physical theory, *relativistic physics* which describes very large and energetic systems (think: planets and galaxies), but we only rarely encounter relativistic effects in physical chemistry. \n",
    "\n",
    "\n",
    "In this lab, you'll start to develop some intuition for the differences between quantum and classical mechanics. In particular, you'll measure experimentally the optical absorption spectra for a series of linear polyene dyes (see structures below) and see that their measured peak absorption wavelengths follow the predictions of quantum mechanics -- and *not* the predictions of classical mechanics. \n",
    "\n",
    "\n",
    "#### Quantum Mechanics ####\n",
    "\n",
    "\n",
    "The quantum mechanical behavior of electrons manifests itself most beautifully in our everyday lives through the spectacular variety of colors assumed by natural pigments in flowers and leaves and the bright hues of synthetic dyes. These colors, which result from the interaction\n",
    "between light and the electrons trapped in polyatomic molecules, can be understood using quantum mechanics. There are a number of ways of doing this, of varying degrees of approximation computational efficiency and accuracy.\n",
    "\n",
    "One of the simplest quantum mechanical models that can be used to describe the general behavior of electrons in molecules is that of the “particle in a box”. For some molecules, such as certain linear polyene dyes, this appears to be a reasonably realistic description of the valence π electron orbital structure. The boundaries of the one-dimensional box, which are in this case determined simply by the length of the molecule, constrain the available electronic energy states\n",
    "to discrete values. The absorption of light produces transitions between these discrete energy levels, giving rise to the characteristic colors of the molecules. \n",
    "\n",
    "In this experiment you will measure the optical absorption wavelengths of a series of linear polyene derivatives of different chain length (see structures below) and use these to test the predictions of the particle in a box model."
   ]
  },
  {
   "cell_type": "code",
   "execution_count": 4,
   "metadata": {},
   "outputs": [
    {
     "data": {
      "application/vnd.jupyter.widget-view+json": {
       "model_id": "d125de49f0e84e13b38c0b8d51064e96",
       "version_major": 2,
       "version_minor": 0
      },
      "text/plain": [
       "HBox(children=(HTML(value='<p style=\"font-size:30px; text-align:center\">P5</p>', layout=Layout(width='300px'))…"
      ]
     },
     "metadata": {},
     "output_type": "display_data"
    },
    {
     "data": {
      "application/vnd.jupyter.widget-view+json": {
       "model_id": "f1dd837621594c7589a498d1560d3678",
       "version_major": 2,
       "version_minor": 0
      },
      "text/plain": [
       "HBox(children=(NGLWidget(), NGLWidget(), NGLWidget()))"
      ]
     },
     "metadata": {},
     "output_type": "display_data"
    }
   ],
   "source": [
    "from ipywidgets.widgets import Box\n",
    "\n",
    "view1 = nv.show_structure_file('P5.pdb')\n",
    "view2 = nv.show_structure_file('P7.pdb')\n",
    "view3 = nv.show_structure_file('P9.pdb')\n",
    "\n",
    "view1._set_size('300px', '300px')\n",
    "view2._set_size('300px', '300px')\n",
    "view3._set_size('300px', '300px')\n",
    "\n",
    "lab1 = widgets.HTML(value='<p style=\"font-size:30px; text-align:center\">P5</p>', layout=widgets.Layout(width='300px'))\n",
    "lab2 = widgets.HTML(value='<p style=\"font-size:30px; text-align:center\">P7</p>', layout=widgets.Layout(width='300px'))\n",
    "lab3 = widgets.HTML(value='<p style=\"font-size:30px; text-align:center\">P9</p>', layout=widgets.Layout(width='300px'))\n",
    "\n",
    "labbox = widgets.HBox([lab1, lab2, lab3])\n",
    "viewbox = widgets.HBox([view1, view2, view3])\n",
    "\n",
    "\n",
    "display(labbox)\n",
    "display(viewbox)\n",
    "\n",
    "\n"
   ]
  },
  {
   "cell_type": "markdown",
   "metadata": {},
   "source": [
    "## Your Assignment:\n",
    "\n",
    "During the first week of this experiment you will get a chance to see the internal construction of the modular spectrometer, at the heart of which is a diffraction grating that disperses light into its different wavelength components and study the relationships between concentration, percent transmittance, and absorbance. Next week, you will collect the absorption spectra of three polyene dyes and compare your experimental results with the predictions of quantum theory. \n",
    "\n",
    "\n",
    "1. In **Part 1**, you'll get to know the UV/Vis spectrometer by measuring the transmittance through a series of filters.<br><a href=\"Part1.ipynb\"> <button class=\"p-Widget jupyter-widgets jupyter-button widget-button mod-warning\" style=\"width:100px; background-color:#E9E9E9; font-size:10pt; color:black\">Go!</button></a>\n",
    "\n",
    "2. In **Part 2**, you'll see how optical wavelengths correspond to visible colors.<br><a href=\"Part2.ipynb\"> <button class=\"p-Widget jupyter-widgets jupyter-button widget-button mod-warning\" style=\"width:100px; background-color:#E9E9E9; font-size:10pt; color:black\">Go!</button></a>\n",
    "\n",
    "2. In **Part 3**, you'll explore the relationship between percent transmittance, absorbance, and concentration.<br><a href=\"Part3.ipynb\"> <button class=\"p-Widget jupyter-widgets jupyter-button widget-button mod-warning\" style=\"width:100px; background-color:#E9E9E9; font-size:10pt; color:black\">Go!</button></a>\n",
    "\n",
    "To open a copy of the template, enter you PUID in the box below and first click \"Copy\" and then \"Open\". \n",
    "\n"
   ]
  },
  {
   "cell_type": "code",
   "execution_count": 5,
   "metadata": {},
   "outputs": [
    {
     "data": {
      "application/vnd.jupyter.widget-view+json": {
       "model_id": "03fdeff0033249aeb471a00ddd75d7c5",
       "version_major": 2,
       "version_minor": 0
      },
      "text/plain": [
       "HBox(children=(Text(value='', description='Purdue ID:', placeholder='User name'), Button(description='Copy Exe…"
      ]
     },
     "metadata": {},
     "output_type": "display_data"
    },
    {
     "data": {
      "application/vnd.jupyter.widget-view+json": {
       "model_id": "e358bc4dec794685a12a168f9d17b742",
       "version_major": 2,
       "version_minor": 0
      },
      "text/plain": [
       "HTML(value='')"
      ]
     },
     "metadata": {},
     "output_type": "display_data"
    }
   ],
   "source": [
    "import ipywidgets as widgets\n",
    "import os\n",
    "from IPython.display import display\n",
    "from IPython.display import display_markdown\n",
    "\n",
    "HTMLButtonPrompt = '''<html>\n",
    "<head>\n",
    "<meta name=\"viewport\" content=\"width=device-width, initial-scale=1\">\n",
    "</head>\n",
    "<body>\n",
    "<a href=\"{link}\" target=\"_blank\" >\n",
    "<button class=\"p-Widget jupyter-widgets jupyter-button widget-button mod-warning\" style=\"width:100px; background-color:#E9E9E9; font-size:10pt; color:black\">{text}</button>\n",
    "</a>\n",
    "</body>\n",
    "</html>\n",
    "'''\n",
    "\n",
    "\n",
    "HTMLDeadPrompt = '''<html>\n",
    "<head>\n",
    "<meta name=\"viewport\" content=\"width=device-width, initial-scale=1\">\n",
    "</head>\n",
    "<body>\n",
    "<button class=\"p-Widget jupyter-widgets jupyter-button widget-button mod-warning\" style=\"width:100px; background-color:#E9E9E9; font-size:10pt; color:#D2D2D2\">{text}</button>\n",
    "</body>\n",
    "</html>'''\n",
    "\n",
    "\n",
    "\n",
    "def copy_exercise(self):\n",
    "    uname = txt_uname.value.replace(\" \", \"_\").lower()\n",
    "    fpath = \"../../../../local/\"\n",
    "    flist = ['analysis_a.ipynb']\n",
    "    \n",
    "    cpname = \"Lab2a_\" + uname + \".ipynb\"\n",
    "\n",
    "    if len(uname)<=0:\n",
    "        print('Please enter a valid user name!')\n",
    "        \n",
    "    elif os.path.isfile(fpath+cpname) and cb_overwrite.value==False:\n",
    "        message_box.value = 'The file already exists! Click \\\"Open\\\" to access.<br> \\\n",
    "        If you want to delete the file and start fresh, you\\'ll need to: <br>  \\\n",
    "           (1) open the file, <br> \\\n",
    "           (2) Click \\\"Edit App\\\" in the top-right corner,<br>\\\n",
    "           (3) Click the File > Open dropdown, and <br> \\\n",
    "           (4) Manually delete the file using the file browser. <br> \\\n",
    "        Then you can return to this page to copy it again. <br> \\\n",
    "        <b>But be careful!</b> This will also delete any data that you\\'ve stored in the notebook!'\n",
    "        bt_open.value=HTMLButtonPrompt.format(link=fpath+cpname, text='Open')\n",
    "        \n",
    "    else:\n",
    "        err = False\n",
    "        \n",
    "        for fname in flist:\n",
    "            \n",
    "            # If it's the first file, reset the file name\n",
    "            if fname==flist[0]:\n",
    "                out = !{\"cp \" + fname + \" \" + fpath+cpname}\n",
    "                if len(out)>0:\n",
    "                    for line in out:\n",
    "                        err = True\n",
    "                        print(out)\n",
    "            else:\n",
    "                \n",
    "                # If it's an image file, make sure the img folder exists\n",
    "                if fname[0:4]=='img/':\n",
    "                    if os.path.isdir(fpath+'/img')==False:\n",
    "                        out = !{'mkdir ' + fpath + '/img'}\n",
    "                        if len(out)>0:\n",
    "                            err = True\n",
    "                            for line in out:\n",
    "                                print(out)\n",
    "                                \n",
    "                # Now copy the file\n",
    "                out = !{\"cp \" + fname + \" \" + fpath+fname}\n",
    "                if len(out)>0:\n",
    "                    for line in out:\n",
    "                        err = True\n",
    "                        print(out)\n",
    "                \n",
    "        if err==False:\n",
    "            bt_open.value=HTMLButtonPrompt.format(link=fpath+cpname, text='Open')\n",
    "    \n",
    "txt_uname = widgets.Text(\n",
    "    value='',\n",
    "    placeholder='User name',\n",
    "    description='Purdue ID:',\n",
    "    disabled=False\n",
    ")\n",
    "\n",
    "\n",
    "bt_genfile = widgets.Button(\n",
    "    description='Copy Exercise',\n",
    "    disabled=False,\n",
    "    button_style='', # 'success', 'info', 'warning', 'danger' or ''\n",
    "    tooltip='Enter your username and then click to create a local exercise file'\n",
    ")\n",
    "\n",
    "bt_open = widgets.HTML(HTMLDeadPrompt.format(text='Open'))\n",
    "\n",
    "cb_overwrite = widgets.Checkbox(\n",
    "    value=False,\n",
    "    description='Overwrite Existing?',\n",
    "    disabled=False\n",
    ")\n",
    "\n",
    "bt_genfile.on_click(copy_exercise)\n",
    "\n",
    "message_box = widgets.HTML('')\n",
    "\n",
    "display(widgets.HBox([txt_uname, bt_genfile, bt_open]))\n",
    "display(message_box)\n"
   ]
  },
  {
   "cell_type": "code",
   "execution_count": null,
   "metadata": {},
   "outputs": [],
   "source": []
  }
 ],
 "metadata": {
  "kernelspec": {
   "display_name": "Python 3",
   "language": "python",
   "name": "python3"
  },
  "language_info": {
   "codemirror_mode": {
    "name": "ipython",
    "version": 3
   },
   "file_extension": ".py",
   "mimetype": "text/x-python",
   "name": "python",
   "nbconvert_exporter": "python",
   "pygments_lexer": "ipython3",
   "version": "3.7.7"
  }
 },
 "nbformat": 4,
 "nbformat_minor": 2
}
