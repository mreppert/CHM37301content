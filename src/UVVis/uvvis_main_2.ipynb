{
 "cells": [
  {
   "cell_type": "code",
   "execution_count": 2,
   "metadata": {},
   "outputs": [
    {
     "data": {
      "application/javascript": [
       "IPython.OutputArea.auto_scroll_threshold = 9999\n"
      ],
      "text/plain": [
       "<IPython.core.display.Javascript object>"
      ]
     },
     "metadata": {},
     "output_type": "display_data"
    }
   ],
   "source": [
    "%%javascript\n",
    "IPython.OutputArea.auto_scroll_threshold = 9999"
   ]
  },
  {
   "cell_type": "code",
   "execution_count": 3,
   "metadata": {
    "collapsed": true
   },
   "outputs": [],
   "source": [
    "import nglview as nv\n",
    "import ipywidgets as widgets"
   ]
  },
  {
   "cell_type": "markdown",
   "metadata": {},
   "source": [
    "# Optical Absorption Spectroscopy of Linear Polyenes"
   ]
  },
  {
   "cell_type": "markdown",
   "metadata": {},
   "source": [
    "### Background ###\n",
    "\n",
    "Last week, you learned some basic techniques in optical absorption measurements. This week, you'll collect absorption data on a series of linear polyene dyes and see how such optical measurements \"shed light\" (pun intended) on the mechanical rules that govern our world at the atomic scale. \n",
    "\n",
    "#### Quantum vs. Classical ####\n",
    "\n",
    "In your lecture, you've probably already heard the terms \"quantum\" and \"classical\", but it's not surprising if the distinction between them isn't particularly clear yet. Briefly, these two terms represent different theories of how the physical world operates: *quantum mechanics* (or quantum theory) is \"the physics of the very small\", i.e., it describes how physical objects and fields behave when the spatial and energy scales involved are very small (think: electrons). *Classical mechanics* is \"the physics everyday life\", i.e., it describes how objects and fields behave under the physical conditions we interact with in daily life (think: baseballs and cars). There is yet a third domain of physical theory, *relativistic physics* which describes very large and energetic systems (think: planets and galaxies), but relativistic effects aren't common in physical chemistry. \n",
    "\n",
    "\n",
    "In this lab, you'll start to develop some intuition for the differences between quantum and classical mechanics. In particular, you'll measure experimentally the optical absorption spectra for a series of linear polyene dyes (see structures below) and see that their measured peak absorption wavelengths follow the predictions of quantum mechanics -- and *not* the predictions of classical mechanics. "
   ]
  },
  {
   "cell_type": "code",
   "execution_count": 4,
   "metadata": {},
   "outputs": [
    {
     "data": {
      "application/vnd.jupyter.widget-view+json": {
       "model_id": "f9c19e9e2d9644d993f046c028013d4e",
       "version_major": 2,
       "version_minor": 0
      },
      "text/plain": [
       "HBox(children=(HTML(value='<p style=\"font-size:30px; text-align:center\">P5</p>', layout=Layout(width='300px'))…"
      ]
     },
     "metadata": {},
     "output_type": "display_data"
    },
    {
     "data": {
      "application/vnd.jupyter.widget-view+json": {
       "model_id": "696ccce1a1de47ff86d4ceac22bc6a99",
       "version_major": 2,
       "version_minor": 0
      },
      "text/plain": [
       "HBox(children=(NGLWidget(), NGLWidget(), NGLWidget()))"
      ]
     },
     "metadata": {},
     "output_type": "display_data"
    }
   ],
   "source": [
    "from ipywidgets.widgets import Box\n",
    "\n",
    "view1 = nv.show_structure_file('P5.pdb')\n",
    "view2 = nv.show_structure_file('P7.pdb')\n",
    "view3 = nv.show_structure_file('P9.pdb')\n",
    "\n",
    "view1._set_size('300px', '300px')\n",
    "view2._set_size('300px', '300px')\n",
    "view3._set_size('300px', '300px')\n",
    "\n",
    "lab1 = widgets.HTML(value='<p style=\"font-size:30px; text-align:center\">P5</p>', layout=widgets.Layout(width='300px'))\n",
    "lab2 = widgets.HTML(value='<p style=\"font-size:30px; text-align:center\">P7</p>', layout=widgets.Layout(width='300px'))\n",
    "lab3 = widgets.HTML(value='<p style=\"font-size:30px; text-align:center\">P9</p>', layout=widgets.Layout(width='300px'))\n",
    "\n",
    "labbox = widgets.HBox([lab1, lab2, lab3])\n",
    "viewbox = widgets.HBox([view1, view2, view3])\n",
    "\n",
    "\n",
    "display(labbox)\n",
    "display(viewbox)\n"
   ]
  },
  {
   "cell_type": "markdown",
   "metadata": {},
   "source": [
    "#### Particle-in-a-box Models ####\n",
    "\n",
    "Ideally, what we want to do in this lab is answer three questions:\n",
    "1. At what frequencies do the three dye molecules shown above *actually* absorb the most light experimentally? \n",
    "2. At what frequencies does *classical mechanics* predict they *should* absorb the most light? \n",
    "3. At what frequencies does *quantum mechanics* predict they *should* absorb the most light? \n",
    "\n",
    "Finally, we want to compare the answers to those three questions and conclude which model -- quantum or classical -- works better for these systems. \n",
    "\n",
    "The experimental part of this lab is quite easy. You already learned last week how to measure optical absorption spectra, and this week all you have to do is repeat those measurements with three different dye solutions. Easy. The harder part is comparing those experimental results against the corresponding classical and quantum theoretical predictions -- especially since at this point you've only just begun to learn about quantum mechanics! \n",
    "\n",
    "To simplify this challenge, we've intentionally chosen a series of dye molecules that can be very well described theoretically by a particularly simple model: the famous \"particle in a box\". All three of the dye molecules above have a long stretch of linear, conjugated double bonds in the middle. Because the bonds are all conjugated, electrons are able to move back and forth across the molecule quite freely, almost (as illustrated below) as though they are contained in a narrow \"box\" whose length is just the length of that conjugated stretch of double bonds. <img src=\"img/P9pib.png\" width=\"300\"/>\n",
    "\n"
   ]
  },
  {
   "cell_type": "markdown",
   "metadata": {},
   "source": [
    "## Your Assignment:\n",
    "\n",
    "In **Part 4** of the lab, you'll collect absorption spectra for the three dye molecules shown above. This is the **only part** of this week's lab that must be performed physically in lab. <br><a href=\"Part4.ipynb\"> <button class=\"p-Widget jupyter-widgets jupyter-button widget-button mod-warning\" style=\"width:100px; background-color:#E9E9E9; font-size:10pt; color:black\">Go!</button></a> \n",
    "\n",
    "The remaining sections can be completed at home, but you are encouraged to at least begin each section in lab to make sure you know how to proceed. \n",
    "\n",
    "In **Part 5**, you'll examine the predictions of *classical mechanics* for a particle (electron) in a box.<br><a href=\"Part5.ipynb\"> <button class=\"p-Widget jupyter-widgets jupyter-button widget-button mod-warning\" style=\"width:100px; background-color:#E9E9E9; font-size:10pt; color:black\">Go!</button></a>\n",
    "\n",
    "In **Part 6**, you'll learn about the predictions of *quantum mechanics* for a particle (electron) in a box.<br><a href=\"Part6.ipynb\"> <button class=\"p-Widget jupyter-widgets jupyter-button widget-button mod-warning\" style=\"width:100px; background-color:#E9E9E9; font-size:10pt; color:black\">Go!</button></a>\n",
    "\n",
    "Finally, for your writeup this week, you'll report and discuss your findings regarding \n",
    "* your experimental absorption measurements\n",
    "* the predictions of classical mechanics for the dynamics of a particle-in-a-box-like electron\n",
    "* the predictions of quantum mechanics for the dynamics of a particle-in-a-box-like electron\n",
    "\n",
    "To open a copy of the template, enter you PUID in the box below and first click \"Copy\" and then \"Open\". \n"
   ]
  },
  {
   "cell_type": "code",
   "execution_count": 1,
   "metadata": {},
   "outputs": [
    {
     "data": {
      "application/vnd.jupyter.widget-view+json": {
       "model_id": "4f49cae4867748848c338bad53ac2ac2",
       "version_major": 2,
       "version_minor": 0
      },
      "text/plain": [
       "HBox(children=(Text(value='', description='Purdue ID:', placeholder='User name'), Button(description='Copy Exe…"
      ]
     },
     "metadata": {},
     "output_type": "display_data"
    },
    {
     "data": {
      "application/vnd.jupyter.widget-view+json": {
       "model_id": "8231d8c8fa78433ab0173f3fc90afe15",
       "version_major": 2,
       "version_minor": 0
      },
      "text/plain": [
       "HTML(value='')"
      ]
     },
     "metadata": {},
     "output_type": "display_data"
    }
   ],
   "source": [
    "import ipywidgets as widgets\n",
    "import os\n",
    "from IPython.display import display\n",
    "from IPython.display import display_markdown\n",
    "\n",
    "HTMLButtonPrompt = '''<html>\n",
    "<head>\n",
    "<meta name=\"viewport\" content=\"width=device-width, initial-scale=1\">\n",
    "</head>\n",
    "<body>\n",
    "<a href=\"{link}\" target=\"_blank\" >\n",
    "<button class=\"p-Widget jupyter-widgets jupyter-button widget-button mod-warning\" style=\"width:100px; background-color:#E9E9E9; font-size:10pt; color:black\">{text}</button>\n",
    "</a>\n",
    "</body>\n",
    "</html>\n",
    "'''\n",
    "\n",
    "\n",
    "HTMLDeadPrompt = '''<html>\n",
    "<head>\n",
    "<meta name=\"viewport\" content=\"width=device-width, initial-scale=1\">\n",
    "</head>\n",
    "<body>\n",
    "<button class=\"p-Widget jupyter-widgets jupyter-button widget-button mod-warning\" style=\"width:100px; background-color:#E9E9E9; font-size:10pt; color:#D2D2D2\">{text}</button>\n",
    "</body>\n",
    "</html>'''\n",
    "\n",
    "\n",
    "\n",
    "def copy_exercise(self):\n",
    "    uname = txt_uname.value.replace(\" \", \"_\").lower()\n",
    "    fpath = \"../../../../local/\"\n",
    "    flist = ['analysis_2.ipynb']\n",
    "    \n",
    "    cpname = \"UVVis_2_\" + uname + \".ipynb\"\n",
    "\n",
    "    if len(uname)<=0:\n",
    "        print('Please enter a valid user name!')\n",
    "        \n",
    "    elif os.path.isfile(fpath+cpname) and cb_overwrite.value==False:\n",
    "        message_box.value = 'The file already exists! Click \\\"Open\\\" to access.<br> \\\n",
    "        If you want to delete the file and start fresh, you\\'ll need to: <br>  \\\n",
    "           (1) open the file, <br> \\\n",
    "           (2) Click \\\"Edit App\\\" in the top-right corner,<br>\\\n",
    "           (3) Click the File > Open dropdown, and <br> \\\n",
    "           (4) Manually delete the file using the file browser. <br> \\\n",
    "        Then you can return to this page to copy it again. <br> \\\n",
    "        <b>But be careful!</b> This will also delete any data that you\\'ve stored in the notebook!'\n",
    "        bt_open.value=HTMLButtonPrompt.format(link=fpath+cpname, text='Open')\n",
    "        \n",
    "    else:\n",
    "        err = False\n",
    "        \n",
    "        for fname in flist:\n",
    "            \n",
    "            # If it's the first file, reset the file name\n",
    "            if fname==flist[0]:\n",
    "                out = !{\"cp \" + fname + \" \" + fpath+cpname}\n",
    "                if len(out)>0:\n",
    "                    for line in out:\n",
    "                        err = True\n",
    "                        print(out)\n",
    "            else:\n",
    "                \n",
    "                # If it's an image file, make sure the img folder exists\n",
    "                if fname[0:4]=='img/':\n",
    "                    if os.path.isdir(fpath+'/img')==False:\n",
    "                        out = !{'mkdir ' + fpath + '/img'}\n",
    "                        if len(out)>0:\n",
    "                            err = True\n",
    "                            for line in out:\n",
    "                                print(out)\n",
    "                                \n",
    "                # Now copy the file\n",
    "                out = !{\"cp \" + fname + \" \" + fpath+fname}\n",
    "                if len(out)>0:\n",
    "                    for line in out:\n",
    "                        err = True\n",
    "                        print(out)\n",
    "                \n",
    "        if err==False:\n",
    "            bt_open.value=HTMLButtonPrompt.format(link=fpath+cpname, text='Open')\n",
    "    \n",
    "txt_uname = widgets.Text(\n",
    "    value='',\n",
    "    placeholder='User name',\n",
    "    description='Purdue ID:',\n",
    "    disabled=False\n",
    ")\n",
    "\n",
    "\n",
    "bt_genfile = widgets.Button(\n",
    "    description='Copy Exercise',\n",
    "    disabled=False,\n",
    "    button_style='', # 'success', 'info', 'warning', 'danger' or ''\n",
    "    tooltip='Enter your username and then click to create a local exercise file'\n",
    ")\n",
    "\n",
    "bt_open = widgets.HTML(HTMLDeadPrompt.format(text='Open'))\n",
    "\n",
    "cb_overwrite = widgets.Checkbox(\n",
    "    value=False,\n",
    "    description='Overwrite Existing?',\n",
    "    disabled=False\n",
    ")\n",
    "\n",
    "bt_genfile.on_click(copy_exercise)\n",
    "\n",
    "message_box = widgets.HTML('')\n",
    "\n",
    "display(widgets.HBox([txt_uname, bt_genfile, bt_open]))\n",
    "display(message_box)\n"
   ]
  },
  {
   "cell_type": "code",
   "execution_count": null,
   "metadata": {
    "collapsed": true
   },
   "outputs": [],
   "source": []
  }
 ],
 "metadata": {
  "kernelspec": {
   "display_name": "Python 3.8",
   "language": "python",
   "name": "python3"
  },
  "language_info": {
   "codemirror_mode": {
    "name": "ipython",
    "version": 3
   },
   "file_extension": ".py",
   "mimetype": "text/x-python",
   "name": "python",
   "nbconvert_exporter": "python",
   "pygments_lexer": "ipython3",
   "version": "3.8.10"
  },
  "toc": {
   "base_numbering": 1,
   "nav_menu": {},
   "number_sections": true,
   "sideBar": true,
   "skip_h1_title": false,
   "title_cell": "Table of Contents",
   "title_sidebar": "Contents",
   "toc_cell": false,
   "toc_position": {},
   "toc_section_display": true,
   "toc_window_display": false
  },
  "varInspector": {
   "cols": {
    "lenName": 16,
    "lenType": 16,
    "lenVar": 40
   },
   "kernels_config": {
    "python": {
     "delete_cmd_postfix": "",
     "delete_cmd_prefix": "del ",
     "library": "var_list.py",
     "varRefreshCmd": "print(var_dic_list())"
    },
    "r": {
     "delete_cmd_postfix": ") ",
     "delete_cmd_prefix": "rm(",
     "library": "var_list.r",
     "varRefreshCmd": "cat(var_dic_list()) "
    }
   },
   "types_to_exclude": [
    "module",
    "function",
    "builtin_function_or_method",
    "instance",
    "_Feature"
   ],
   "window_display": false
  }
 },
 "nbformat": 4,
 "nbformat_minor": 2
}
