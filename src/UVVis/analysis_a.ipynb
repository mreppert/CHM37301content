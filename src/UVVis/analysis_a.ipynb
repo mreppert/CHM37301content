{
 "cells": [
  {
   "cell_type": "markdown",
   "metadata": {},
   "source": [
    "# Lab 2 First-week Data Analysis #\n",
    "\n",
    "In this section, you'll analyze your data using the Python programming language. "
   ]
  },
  {
   "cell_type": "markdown",
   "metadata": {},
   "source": [
    "## Instructions: ##\n",
    "\n",
    "### 1. Make a folder and upload your data ###\n",
    "\n",
    "* After exiting app mode (Click \"Edit App\" at the top right of your screen), click on the File > Open menu. \n",
    "* In the new window that pops up, select New > Folder. \n",
    "* A new \"Untitled Folder\" will appear in the file list; rename it to \"Lab2a\". \n",
    "* Upload **all** the data files you collected in this lab to the new folder. \n",
    "\n",
    "#### Note: ####\n",
    "To load data from the Lab2a folder, you'll need to add \"Lab2a/\" to the start of all your file names. For example, if you have a data file named \"data.txt\" uploaded to the Lab2a folder you just created, you would load it using the command `np.loadtxt(\"Lab2a/data.txt\")`.\n"
   ]
  },
  {
   "cell_type": "markdown",
   "metadata": {},
   "source": [
    "### 2.  Plot %T for 38A Filter and compare to CRC Reference Spectrum ###\n",
    "\n",
    "Once your data is uploaded to nanoHUB, you can start analyzing it. First, we'll plot the %T curve collected for the 38A filter and compare it to the CRC reference spectrum provided for you. If the Spectrometer is calibrated correctly, the two curves should match closely.\n",
    "\n",
    "First, let's load the matplotlib and numpy libraries, since we'll use these throughout our analysis. "
   ]
  },
  {
   "cell_type": "code",
   "execution_count": null,
   "metadata": {},
   "outputs": [],
   "source": [
    "import matplotlib.pyplot as plt\n",
    "import numpy as np\n",
    "plt.rc('font', size=16) "
   ]
  },
  {
   "cell_type": "markdown",
   "metadata": {},
   "source": [
    "\n",
    "Next, let's load the data. In the code block below, replace the text \"<My 38A file name>\" and \"<CRC 38A file name>\" with the file names you assigned to your own 38A transmission data and the CRC 38A transmission data, respectively. \n",
    "\n",
    "Note that the file name should start with \"Lab2a/\" so that the interpreter knows to look in your Lab2a data folder!"
   ]
  },
  {
   "cell_type": "code",
   "execution_count": null,
   "metadata": {},
   "outputs": [],
   "source": [
    "# The delimiter=',' flag tells NumPy that the data file is in CSV format. \n",
    "# CSV = \"comma-separated values\"\n",
    "dat38A = np.loadtxt(\"Lab2a/<My 38A file name>\", delimiter=',')\n",
    "\n",
    "# The dat38A variable is now a matrix whose first column is the x-data from\n",
    "# the spectrometer (wavelength) and whose second column is the y-data (%T).\n",
    "\n",
    "# Now we load the data from the CRC reference file\n",
    "datCRC = np.loadtxt(\"Lab2a/<CRC 38A file name>.csv\", delimiter=',')\n",
    "\n",
    "# Now plot the first column (wavelength) against the second column (%T)\n",
    "plt.plot(dat38A[:,0], dat38A[:,1], 'b', label='Measurement')\n",
    "\n",
    "# And the same for the CRC data\n",
    "plt.plot(datCRC[:,0], datCRC[:,1], 'ko', label='Reference')\n",
    "\n",
    "\n",
    "plt.xlabel('Wavelength (nm)')\n",
    "plt.ylabel('%T')\n",
    "plt.legend()\n",
    "plt.show()"
   ]
  },
  {
   "cell_type": "markdown",
   "metadata": {},
   "source": [
    "### 3.  Compare %T for 38A and Y filters ###\n",
    "\n",
    "Now let's compare the transmittance spectrum for the 38A and Y filters. First, you need to load the %T data for the Y filter. Complete the next line to do this! \n",
    "\n",
    "(Hint: This should look very similar to the line in the code block above that starts `dat38A = `...). "
   ]
  },
  {
   "cell_type": "code",
   "execution_count": null,
   "metadata": {},
   "outputs": [],
   "source": [
    "# **** COMPLETE THE NEXT LINE TO LOAD THE Y FILTER DATA ***** #\n",
    "datY = #? "
   ]
  },
  {
   "cell_type": "markdown",
   "metadata": {},
   "source": [
    "Once the data is loaded, we can plot it:"
   ]
  },
  {
   "cell_type": "code",
   "execution_count": null,
   "metadata": {},
   "outputs": [],
   "source": [
    "# Note that you've already loaded the 38A data, so you don't need to load it again. \n",
    "# Just plot the %T curve. \n",
    "plt.plot(dat38A[:,0], dat38A[:,1], 'b', label='38A')\n",
    "\n",
    "# And the same for the Y filter data\n",
    "plt.plot(datY[:,0], datY[:,1], 'y', label='Y')\n",
    "\n",
    "plt.xlabel('Wavelength (nm)')\n",
    "plt.ylabel('%T')\n",
    "plt.legend()\n",
    "\n",
    "plt.xlabel('Wavelength (nm)')\n",
    "plt.ylabel('%T')\n",
    "plt.legend()\n",
    "plt.show()"
   ]
  },
  {
   "cell_type": "markdown",
   "metadata": {},
   "source": [
    "### 3. Compare %T for the 38A+Y filter combination with the product of the individual %T spectra ###\n",
    "\n",
    "Now plot the measured %T spectrum for the 38A+Y filter combination against the *product* of the individual %T spectra for 38A and Y filters. \n"
   ]
  },
  {
   "cell_type": "code",
   "execution_count": null,
   "metadata": {},
   "outputs": [],
   "source": [
    "dat38AY = np.loadtxt(\"Lab2a/38AY.csv\", delimiter=',')\n",
    "\n",
    "# Plot 38A data\n",
    "plt.plot(dat38A[:,0], dat38A[:,1], 'b', label='38A')\n",
    "\n",
    "# plot Y data\n",
    "plt.plot(datY[:,0], datY[:,1], 'y', label='Y')\n",
    "\n",
    "# plot data recorded with *both* 38A and Y filters in place\n",
    "plt.plot(dat38AY[:,0], dat38AY[:,1], 'g', label='38A and Y')\n",
    "\n",
    "# Now plot the product of the 38A and Y curves. \n",
    "# Note that we have to divide by 100 (otherwise we multiply \"per-100\" times \"per-100\" and get \"per-10,000\")\n",
    "plt.plot(dat38A[:,0], dat38A[:,1]*datY[:,1]/100.0, 'm', label='Product')\n",
    "\n",
    "plt.xlabel('Wavelength (nm)')\n",
    "plt.ylabel('%T')\n",
    "plt.legend()\n",
    "plt.show()"
   ]
  },
  {
   "cell_type": "markdown",
   "metadata": {},
   "source": [
    "### 4. Plot Bandpass Filter %T Spectrum  ###\n",
    "\n",
    "Now plot the transmittance spectrum of the bandpass filter. This time, you'll enter all the commands yourself! \n",
    "\n",
    "In the code block below, complete the following steps, each using a single line of code:\n",
    "1. Load the data using `np.loadtxt()` and storing it in a variable called `datBP`. \n",
    "2. Plot the data using `plt.plot()`, giving in the label 'Band Pass'. \n",
    "3. Set the x-label to 'Wavelength (nm)'\n",
    "4. Set the y-label to '%T'\n",
    "5. Add a legend using `plt.legend()`\n",
    "6. Display the figure using `plt.show()`. \n",
    "\n",
    "Each of these commands is illustrated for you in the code blocks you've already executed in this notebook, so if you get confused, just compare to the earlier code!"
   ]
  },
  {
   "cell_type": "code",
   "execution_count": 1,
   "metadata": {},
   "outputs": [],
   "source": [
    "# Enter your code here!"
   ]
  },
  {
   "cell_type": "markdown",
   "metadata": {},
   "source": [
    "### 5. Plot %T Spectra for P7 Dye ###\n",
    "\n",
    "Now we'll start examining our P7 dye transmittance/absorption data. \n",
    "\n",
    "First plot the measured %T spectra for the P7 dye at each of the four concentrations you measured in lab. In the code block below, `dat100` should store data for the original, undiluted P7 dye solution, `dat50` should store data for the 2x dilution, `dat25` should store data for the 4x dilution, and `dat12o5` for the 8x dilution. \n",
    "\n",
    "Complete the first four lines to make the code run!"
   ]
  },
  {
   "cell_type": "code",
   "execution_count": null,
   "metadata": {},
   "outputs": [],
   "source": [
    "dat100 = #? \n",
    "dat50 = #? \n",
    "dat25 = #? \n",
    "dat12o5 = #? \n",
    "\n",
    "plt.plot(dat100[:,0], dat100[:,1], label='100x')\n",
    "plt.plot(dat50[:,0], dat50[:,1], label='50x')\n",
    "plt.plot(dat25[:,0], dat25[:,1], label='25x')\n",
    "plt.plot(dat12o5[:,0], dat12o5[:,1], label='12.5x')\n",
    "\n",
    "plt.xlabel('Wavelength (nm)')\n",
    "plt.ylabel('%T')\n",
    "plt.legend()\n",
    "plt.show()\n",
    "\n",
    "plt.show()"
   ]
  },
  {
   "cell_type": "markdown",
   "metadata": {},
   "source": [
    "### 6. Plot minimum %T versus concentration\n",
    "\n",
    "Now let's make a plot of the *minimum transmittance value* for each curve against the concentration. \n",
    "\n",
    "Remember, transmittance curves tell us \"how much light got through\" as a function of wavelength. We'll use the `np.min()` function to identify automatically what was the *smallest* measured transmittance value for each curve. This smallest transmittance will occur for the wavelength corresponding to the *strongest* absorption of light by the sample. Based on the curves you just plotted, what wavelength do you think this corresponds to? \n",
    "\n",
    "Notice: Is there a linear relationship between the concentration of the solution adn the minimum transmittance value? "
   ]
  },
  {
   "cell_type": "code",
   "execution_count": null,
   "metadata": {},
   "outputs": [],
   "source": [
    "# np.min() finds the smallest value in an array.\n",
    "# The variables T100, T50, T25, etc. store the smallest transmittance\n",
    "# values from each spectrum. \n",
    "T100 = np.min(dat100[:,1])\n",
    "T50 = np.min(dat50[:,1])\n",
    "T25 = np.min(dat25[:,1])\n",
    "T12o5 = np.min(dat12o5[:,1])\n",
    "\n",
    "# Concentration in M\n",
    "conc100 = 1.2e-5\n",
    "\n",
    "# Now we make arrays storing our data. First concentration:\n",
    "cvals = np.array([0.125, 0.25, 0.5, 1.0])*conc100\n",
    "\n",
    "# Then transmittance: \n",
    "tvals = np.array([T12o5, T25, T50, T100])\n",
    "\n",
    "# Now plot!\n",
    "plt.plot(cvals, tvals, 'o-')\n",
    "plt.xlabel('Concentration (M)')\n",
    "plt.ylabel('%T')\n",
    "plt.show()"
   ]
  },
  {
   "cell_type": "markdown",
   "metadata": {},
   "source": [
    "### 7. Convert %T Spectra to Absorbance ###\n",
    "\n",
    "Now let's repeat the same analysis using the *absorbance* instead of transmittance. The absorbance of a material is defined as \n",
    "$$ \\text{Abs} = - \\log_{10} T = - \\log_{10} \\frac{\\%T}{100}.$$\n",
    "This may seem like an unnecessarily complicated definition, but it turns out to be very useful, especially when studying samples with varying concentration. (You'll see why in a moment!) First let's plot the raw data. "
   ]
  },
  {
   "cell_type": "code",
   "execution_count": null,
   "metadata": {},
   "outputs": [],
   "source": [
    "# The NumPy command np.log10(...) calculates the base-10 logarithm\n",
    "plt.plot(dat100[:,0], -np.log10(dat100[:,1]*0.01), label='100x')\n",
    "plt.plot(dat50[:,0], -np.log10(dat50[:,1]*0.01), label='50x')\n",
    "plt.plot(dat25[:,0], -np.log10(dat25[:,1]*0.01), label='25x')\n",
    "plt.plot(dat12o5[:,0], -np.log10(dat12o5[:,1]*0.01), label='12.5x')\n",
    "\n",
    "plt.xlabel('Wavelength (nm)')\n",
    "plt.ylabel('Absorbance')\n",
    "plt.legend()\n",
    "plt.show()"
   ]
  },
  {
   "cell_type": "markdown",
   "metadata": {},
   "source": [
    "### 8. Plot maximum absorbance vs. Concentration\n",
    "\n",
    "Now let's make a plot of concentration vs. *maximum* absorbance. (Note that absorbance and transmittance are inversely related, so *minimum transmittance* corresponds to *maximum absorbance*.) \n",
    "\n",
    "Since we already defined the variables `T100`, `T50`, `T25`, and `T12o5`, we can just calculate absorbance values for these points. (Alternatively, we could have used the function `np.max()` to find the maximum absorbance from the entire absorption curve.)"
   ]
  },
  {
   "cell_type": "code",
   "execution_count": null,
   "metadata": {},
   "outputs": [],
   "source": [
    "# Calculate maximum absorbance values\n",
    "A100 = -np.log10(T100*0.01)\n",
    "A50 = -np.log10(T50*0.01)\n",
    "A25 = -np.log10(T25*0.01)\n",
    "A12o5 = -np.log10(T12o5*0.01)\n",
    "\n",
    "# Define an array that stores all four values\n",
    "avals = np.array([A12o5, A25, A50, A100])\n",
    "\n",
    "# Plot the values against concentration. \n",
    "plt.plot(cvals, avals, 'o')\n",
    "plt.xlabel('Concentration (M)')\n",
    "plt.ylabel('Absorbance')\n",
    "plt.show()"
   ]
  },
  {
   "cell_type": "markdown",
   "metadata": {},
   "source": [
    "### 9. Discussion and Conclusions\n",
    "\n",
    "Based on your observations, answer the following questions. \n",
    "\n",
    "#### Question 1: \n",
    "Discuss how the colors of the filters and their spectra relate. When two filters are placed in series, what does the resulting %T curve look like? How does one make a bandpass filter?"
   ]
  },
  {
   "cell_type": "markdown",
   "metadata": {},
   "source": []
  },
  {
   "cell_type": "markdown",
   "metadata": {},
   "source": [
    "#### Question 2: \n",
    "Based on the plots you created above, explain the relationship between absorbance and concentration and also between %T and concentration. "
   ]
  },
  {
   "cell_type": "markdown",
   "metadata": {},
   "source": []
  },
  {
   "cell_type": "markdown",
   "metadata": {},
   "source": [
    "#### Question 3: \n",
    "Based on these results, which quantity (absorbance or %T) would be more convenient for determining the concentration of P7 dye in an unknown sample? "
   ]
  },
  {
   "cell_type": "markdown",
   "metadata": {},
   "source": []
  },
  {
   "cell_type": "markdown",
   "metadata": {},
   "source": [
    "#### Question 4:\n",
    "How well do your estimates for the wavelengths of the various colors (purple, blue, green, etc.) compare to the CRC values? To illustrate your answer, complete the code block below to make a scatter plot of your values against the CRC values. "
   ]
  },
  {
   "cell_type": "markdown",
   "metadata": {},
   "source": []
  },
  {
   "cell_type": "code",
   "execution_count": null,
   "metadata": {},
   "outputs": [],
   "source": [
    "MyColorWavelengths = np.array([])\n",
    "CRCColorWavelengths = np.array([])\n",
    "\n",
    "plt.plot(CRCColorWavelengths, MyColorWavelengths, 'o')\n",
    "plt.xlabel('Wavelength (nm)')\n",
    "plt.ylabel('Wavelength (nm)')\n",
    "plt.show()"
   ]
  },
  {
   "cell_type": "markdown",
   "metadata": {},
   "source": [
    "### 10. Submit! \n",
    "\n",
    "Finally, when you're satisfied with your answers, download your notebook as a PDF by selecting File > Download As > PDF via Latex (.pdf) from the dropdown menu at the top right of this window. Then upload the PDF under the Lab2a assignment on the Brightspace page **for your lab section**.\n"
   ]
  },
  {
   "cell_type": "code",
   "execution_count": null,
   "metadata": {},
   "outputs": [],
   "source": []
  }
 ],
 "metadata": {
  "kernelspec": {
   "display_name": "Python 3",
   "language": "python",
   "name": "python3"
  },
  "language_info": {
   "codemirror_mode": {
    "name": "ipython",
    "version": 3
   },
   "file_extension": ".py",
   "mimetype": "text/x-python",
   "name": "python",
   "nbconvert_exporter": "python",
   "pygments_lexer": "ipython3",
   "version": "3.7.7"
  }
 },
 "nbformat": 4,
 "nbformat_minor": 2
}
