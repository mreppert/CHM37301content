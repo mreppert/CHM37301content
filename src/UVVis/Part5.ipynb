{
 "cells": [
  {
   "cell_type": "code",
   "execution_count": 3,
   "metadata": {},
   "outputs": [],
   "source": [
    "%matplotlib inline\n",
    "import matplotlib.pyplot as plt\n",
    "import math\n",
    "import numpy as np \n",
    "\n",
    "from IPython import display as dsp\n",
    "\n",
    "import ipywidgets as widgets\n"
   ]
  },
  {
   "cell_type": "markdown",
   "metadata": {},
   "source": [
    "# Part 2: Classical Particle in a Box\n",
    "\n",
    "### Dynamical Frequencies ###\n",
    "\n",
    "As we discussed in our first week's lecture, the frequency of light absorbed by a molecule is closely related to the frequency with which its atoms and electrons move. Although a complete classical (or quantum!) description of the absorption of light by a molecule is quite complicated, all the information we need is embedded in the question: With what *frequency* does the particle move? \n",
    "\n",
    "For a classical particle bouncing back and forth in a box, the frequency of its motion is just determined by how long it takes to travel from one end of the box to the other. If the particle moves with a velocity $v_x$ through a box of length $L$ (in the x-dimension), then it takes time \n",
    "$$ \\tau_{1/2} = \\frac{L}{v_x}$$\n",
    "to travel from one end of the box to the other. To travel *back* to the other side takes another period of $\\tau_{1/2}$, so the total time for a round-trip is \n",
    "$$\\tau = \\frac{2L}{v_x}.$$\n",
    "\n",
    "The *frequency* with which the particle completes this trip is just the inverse of this round-trip time: \n",
    "$$ \\nu = \\frac{1}{\\tau} = \\frac{v_x}{2L}. $$\n",
    "So we see that the frequency of the particle is determined by \n",
    "1. the length of the box and\n",
    "2. the velocity of the particle. \n",
    "\n",
    "What determines the velocity $v_x$ of a classical particle? Many things! But you'll learn later in your lecture course that free particles have velocities distributed according to a *probability density* that looks like \n",
    "$$ p(v_x) = e^{-\\frac{mv_x^2}{2 k_B T}},$$\n",
    "where $T$ is the temperature of the system, $m$ is the particle mass, and $k_B$ is a universal constant known as the *Boltzmann constant*. \n",
    "\n",
    "For the purposes of this lab, you don't need to memorize this equation or understand where it comes. What you **do** need to remember is that according to classical mechanics\n",
    "1. A particle in a box moves with a dynamic frequency of $\\tau = \\frac{v_x}{2L}$, and \n",
    "2. Velocity will vary randomly from particle-to-particle (and therefore molecule to moleucule). \n",
    "\n",
    "### A Simple Simulation ###\n",
    "\n",
    "What we want to do now is to use these observations to determine the frequency of light that would be most likely absorbed by a classical particle-in-a-box. Although we could do this calculation analytically, it will probably be more memorable to watch a simulation that gives us the same result. To this end, the buttons below will let you run a simple dynamical simulation showing a collection of classical particles \"bouncing\" back and forth across a closed box. By moving the slide bars, you can change both the number of particles and the length of the box. \n",
    "\n",
    "In this simple simulation, the particles don't interact with each other -- if two particles collide, they just pass right on through each other without noticing! This allows us to collect statistics on *many* classical particles without worrying about them interfering with each other. (Remember that experimentally you also average over the absorption properties of many individual electrons, since your dye solution contains many molecules!) \n",
    "\n",
    "After the simulation finishes, a histogram will pop up showing the number of particles in the simulation that bounce across the x-dimension of the box with frequencies from 0 to 200 THz. (THZ = \"terahertz\" or $1\\cdot 10^{12}$ Hz).\n",
    "\n",
    "### Instructions ###\n",
    "\n",
    "1. For this lab, first run a simulation with the default parameters (10 particles, 10 Angstrom box length). Then compare this simulation with runs with L set to 2 Angstrom and 20 Angstrom. How does changing the box length alter the time it takes each particle to travel across the box? \n",
    "\n",
    "2. Second, run simulations with 5000 particles and box lengths of 5, 10, and 15 Angstroms. (You probably won't be able to distinguish the different particles since the box is so full!) Looking at the histogram, what is the most common round-trip frequency in each case? "
   ]
  },
  {
   "cell_type": "code",
   "execution_count": 11,
   "metadata": {},
   "outputs": [],
   "source": [
    "def run_dynamics(b):\n",
    "    \n",
    "    L = Lslider.value*1e-10\n",
    "    \n",
    "    Ly = 2.0e-10\n",
    "    \n",
    "    Npart = Nslider.value\n",
    "    \n",
    "    tmax=50e-15       # Total simulation time in seconds\n",
    "    dt=0.5e-15     # Time-step in seconds\n",
    "    M=0.0005485799 # Mass in AMU (1 AMU = 1.66054e-27 kg)\n",
    "    V=np.sqrt(300.0*1.380649e-23/(9.1093837015e-31))          # Velocity (magnitude) in m/s\n",
    "\n",
    "    x=np.random.rand(Npart)*L                                   # initial x-coordinate (meters)\n",
    "    y=np.random.rand(Npart)*Ly                      # initial y-coordinate (meters)\n",
    "    vx = np.random.normal(0, V/np.sqrt(2), (Npart,))  # initial x-component of velocity (arbitrary units)\n",
    "    vy = np.random.normal(0, V/np.sqrt(2), (Npart,))  # initial x-component of velocity (arbitrary units)\n",
    "\n",
    "    fig = plt.figure(figsize=(L*0.5e+10, Ly*0.5e+10))\n",
    "\n",
    "    graph_handle, = plt.plot(x*1e+10, y*1e+10, 'ko')\n",
    "\n",
    "    text_handle = plt.text(0.1*L*1e+10,1.2*Ly*1e+10,'t = '+'{:.1f}'.format(0)+' fs', fontsize=16)\n",
    "    plt.xlim([0,L*1e+10])\n",
    "    plt.ylim([0,Ly*1e+10])\n",
    "    plt.xlabel('X (Angstrom)', fontsize=16)\n",
    "    plt.ylabel('Y (Angstrom)', fontsize=16)\n",
    "    plt.xticks(np.arange(0, L*1.05*1e+10, 2), fontsize=16)\n",
    "    plt.yticks(np.arange(0, Ly*1.05*1e+10, 2), fontsize=16)\n",
    "    plt.gca().set_aspect('equal')\n",
    "\n",
    "    Nsteps=int(round(tmax/dt))     \n",
    "    for n in range(0,Nsteps):      \n",
    "        x = x + dt*vx              \n",
    "        y = y + dt*vy\n",
    "\n",
    "        ndcsx = np.where((x>L) + (x<0))\n",
    "        vx[ndcsx] = -vx[ndcsx]\n",
    "\n",
    "        ndcsy = np.where((y>Ly) + (y<0))\n",
    "        vy[ndcsy] = -vy[ndcsy]\n",
    "\n",
    "        graph_handle.set_xdata(x*1e+10)\n",
    "        graph_handle.set_ydata(y*1e+10)\n",
    "        text_handle.set_text('t = '+'{:.1f}'.format(n*dt*1e+15)+' fs')\n",
    "        dsp.display(plt.gcf())\n",
    "        dsp.clear_output(wait=True)\n",
    "\n",
    "    plt.figure(figsize=(4,4))\n",
    "    plt.title('Frequency Histogram')\n",
    "    fx = np.abs(1e-12*vx/(2*L))\n",
    "    bins = np.arange(0, 200, 5)\n",
    "    dat = plt.hist(fx, bins)\n",
    "\n",
    "    plt.xlabel('Frequency (THz)', fontsize=16)\n",
    "    plt.xticks([0, 100, 200], fontsize=16)\n",
    "    plt.yticks(fontsize=16)\n",
    "    plt.ylabel('Number of particles', fontsize=16)\n",
    "\n",
    "    plt.show()\n",
    "    \n",
    "    display(Nbox)\n",
    "    display(Lbox)\n",
    "    display(go_bt)"
   ]
  },
  {
   "cell_type": "code",
   "execution_count": 12,
   "metadata": {},
   "outputs": [
    {
     "data": {
      "image/png": "[encoded data removed]",
      "text/plain": [
       "<Figure size 720x72 with 1 Axes>"
      ]
     },
     "metadata": {
      "needs_background": "light"
     },
     "output_type": "display_data"
    },
    {
     "data": {
      "image/png": "[encoded data removed]",
      "text/plain": [
       "<Figure size 288x288 with 1 Axes>"
      ]
     },
     "metadata": {
      "needs_background": "light"
     },
     "output_type": "display_data"
    },
    {
     "data": {
      "application/vnd.jupyter.widget-view+json": {
       "model_id": "8ce004c60ecc40e8b317f1fc7046d323",
       "version_major": 2,
       "version_minor": 0
      },
      "text/plain": [
       "HBox(children=(HTML(value='Number of Particles: '), IntSlider(value=10, continuous_update=False, max=5000, min…"
      ]
     },
     "metadata": {},
     "output_type": "display_data"
    },
    {
     "data": {
      "application/vnd.jupyter.widget-view+json": {
       "model_id": "0652b735c6194eb6a25e574ea0ca9242",
       "version_major": 2,
       "version_minor": 0
      },
      "text/plain": [
       "HBox(children=(HTML(value='Box Length (Ang.): '), IntSlider(value=20, continuous_update=False, max=20, min=1))…"
      ]
     },
     "metadata": {},
     "output_type": "display_data"
    },
    {
     "data": {
      "application/vnd.jupyter.widget-view+json": {
       "model_id": "6f3b580b6af54d44bcc20b2a55cca97a",
       "version_major": 2,
       "version_minor": 0
      },
      "text/plain": [
       "Button(description='Run Simulation!', style=ButtonStyle())"
      ]
     },
     "metadata": {},
     "output_type": "display_data"
    }
   ],
   "source": [
    "import ipywidgets as widgets\n",
    "\n",
    "Nlabel = widgets.HTML(\n",
    "    value='Number of Particles: '\n",
    ")\n",
    "\n",
    "Nslider = widgets.IntSlider(\n",
    "    value=10,\n",
    "    min=10,\n",
    "    max=5000,\n",
    "    step=10,\n",
    "    description='',\n",
    "    disabled=False,\n",
    "    continuous_update=False,\n",
    "    orientation='horizontal',\n",
    "    readout=True,\n",
    "    readout_format='d'\n",
    ")\n",
    "\n",
    "Llabel = widgets.HTML(\n",
    "    value='Box Length (Ang.): '\n",
    ")\n",
    "\n",
    "Lslider = widgets.IntSlider(\n",
    "    value=10,\n",
    "    min=1,\n",
    "    max=20,\n",
    "    step=1,\n",
    "    description='',\n",
    "    disabled=False,\n",
    "    continuous_update=False,\n",
    "    orientation='horizontal',\n",
    "    readout=True,\n",
    "    readout_format='d'\n",
    ")\n",
    "\n",
    "go_bt = widgets.Button(\n",
    "    description='Run Simulation!'\n",
    ")\n",
    "go_bt.on_click(run_dynamics)\n",
    "\n",
    "Nbox = widgets.HBox([Nlabel, Nslider])\n",
    "Lbox = widgets.HBox([Llabel, Lslider])\n",
    "\n",
    "display(Nbox)\n",
    "display(Lbox)\n",
    "display(go_bt)"
   ]
  },
  {
   "cell_type": "code",
   "execution_count": null,
   "metadata": {},
   "outputs": [],
   "source": []
  },
  {
   "cell_type": "code",
   "execution_count": null,
   "metadata": {},
   "outputs": [],
   "source": []
  }
 ],
 "metadata": {
  "kernelspec": {
   "display_name": "Python 3",
   "language": "python",
   "name": "python3"
  },
  "language_info": {
   "codemirror_mode": {
    "name": "ipython",
    "version": 3
   },
   "file_extension": ".py",
   "mimetype": "text/x-python",
   "name": "python",
   "nbconvert_exporter": "python",
   "pygments_lexer": "ipython3",
   "version": "3.7.7"
  }
 },
 "nbformat": 4,
 "nbformat_minor": 2
}
