{
 "cells": [
  {
   "cell_type": "code",
   "execution_count": 4,
   "metadata": {},
   "outputs": [
    {
     "data": {
      "application/javascript": [
       "IPython.OutputArea.auto_scroll_threshold = 9999\n"
      ],
      "text/plain": [
       "<IPython.core.display.Javascript object>"
      ]
     },
     "metadata": {},
     "output_type": "display_data"
    }
   ],
   "source": [
    "%%javascript\n",
    "IPython.OutputArea.auto_scroll_threshold = 9999"
   ]
  },
  {
   "cell_type": "markdown",
   "metadata": {},
   "source": [
    "## Part 1: Filters ##\n",
    "\n",
    "### Overview: ###\n",
    "\n",
    "Optical filters allow light of only certain wavelengths to pass through. You're undoubtedly familiar with some optical filters already from everyday life, e.g., in the form of tinted sunglasses or stained glass windows. In this part of the lab, you'll familiarize yourself with the Cary UV/Vis spectrometer and compare the optical properties of several research-grade optical filters that provide more precise control over the wavelengths of light that are allowed to pass through the spectrometer. \n",
    "\n",
    "In this part of the lab, you will:\n",
    "1. Measure the absorption spectrum of a blue photographic filter (a Wratten filter type 38A) and verify that your spectrometer is properly calibrated by comparing your results with the filter transmittance values published in the CRC Handbook for the Wratten filter 38A, \n",
    "2. Take the spectrum of a yellow filter, \n",
    "3. See the effect of putting two filters in series, and \n",
    "4. Compare the resulting transmittance with that of a single \"bandpass\" filter. \n",
    "\n",
    "### Instructions: ####\n",
    "\n",
    "\n",
    "The following 4 scans will be run during this experiment:\n",
    "* Filter 38A (Wratten blue filter)\n",
    "* Filter Y (Yellow filter)\n",
    "* Filter 38A/Filter Y (both filters in series)\n",
    "* Filter BP (bandpass filter)\n",
    "\n",
    "Using the Cary 6 UV-VIS Spectrometer, **repeat the procedure below** for each of these 6 filter combinations. "
   ]
  },
  {
   "cell_type": "markdown",
   "metadata": {},
   "source": [
    "### 1. Start the softwaare ###\n",
    "\n",
    "Open the Cary 60 UV-VIS \"Scan\" program from the Start Menu. Once the Power Button of the UV-Vis turns green, click \"SETUP\" from the top left.\n",
    "\n",
    "### 2. Set Parameters ###\n",
    "\n",
    "In the \"Cary\" tab, set:<br>\n",
    "<img src=\"img/CarySettings.png\" width=\"550\"/><br>\n",
    "\n",
    "Click on the \"Auto Store\" tab and set to \"Storage Off\"\n",
    "\n",
    "Click on the \"Reports\" tab, in Options: Uncheck \"Company Logo\" and \"Parameters\"\n",
    "\n",
    "Then click \"OK\"."
   ]
  },
  {
   "cell_type": "markdown",
   "metadata": {},
   "source": [
    "### 3. Run Background Scan ###\n",
    "\n",
    "Insert a blank sample, and click the **\"Zero\"** button on the far left. Click \"**OK**\". "
   ]
  },
  {
   "cell_type": "markdown",
   "metadata": {},
   "source": [
    "### 4. Collect Sample Spectrum ###\n",
    "\n",
    "Insert the sample to be run and click **START**; then enter a file name and let the scan run. \n",
    "\n",
    "Once the scan is complete, click \"Finish\". "
   ]
  },
  {
   "cell_type": "markdown",
   "metadata": {},
   "source": [
    "### 5. Save File ###\n",
    "\n",
    "Click FILE > Save Data As and then save using \n",
    "* File Name: 38A, Y, Combo, BP, etc., as appropriate\n",
    "* Files of Type: **Spreadsheet Ascii (\\*.CSV)**\n",
    "* Click box **ON** for Save only focused trace\n",
    "* Set the save location to the Desktop."
   ]
  },
  {
   "cell_type": "markdown",
   "metadata": {},
   "source": [
    "### 6. Remove the header ###\n",
    "\n",
    "The first and last lines of the file exported by the Cary software includes some header/footer information that we don't need (and that will confuse the NumPy if we try to import it!). To get rid of it: \n",
    "* Open the saved file in Excel\n",
    "* Delete lines 404 - 436 (or wherever the parameter text ends)\n",
    "* Delete lines 1 and 2. \n",
    "* Close the file and save changes. \n",
    "\n",
    "These files are now ready to upload to your nanoHUB notebook for processing. "
   ]
  },
  {
   "cell_type": "code",
   "execution_count": null,
   "metadata": {},
   "outputs": [],
   "source": []
  }
 ],
 "metadata": {
  "kernelspec": {
   "display_name": "Python 3",
   "language": "python",
   "name": "python3"
  },
  "language_info": {
   "codemirror_mode": {
    "name": "ipython",
    "version": 3
   },
   "file_extension": ".py",
   "mimetype": "text/x-python",
   "name": "python",
   "nbconvert_exporter": "python",
   "pygments_lexer": "ipython3",
   "version": "3.7.7"
  }
 },
 "nbformat": 4,
 "nbformat_minor": 2
}
