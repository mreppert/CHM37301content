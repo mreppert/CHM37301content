{
 "cells": [
  {
   "cell_type": "code",
   "execution_count": 4,
   "metadata": {},
   "outputs": [
    {
     "data": {
      "application/javascript": [
       "IPython.OutputArea.auto_scroll_threshold = 9999\n"
      ],
      "text/plain": [
       "<IPython.core.display.Javascript object>"
      ]
     },
     "metadata": {},
     "output_type": "display_data"
    }
   ],
   "source": [
    "%%javascript\n",
    "IPython.OutputArea.auto_scroll_threshold = 9999"
   ]
  },
  {
   "cell_type": "markdown",
   "metadata": {},
   "source": [
    "## Part 2: Colors ##\n",
    "\n",
    "### Overview: ###\n",
    "\n",
    "In this part of the lab, you will\n",
    "1. Determine the (approximate) wavelength of the basic colors, and \n",
    "2. Compare your observations to the values from the CRC Handbook. \n",
    "\n",
    "\n",
    "### Instructions: ####\n",
    "\n",
    "* Place a folded white paper in front of the exit slit. This will act as a screen for seeing the colors from the monochromator. \n",
    "\n",
    "* Turn the lamp to Full Power for this section only. Run a scan, and record the wavelength value when you feel that the colors are:\n",
    "    * Purple \n",
    "    * Blue\n",
    "    * Green\n",
    "    * Yellow\n",
    "    * Orange\n",
    "    * Red.\n",
    "* Compare your values to the defined values from the CRC Handbook. "
   ]
  },
  {
   "cell_type": "code",
   "execution_count": null,
   "metadata": {},
   "outputs": [],
   "source": []
  }
 ],
 "metadata": {
  "kernelspec": {
   "display_name": "Python 3",
   "language": "python",
   "name": "python3"
  },
  "language_info": {
   "codemirror_mode": {
    "name": "ipython",
    "version": 3
   },
   "file_extension": ".py",
   "mimetype": "text/x-python",
   "name": "python",
   "nbconvert_exporter": "python",
   "pygments_lexer": "ipython3",
   "version": "3.7.7"
  }
 },
 "nbformat": 4,
 "nbformat_minor": 2
}
