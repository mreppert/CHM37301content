{
 "cells": [
  {
   "cell_type": "code",
   "execution_count": 4,
   "metadata": {},
   "outputs": [
    {
     "data": {
      "application/javascript": [
       "IPython.OutputArea.auto_scroll_threshold = 9999\n"
      ],
      "text/plain": [
       "<IPython.core.display.Javascript object>"
      ]
     },
     "metadata": {},
     "output_type": "display_data"
    }
   ],
   "source": [
    "%%javascript\n",
    "IPython.OutputArea.auto_scroll_threshold = 9999"
   ]
  },
  {
   "cell_type": "markdown",
   "metadata": {},
   "source": [
    "## Part 4: Absorption Wavelengths of Polyene Dyes ##\n",
    "\n",
    "### Overview: ###\n",
    "\n",
    "In this part of the lab, you will measure absorbance spectra of the three polyene dyes P5, P7, and P9. \n",
    "\n",
    "### Instructions: ####\n",
    "\n",
    "### 1. Absorption ### \n",
    "\n",
    "Follow the operating instructions for the Cary 60 UV/Vis spectrometer from Part 1 (last week) to collect %T spectra for the **P5**, **P7**, and **P9** dyes. \n",
    "\n",
    "### 2. P7 Fluorescence ### \n",
    "\n",
    "Collecting a fluorescence spectrum in the Cary 60 spectrometer is functionally very similar to collecting and absorption spectrum. The difference is that in the fluorescence measurement, the sample is excited by a HeNe laser with a very narrow 638.2 nm spectrum, so that (except for in the immediate vicinity of 638.2 nm!), all the light reaching the detector is *fluorescence* from the sample, without any background from the excitation source. (The Xe flash lamp is blocked for these measurements.) \n",
    "\n",
    "To collect the P7 fluorescence spectrum, proceed as follows: \n",
    "\n",
    "* Place a cell containing a solution of the P7 dye in the cell holder inside of the Cary 60. \n",
    "* The fluorescence signal is very small, so proper alignment is critical. Shine the laser beam into the sample from above, aligning the beam so that it goes through the dye solution as close as possible to the entrance slit of the monochromator, which is the left side of the cuvet. \n",
    "* Run a scan from 400 to 800 nm with the same scan parameters you used to measure the absorption spectra. This scan measures the frequency of light *emitted* by the sample as a function of fluorescence wavelength. \n",
    "\n",
    "\n",
    "### 3. P7/P9 Fluorescence ###\n",
    "\n",
    "Repeat Step #2 above using a solution that contains both P9 and P7 dyes in a concentration ratio of roughly 4:1. "
   ]
  },
  {
   "cell_type": "code",
   "execution_count": null,
   "metadata": {},
   "outputs": [],
   "source": []
  }
 ],
 "metadata": {
  "kernelspec": {
   "display_name": "Python 3",
   "language": "python",
   "name": "python3"
  },
  "language_info": {
   "codemirror_mode": {
    "name": "ipython",
    "version": 3
   },
   "file_extension": ".py",
   "mimetype": "text/x-python",
   "name": "python",
   "nbconvert_exporter": "python",
   "pygments_lexer": "ipython3",
   "version": "3.7.7"
  }
 },
 "nbformat": 4,
 "nbformat_minor": 2
}
