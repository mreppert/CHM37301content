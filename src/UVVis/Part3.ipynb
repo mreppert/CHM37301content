{
 "cells": [
  {
   "cell_type": "code",
   "execution_count": 4,
   "metadata": {},
   "outputs": [
    {
     "data": {
      "application/javascript": [
       "IPython.OutputArea.auto_scroll_threshold = 9999\n"
      ],
      "text/plain": [
       "<IPython.core.display.Javascript object>"
      ]
     },
     "metadata": {},
     "output_type": "display_data"
    }
   ],
   "source": [
    "%%javascript\n",
    "IPython.OutputArea.auto_scroll_threshold = 9999"
   ]
  },
  {
   "cell_type": "markdown",
   "metadata": {},
   "source": [
    "## Part 3: Concentration, Percent Transmittance, and Absorbance ##\n",
    "\n",
    "### Overview: ###\n",
    "\n",
    "In this part of the lab, you will see how measured absorbance and percent transmittance values relate to the concentration of the P7 dye. \n",
    "\n",
    "### Instructions: ####\n",
    "\n",
    "The solid P7 dye is provided for you dissolved in ethanol at a concentration of $1.2\\cdot 10^{-5} M$. Briefly, you are to collect %T spectra for the provided dye solution, along with dilutions at 1/2, 1/4, and 1/8 the starting concentration. Because the dye is dissolved in ethanol, you will use a cuvette filled with pure ethanol as the \"blank\" when you measure each spectrum. "
   ]
  },
  {
   "cell_type": "markdown",
   "metadata": {},
   "source": [
    "### 1. Undiluted Solution ###\n",
    "\n",
    "Place the blank (a polystyrene cuvette filled with ethanol) into the UV-Vis spectrometer. Click the “**Baseline**” button on the far left and finish collecting the baseline spectrum as in Part 1. \n",
    "\n",
    "Empty the ethanol into the waste jar, and fill the same cuvette around 3/4 full with the P7 dye. Record the concentration of the dye into your lab book.\n",
    "\n",
    "Run a trial of this dye, saving the file under the name \"P7_100\", where the \"100\" indicates 100% concentration. *Notice and record both the color of the dye and the resulting fluorescence color of the dye where the light passes through it.*\n",
    "\n",
    "\n",
    "### 2. Two-fold Dilution ###\n",
    "\n",
    "Now pour around 2 - 3 mL of the P7 solution into a 10 mL graduated cylinder. Add to this an **exact equal amount** of ethanol. This should result in the concentration being exactly half of the original solution. Stir with the small spatula, then carefully pour some of this dye into the cuvette. Place any leftover dye into the waste jar. Run a trial for this dye, saving the file under the name \"P7_50\" since this solution has 50% the concentration of the original solution. \n",
    "\n",
    "### 3. Four-fold Dilution ###\n",
    "\n",
    "Repeat the dilution, again pouring 2 - 3 mL of your 50% solution into a graduated cylinder and adding exactly an equal amount of ethanol to it. This should result in a concentration of exactly one-half of the previous solution, i.e., 1/4th of the original dye. Stir and pur this solution into the cuvette, placing any leftover dye into the waste jar. Run a trial of this dye, saving the file under the name \"P7_25\". \n",
    "\n",
    "### 4. Eight-fold Dilution ### \n",
    "\n",
    "Once more, dilute this dye to exactly half the previous one to obtain a solution at 1/8th the original concentration. Run a trial of this dye and save the file under the name \"P7_12o5\" for 12.5% concentration. \n"
   ]
  },
  {
   "cell_type": "code",
   "execution_count": null,
   "metadata": {},
   "outputs": [],
   "source": []
  }
 ],
 "metadata": {
  "kernelspec": {
   "display_name": "Python 3",
   "language": "python",
   "name": "python3"
  },
  "language_info": {
   "codemirror_mode": {
    "name": "ipython",
    "version": 3
   },
   "file_extension": ".py",
   "mimetype": "text/x-python",
   "name": "python",
   "nbconvert_exporter": "python",
   "pygments_lexer": "ipython3",
   "version": "3.7.7"
  }
 },
 "nbformat": 4,
 "nbformat_minor": 2
}
