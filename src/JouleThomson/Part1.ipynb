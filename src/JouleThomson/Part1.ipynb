{
 "cells": [
  {
   "cell_type": "markdown",
   "metadata": {},
   "source": [
    "# Joule-Thomson Expansion #\n",
    "\n"
   ]
  },
  {
   "cell_type": "markdown",
   "metadata": {},
   "source": [
    "\n",
    "## Equipment ##\n",
    "\n",
    "As illustrated above, our implementation of the Joule-Thomson experiment uses a *continuous flow* arrangement. Rather than forcing a fixed volume of gas through the system using a pair of pistons (as in the pre-lab reading), gas will flow continuously into the system from an external cylinder (not pictured), regulated to constant pressure using the low-pressure regulator pictured on the left of the schematic. During the experiment, you'll adjust the pressure regulator to produce different $\\Delta$P values. \n",
    "\n",
    "The temperature of the gas is then stabilized by flowing through a copper coil immersed in a water bath to avoid thermal instability due to fluctuations in room temperature. From the water bath it flows into a heavily insulated Joule-Thomson expansion chamber through a porous frit. (Unfortunately, the frit isn't visible in our apparatus, so you won't be able to see this directly.) The frit is a solid piece of material that contains thousands of tiny holes, invisible to the naked eye. Because the holes are so small, gas passes through the frit only very slowly. As a result of this slow passage, the pressure on the right-hand side of the frit is effectively independent of the pressure on the left. \n",
    "\n",
    "\n",
    "## Measuring $\\Delta P$ ##\n",
    "\n",
    "After the frit, the gas simply exits to the atmosphere, so the right-hand pressure is fixed at $\\sim$1 atm. The pressure on the left is controlled by the low-pressure regulator. The **difference** in pressure $\\Delta P$ is the variable of interest to us, and is monitored by a pressure transducer connected to a digital multimeter (DMM), which reports a voltage difference in units of mV. You can convert the DMM reading to $\\Delta P$ by dividing the DMM reading by the coefficient $\\alpha = 0.4 $ mV/kPa. I.e., the voltage difference $\\Delta P_{mv}$ is related to the actual pressure (in kPa) by\n",
    "$$ \\Delta P = \\frac{\\Delta P_{\\text{mv}}}{0.4 \\text{ mV/kPa}}.$$\n",
    "\n",
    "\n",
    "\n",
    "## Measuring $\\Delta T$ ##\n",
    "\n",
    "Your goal in the experiment is to find out how different $\\Delta P$ values affect the **temperature change** $\\Delta T$ that the gas undergoes when it passes through the frit. Because the gas molecules on the low-pressure (right-hand) side of the frit are farther apart (on average), they interact less strongly with each other. Since the apparatus is thermally isolated, this weakening of interactions leads to an overall cooling of the gas as it passes through the frit. \n",
    "\n",
    "\n",
    "A Wheatstone bridge that includes two thermistors (on opposite sides of the frit) will be used to determine the $\\Delta T$ of the gas as it expands. The output from the Wheatstone bridge circuit is a voltage difference $V_\\text{AB}$ (displayed on a second DMM) that is related to the *resistance difference* $\\Delta R$ between the two thermistors by \n",
    "$$\\Delta R = \\frac{4 R }{V_o} \\cdot V_{AB} $$\n",
    "where $R$ and $V_o$ are reference values fixed at \n",
    "$$ R = 10.8 \\text{ k}\\Omega$$\n",
    "$$ V_o = 100\\text{ mV.}$$\n",
    "\n",
    "The temperature change $\\Delta T$ is then related to the this $\\Delta R$ value by\n",
    "$$ \\Delta T = a \\Delta R + b \\left( \\Delta R\\right)^2 , $$\n",
    "where \n",
    "$$ a = -2.1 \\cdot 10^{-3} K/\\Omega$$\n",
    "$$ b = +3.27 \\cdot 10^{-7} K/\\Omega^2.$$\n",
    "In your measurements, you'll record both $V_{AB}$ and $\\Delta P_\\text{mv}$ values for a variety of different pressure settings. In the post-lab analysis, you'll then convert those voltage readings to $\\Delta T$ and $\\Delta P$ values and calculated the Joule-Thomson coefficient. \n",
    "\n",
    " <img src=\"img/apparatus.png\" style=\"width:600px\">\n",
    "\n",
    "\n",
    "## Procedure ##\n",
    "\n",
    "\n",
    "Before you begin lab, your TA will have already prepared the apparatus, using the instructions found [here](prelab.ipynb). Once the equipment is prepared, you can proceed as follows: \n",
    "\n",
    "NOTE: After any pressure adjustment, temperature equilibration will take some time (3 - 5 minutes). The LabVIEW graph on the computer\n",
    "shows this temperature change live via a voltage output. After any pressure change, wait until the LabVIEW graph has stabilized before proceeding!\n",
    "\n",
    "\n",
    "1. Once the LabVIEW temperature signal has stabilized, read and record the following:\n",
    "    * The low-pressure regulator gauge pressure in kPa\n",
    "    * The barometric signal from the multimer ($\\Delta P_{mv}$). The bridge should be in the T position. (Your first experiment will start at this point.) \n",
    "    * The differential voltage output $V_\\text{AB}$ from the Wheatstone bridge, from the X display of the lock-in amplifier *or* from the computer display of the LabView program. \n",
    "    \n",
    "2. Gradually increase the indcated pressure by $\\sim 5$ kPa by slowly turning the metal key on the regulator adjustment valve *clockwise*. This increases the value of $\\Delta P$ since the outlet pressure should remain constant at 1 atm. (Why?) \n",
    "\n",
    "3. Repeat these two steps until the $\\Delta P$ gauge is at 95 kPa on the low-pressure regulator gauge, resulting in 10 data points. \n",
    "\n",
    "4. At the **end** of the lab, switch the bridge on the Joule-Thomson box to the R position. This will replace the outlet thermistor, R T2 , with another standard resistor of known resistance (R 3 ). Read and record V AB , as in step (5). This will allow you to calculate the inlet temperature of the gas, as equation (3a) now has only one unknown, R T1 , which is the resistance of the inlet thermistor. Then, R T1 can be plugged into the thermistor equation (4a) to determine the inlet gas temperature."
   ]
  },
  {
   "cell_type": "code",
   "execution_count": null,
   "metadata": {},
   "outputs": [],
   "source": []
  }
 ],
 "metadata": {
  "kernelspec": {
   "display_name": "Python 3",
   "language": "python",
   "name": "python3"
  },
  "language_info": {
   "codemirror_mode": {
    "name": "ipython",
    "version": 3
   },
   "file_extension": ".py",
   "mimetype": "text/x-python",
   "name": "python",
   "nbconvert_exporter": "python",
   "pygments_lexer": "ipython3",
   "version": "3.7.7"
  }
 },
 "nbformat": 4,
 "nbformat_minor": 2
}
