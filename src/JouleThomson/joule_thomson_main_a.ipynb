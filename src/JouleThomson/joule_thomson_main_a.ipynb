{
 "cells": [
  {
   "cell_type": "code",
   "execution_count": 1,
   "metadata": {},
   "outputs": [
    {
     "data": {
      "application/javascript": [
       "IPython.OutputArea.auto_scroll_threshold = 9999\n"
      ],
      "text/plain": [
       "<IPython.core.display.Javascript object>"
      ]
     },
     "metadata": {},
     "output_type": "display_data"
    }
   ],
   "source": [
    "%%javascript\n",
    "IPython.OutputArea.auto_scroll_threshold = 9999"
   ]
  },
  {
   "cell_type": "code",
   "execution_count": 2,
   "metadata": {},
   "outputs": [],
   "source": [
    "import math\n",
    "%matplotlib inline\n",
    "import matplotlib.pyplot as plt\n",
    "from IPython.display import Javascript, display\n",
    "from ipywidgets import widgets\n",
    "import IPython.display as ipd\n",
    "import time\n",
    "\n",
    "import numpy as np"
   ]
  },
  {
   "cell_type": "markdown",
   "metadata": {},
   "source": [
    "# The Joule-Thomson Effect\n",
    "\n",
    "## Non-ideal Gases ##\n",
    "\n",
    "In Thermodyamics, we often use the \"ideal gas\" as a model for all kinds of physical processes, from entropy of mixing to heat engine operation. Ideal gases are convenient model systems because their equations are (relatively) easy to solve and analyze. There's only one problem: They don't actually exist!\n",
    "\n",
    "In real live, gas behavior is never quite as simple as we'd like to believe. In this lab, you'll measure experimentally the *Joule-Thomson Effect*, one of the simplest measurements we can make that quantifies \"non-ideality\" in real gases. \n",
    "\n",
    "\n",
    "\n",
    "## The Basic Idea ##\n",
    "\n",
    "The basic idea behind the Joule-Thomson experiment is that the easiest way to look for *interactions* between gas molecules is by changing the volume of the container that holds them. At small volumes, gas molecules are close to each other (on average), and inter-molecular forces will have a relatively large impact on the total energy of the system. A large volumes, the molecules are far apart (on average), and inter-molecular forces will be unimportant. \n",
    "\n",
    "\n",
    "\n",
    "## The Setup ##\n",
    "\n",
    "To formalize this idea, consider the experiment outlined schematically below. Here a gas is forced with constant pressure $P_1$ through a porous plug and into a second chamber kept at constant pressure $P_2$. We'll assume that *all* of the gas is initially in the left chamber and that it *all* gets forced through to the right eventually. The \"porous plug\" here simply slows down the flow of the gas so that the pressures $P_1$ and $P_2$ can be maintained constantly throughout the experiment. The entire apparatus is enclosed within thermally isolated walls that prevent heat from being transported into or out of the system, i.e., the system is *closed* and the process is *adiabatic*. The complete process of expanding a gas in this manner is known as the *Joule-Thomson Expansion*. \n",
    "\n",
    " <img src=\"JouleThomsonSchematic.png\" style=\"width:600px\">\n",
    "\n",
    "## The Enthalpy ##\n",
    "\n",
    "Why do we choose this particular setup? It's because this layout keeps a particular thermodynamic parameter of interest constant during the gas expansion -- the **enthalpy** $H$ of the gas. To see this, think about the first law of thermodynamics: $$ \\Delta E = Q + W,$$\n",
    "where $W$ is the work performed *on* the system, and $Q$ is the heat that flows *into* the system. Because the process is adiabatic, $Q = 0$. Work, however, is performed: Forcing the gas out of the left chamber requires work\n",
    "$$ W_1 = - \\int_{V_1}^0 P_1 dV = P_1 V_1 .$$\n",
    "where $V_1$ is the initial volume of gas on the left side of the chamber. Conversely, the gas performs work on the surroundings as it expands into the right-hand chamber. The work performed *on the gas* during this process is \n",
    "$$W_2 = -\\int_0^{V_2} P_2 dV = - P_2 V_2 . $$\n",
    "Putting all this together, we find that the difference between the initial ($E_1$) and final ($E_2$) energies of the gas is just\n",
    "$$\\Delta E = E_2 - E_1 = W_1 + W_2 = P_1 V_1 - P_2 V_2 . $$\n",
    "Separating the \"1s\" and \"2s\" to opposite sides of the equation, we find\n",
    "$$E_2 + P_2 V_2 = E_1 + P_1 V_1. $$\n",
    "\n",
    "Does this look familiar yet? The quantity $H = E + PV$ is, by definition, the *enthalpy* of a substance. The equation thus tells us that the enthalpy is unchanged during a Joule-Thomson expansion, i.e., the Joule-Thomson expansion is *isenthalpic*. \n",
    "\n",
    "\n",
    "## The Math ##\n",
    "\n",
    "You might thing we just *did* the math, but wait -- there's more! Because the Joule-Thomson expansion is isenthalpic, it leads to a (relatively) simple set of differential relations relating fundamental thermodynamic quantities like $H$, $T$, and $P$. The fundamental differential relation for Enthalpy in terms of temperature and pressure reads\n",
    "$$ dH = \\left( \\frac{\\partial H}{\\partial T} \\right)_P dT + \\left( \\frac{\\partial H}{\\partial P} \\right)_T dP . $$\n",
    "Don't get scared by the notation here: Fundamentally, this equation is telling us only two things:\n",
    "* $H$ can be *expressed as a function* of $T$ and $P$, and also \n",
    "* $H$ varies *smoothly* with $T$ and $P$, so that small displacements ($dH$) in enthalpy can be written in terms of small displacements ($dT$ and $dP$) in temperature and pressure. \n",
    "These are essentially mathematical statements, and the equation has very little physical content in and of itself. \n",
    "\n",
    "All the interesting physics, of course, is in those two partial derivatives $\\left( \\frac{\\partial H}{\\partial T} \\right)_P$ and $\\left( \\frac{\\partial H}{\\partial P} \\right)_T $. These two coefficients express, respectively, how $H$ varies with temperature (with pressure held constant) and how $H$ varies with pressure (with temperature held constant). But how do we actually measure coefficients like this? \n",
    "\n",
    "Well, we already stated that the Joule-Thomson experiment is isenthalpic: i.e., $dH = 0$ throughout the experiment. In this particular experiment, therefore, our thermodynamic relationship becomes\n",
    "$$ \\left( \\frac{\\partial H}{\\partial T} \\right)_P dT = - \\left( \\frac{\\partial H}{\\partial P} \\right)_T dP . $$ \n",
    "Rearranging this equation to solve for the *ratio* $dT / dP$ gives us yet another thermodynamic relationship: \n",
    "$$  \\left( \\frac{\\partial T}{\\partial P} \\right)_H = - \\frac{\\left( \\frac{\\partial H}{\\partial P} \\right)_T}{\\left( \\frac{\\partial H}{\\partial T} \\right)_P} .$$\n",
    "\n",
    "\n",
    "\n",
    "## The Measurement ##\n",
    "\n",
    "The significance of this last quantity may not be immediately obvious. Why should we care in particular about the partial derivative $\\left( \\frac{\\partial T}{\\partial P} \\right)_H$? \n",
    "\n",
    "The answer is simple: Because we can measure it! The quantity $\\left( \\frac{\\partial T}{\\partial P} \\right)_H$ simply tells us how much the temperature changes $dT$ when a gas undergoes a very small change in pressure ($dP$) -- under the restriction that the enthalpy $H$ is held constant. The Joule-Thomson experiment enables us to measure exactly this: the variation of $T$ as a function of $P$ with $H$ held fixed. Specifically, we'll monitor how $T$ changes for various (finite) values of $\\Delta P$, and use those values to calculate the *Joule-Thomson Coefficient* \n",
    "\n",
    "$$\\mu_{JT} \\equiv \\left( \\frac{\\partial T}{\\partial P} \\right)_H .$$ \n",
    "\n",
    "In week 1, you'll measure $\\mu_{JT}$ for CO$_2$; in the second week you'll measure $\\mu_{JT}$ for He gas and compare your measured values to model calculations using the van der Waals equation of state. \n",
    "\n",
    "For detailed instructions, click here: <br><a href=\"Part1.ipynb\"> <button class=\"p-Widget jupyter-widgets jupyter-button widget-button mod-warning\" style=\"width:100px; background-color:#E9E9E9; font-size:10pt; color:black\">Go!</button></a>\n"
   ]
  },
  {
   "cell_type": "code",
   "execution_count": 3,
   "metadata": {},
   "outputs": [
    {
     "data": {
      "application/vnd.jupyter.widget-view+json": {
       "model_id": "efaa2cb1adf0463a994acb8fbea20e3d",
       "version_major": 2,
       "version_minor": 0
      },
      "text/plain": [
       "HBox(children=(Text(value='', description='Purdue ID:', placeholder='User name'), Button(description='Copy Exe…"
      ]
     },
     "metadata": {},
     "output_type": "display_data"
    },
    {
     "data": {
      "application/vnd.jupyter.widget-view+json": {
       "model_id": "c894416071e74242853349a2bb218d20",
       "version_major": 2,
       "version_minor": 0
      },
      "text/plain": [
       "HTML(value='')"
      ]
     },
     "metadata": {},
     "output_type": "display_data"
    }
   ],
   "source": [
    "import ipywidgets as widgets\n",
    "import os\n",
    "from IPython.display import display\n",
    "from IPython.display import display_markdown\n",
    "\n",
    "HTMLButtonPrompt = '''<html>\n",
    "<head>\n",
    "<meta name=\"viewport\" content=\"width=device-width, initial-scale=1\">\n",
    "</head>\n",
    "<body>\n",
    "<a href=\"{link}\" target=\"_blank\" >\n",
    "<button class=\"p-Widget jupyter-widgets jupyter-button widget-button mod-warning\" style=\"width:100px; background-color:#E9E9E9; font-size:10pt; color:black\">{text}</button>\n",
    "</a>\n",
    "</body>\n",
    "</html>\n",
    "'''\n",
    "\n",
    "\n",
    "HTMLDeadPrompt = '''<html>\n",
    "<head>\n",
    "<meta name=\"viewport\" content=\"width=device-width, initial-scale=1\">\n",
    "</head>\n",
    "<body>\n",
    "<button class=\"p-Widget jupyter-widgets jupyter-button widget-button mod-warning\" style=\"width:100px; background-color:#E9E9E9; font-size:10pt; color:#D2D2D2\">{text}</button>\n",
    "</body>\n",
    "</html>'''\n",
    "\n",
    "\n",
    "\n",
    "def copy_exercise(self):\n",
    "    uname = txt_uname.value.replace(\" \", \"_\").lower()\n",
    "    fpath = \"../../../../local/\"\n",
    "    flist = ['analysis_a.ipynb']\n",
    "    \n",
    "    cpname = \"Lab4a_\" + uname + \".ipynb\"\n",
    "\n",
    "    if len(uname)<=0:\n",
    "        print('Please enter a valid user name!')\n",
    "        \n",
    "    elif os.path.isfile(fpath+cpname) and cb_overwrite.value==False:\n",
    "        message_box.value = 'The file already exists! Click \\\"Open\\\" to access.<br> \\\n",
    "        If you want to delete the file and start fresh, you\\'ll need to: <br>  \\\n",
    "           (1) open the file, <br> \\\n",
    "           (2) Click \\\"Edit App\\\" in the top-right corner,<br>\\\n",
    "           (3) Click the File > Open dropdown, and <br> \\\n",
    "           (4) Manually delete the file using the file browser. <br> \\\n",
    "        Then you can return to this page to copy it again. <br> \\\n",
    "        <b>But be careful!</b> This will also delete any data that you\\'ve stored in the notebook!'\n",
    "        bt_open.value=HTMLButtonPrompt.format(link=fpath+cpname, text='Open')\n",
    "        \n",
    "    else:\n",
    "        err = False\n",
    "        \n",
    "        for fname in flist:\n",
    "            \n",
    "            # If it's the first file, reset the file name\n",
    "            if fname==flist[0]:\n",
    "                out = !{\"cp \" + fname + \" \" + fpath+cpname}\n",
    "                if len(out)>0:\n",
    "                    for line in out:\n",
    "                        err = True\n",
    "                        print(out)\n",
    "            else:\n",
    "                \n",
    "                # If it's an image file, make sure the img folder exists\n",
    "                if fname[0:4]=='img/':\n",
    "                    if os.path.isdir(fpath+'/img')==False:\n",
    "                        out = !{'mkdir ' + fpath + '/img'}\n",
    "                        if len(out)>0:\n",
    "                            err = True\n",
    "                            for line in out:\n",
    "                                print(out)\n",
    "                                \n",
    "                # Now copy the file\n",
    "                out = !{\"cp \" + fname + \" \" + fpath+fname}\n",
    "                if len(out)>0:\n",
    "                    for line in out:\n",
    "                        err = True\n",
    "                        print(out)\n",
    "                \n",
    "        if err==False:\n",
    "            bt_open.value=HTMLButtonPrompt.format(link=fpath+cpname, text='Open')\n",
    "    \n",
    "txt_uname = widgets.Text(\n",
    "    value='',\n",
    "    placeholder='User name',\n",
    "    description='Purdue ID:',\n",
    "    disabled=False\n",
    ")\n",
    "\n",
    "\n",
    "bt_genfile = widgets.Button(\n",
    "    description='Copy Exercise',\n",
    "    disabled=False,\n",
    "    button_style='', # 'success', 'info', 'warning', 'danger' or ''\n",
    "    tooltip='Enter your username and then click to create a local exercise file'\n",
    ")\n",
    "\n",
    "bt_open = widgets.HTML(HTMLDeadPrompt.format(text='Open'))\n",
    "\n",
    "cb_overwrite = widgets.Checkbox(\n",
    "    value=False,\n",
    "    description='Overwrite Existing?',\n",
    "    disabled=False\n",
    ")\n",
    "\n",
    "bt_genfile.on_click(copy_exercise)\n",
    "\n",
    "message_box = widgets.HTML('')\n",
    "\n",
    "display(widgets.HBox([txt_uname, bt_genfile, bt_open]))\n",
    "display(message_box)\n"
   ]
  },
  {
   "cell_type": "code",
   "execution_count": null,
   "metadata": {},
   "outputs": [],
   "source": []
  }
 ],
 "metadata": {
  "kernelspec": {
   "display_name": "Python 3",
   "language": "python",
   "name": "python3"
  },
  "language_info": {
   "codemirror_mode": {
    "name": "ipython",
    "version": 3
   },
   "file_extension": ".py",
   "mimetype": "text/x-python",
   "name": "python",
   "nbconvert_exporter": "python",
   "pygments_lexer": "ipython3",
   "version": "3.7.7"
  }
 },
 "nbformat": 4,
 "nbformat_minor": 2
}
