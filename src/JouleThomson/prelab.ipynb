{
 "cells": [
  {
   "cell_type": "markdown",
   "metadata": {},
   "source": [
    "## Pre-Lab Setup ##\n",
    "\n",
    "To prepare the Joule Thomson appatus for students, first make the following connections: \n",
    "\n",
    "### Connections ###\n",
    "\n",
    "\n",
    "1. Connect the tubes of the differential pressure transducer to the corresponding high and low pressure sides of the expansion chamber.\n",
    "\n",
    "2. Connect the barometric signal output of the pressure transducer to the multimeter input. Set the digital multimeter to read d.c. Volts.\n",
    "\n",
    "3. Connect the SINEOUT BNC on the back plane of the lock-in amplifier to the bridge input. Set the oscillator amplitude to 100 mV. This will supply the Wheatstone Bridge circuit with around 100 mV.\n",
    "\n",
    "4. Connect the REF terminal to the reference input, to operate the amplifier in internal mode.\n",
    "\n",
    "5. Set the frequency range to 1 Hz on the back of the lock-in amplifier and leave the VCO input disconnected to operate at a fixed frequency (~10 Hz).\n",
    "\n",
    "6. Switch on all filters with a time constant of 1 sec. (PRE mode).\n",
    "\n",
    "7. Set display to X Y mode.\n",
    "\n",
    "8. Connect the A and B output terminals of the wheatstone bridge to the corresponding inputs of the lock-in amplifier. \"A\" will be the voltage on the left side of the Wheatstone Bridge circuit, and \"B\" will be the voltage on the right side (see Figure 2). Set the signal input switch to A-B to operate in differential mode. This will allow the lock-in amp to directly determine the voltage difference (V A - V B ), which we will refer to as V AB .\n",
    "\n",
    "\n",
    "### Measurement ###\n",
    "\n",
    "Then prepare the apparatus for measurement as follows: \n",
    "\n",
    "1. Starting at ~ 50 kPa, indicated on the regulator gauge, with the outlet valve CLOSED null the offset of the pressure transducer using the REL switch of the multimeter.\n",
    "\n",
    "* Set the switch of the wheatstone bridge to T, to monitor ∆T. Set the sensitivity switch to the range you will require (1 mV is the lowest practical setting at ~ 50 kPa).\n",
    "\n",
    "* Turn the OFFSET control ON and null it by pressing the REL switch on the amplifier. **Remember this correction is range-dependent, do not attempt measurements in other ranges with the OFFSET ON.**\n",
    "\n",
    "* Very gradually open the regulator outlet valve. It should take you 3 to 5 minutes to open the valve completely. (Voltage as read on the DMM should not increase by more than around 2 mV with each adjustment. Thereafter, the outlet valve should be left fully open for the remainder of the experiment. Pressure surges supercool the frit to a degree that can take hours to re- equilibrate.)"
   ]
  },
  {
   "cell_type": "code",
   "execution_count": null,
   "metadata": {},
   "outputs": [],
   "source": []
  }
 ],
 "metadata": {
  "kernelspec": {
   "display_name": "Python 3",
   "language": "python",
   "name": "python3"
  },
  "language_info": {
   "codemirror_mode": {
    "name": "ipython",
    "version": 3
   },
   "file_extension": ".py",
   "mimetype": "text/x-python",
   "name": "python",
   "nbconvert_exporter": "python",
   "pygments_lexer": "ipython3",
   "version": "3.7.7"
  }
 },
 "nbformat": 4,
 "nbformat_minor": 2
}
