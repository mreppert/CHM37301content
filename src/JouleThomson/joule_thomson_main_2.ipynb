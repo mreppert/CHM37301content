{
 "cells": [
  {
   "cell_type": "code",
   "execution_count": 1,
   "metadata": {},
   "outputs": [
    {
     "data": {
      "application/javascript": [
       "IPython.OutputArea.auto_scroll_threshold = 9999\n"
      ],
      "text/plain": [
       "<IPython.core.display.Javascript object>"
      ]
     },
     "metadata": {},
     "output_type": "display_data"
    }
   ],
   "source": [
    "%%javascript\n",
    "IPython.OutputArea.auto_scroll_threshold = 9999"
   ]
  },
  {
   "cell_type": "code",
   "execution_count": 2,
   "metadata": {},
   "outputs": [],
   "source": [
    "import math\n",
    "%matplotlib inline\n",
    "import matplotlib.pyplot as plt\n",
    "from IPython.display import Javascript, display\n",
    "from ipywidgets import widgets\n",
    "import IPython.display as ipd\n",
    "import time\n",
    "\n",
    "import numpy as np"
   ]
  },
  {
   "cell_type": "markdown",
   "metadata": {},
   "source": [
    "# The Joule-Thomson Effect\n",
    "\n",
    "## The Van der Waals Equation of State ##\n",
    "\n",
    "\n",
    "The ideal gas equation of state $PV = nRT$ is extremely useful as a thermodynamic model. Unfortunately, it doesn't provide a very realistic description of real gases at low temperatures or high pressures. In particular, it predicts a Joule Thomson expansion coefficient of exactly zero. \n",
    "\n",
    "A (somewhat) more accurate model is offered by the *van der Waals* equation of state:\n",
    "\n",
    "$$ P = \\frac{RT}{v - b} - \\frac{a}{v^2}.$$\n",
    "\n",
    "where \n",
    "$$v = \\frac{V}{n}$$\n",
    "is the *molar volume*. Note that if the coefficients $a$ and $b$ are set to zero, we recover the ideal gas equation. For real gases, $a$ and $b$ are non-zero and have surprisingly intuitive physical interpretations:\n",
    "* $a$ represents attractive forces between molecules: The actual pressure $P$ is *lower* than expected for an ideal gas because real gas molecules tend to attract each other and, therefore, spend less time beating against the walls of the container producing pressure. \n",
    "\n",
    "* $b$ represents the finite volume of each gas molecule: the actual molar volume $v$ accessible to the gas is *smaller* than for an ideal gas because no two particles can occupy the same position; the magnitude of this effect depends on the volume $b$ occupied by the gas particles themselves. \n",
    "\n",
    "\n",
    "\n",
    "## The Joule Thomson Coefficient ##\n",
    "\n",
    "Although the calculations are a little messy (see [here](muJT_derivation.ipynb)), this equation of state allows us to calculate a simple, explicit (but approximate) expression for $\\mu_{JT}$ for the van der Waals gas: \n",
    "\n",
    "$$ \\mu_{JT} \\approx \\frac{1}{\\bar C_P} \\left( \\frac{2a}{RT} - b \\right).$$\n",
    "\n",
    "Here $\\bar C_P$ is the *specific heat capacity* of the gas at constant pressure. \n",
    "\n",
    "\n",
    "Note the following predictions that this equation makes for the Joule Thomson coefficient (for a van der Waals gas): \n",
    "* $\\mu_{JT}$ is generally non-zero but depends on the relative magnitudes of $a$ and $b$, as well as the temperature. \n",
    "* When $a$ is large and $b$ very small (i.e., the gas particles exhibit strong attractive forces and a small excluded volume), $\\mu_{JT}$ is positive: the gas tends to *cool down* when the pressure drops. \n",
    "* When $a$ is small and $b$ is large (i.e., the gas particles exhibit weak attractive forces but a large excluded volume), $\\mu_{JT}$ is negative: the gas tends to *heat up* when pressure drops. \n",
    "* $\\mu_{JT}$ is nearly zero **both** for ideal gases and for real gases when the temperature $T$ is chosen so that $$\\frac{2a}{RT} \\approx b . $$ \n",
    "\n",
    "For real gases, the temperature at which $\\mu_{JT}$ passes through zero is called the *Joule-Thomson inversion temperature* $T_{JT}$. At $T_{JT}$, the temperature-dependent effect of the attractive force just balances the effect of excluded volume, causing a van der Waals gas to *act* as if it were ideal and exhibit a zero Joule-Thomson coefficient. \n",
    "\n",
    "\n",
    "\n",
    "## Your Assignment ##\n",
    "\n",
    "Your assignment this week is two-fold: \n",
    "* To measure the Joule Thomson coefficient for Helium gas, and \n",
    "* To compare the $\\mu_{JT}$ values for both helium and CO$_2$ (from last week) against the predictions of the van der Waals equation of state. \n",
    "\n",
    "\n",
    "In the lab, you'll use the same experimental procedure as last week. The only difference is that you'll use helium gas instead of CO$_2$. For detailed instructions, click here: <br><a href=\"Part1.ipynb\"> <button class=\"p-Widget jupyter-widgets jupyter-button widget-button mod-warning\" style=\"width:100px; background-color:#E9E9E9; font-size:10pt; color:black\">Go!</button></a>\n",
    "\n",
    "\n"
   ]
  },
  {
   "cell_type": "markdown",
   "metadata": {},
   "source": [
    "## Analysis ##\n",
    "\n",
    "When you're finished in lab, enter your PUID in the form below to create a local analysis notebook to complete your assignment. "
   ]
  },
  {
   "cell_type": "code",
   "execution_count": 3,
   "metadata": {},
   "outputs": [
    {
     "data": {
      "application/vnd.jupyter.widget-view+json": {
       "model_id": "efaa2cb1adf0463a994acb8fbea20e3d",
       "version_major": 2,
       "version_minor": 0
      },
      "text/plain": [
       "HBox(children=(Text(value='', description='Purdue ID:', placeholder='User name'), Button(description='Copy Exe…"
      ]
     },
     "metadata": {},
     "output_type": "display_data"
    },
    {
     "data": {
      "application/vnd.jupyter.widget-view+json": {
       "model_id": "c894416071e74242853349a2bb218d20",
       "version_major": 2,
       "version_minor": 0
      },
      "text/plain": [
       "HTML(value='')"
      ]
     },
     "metadata": {},
     "output_type": "display_data"
    }
   ],
   "source": [
    "import ipywidgets as widgets\n",
    "import os\n",
    "from IPython.display import display\n",
    "from IPython.display import display_markdown\n",
    "\n",
    "HTMLButtonPrompt = '''<html>\n",
    "<head>\n",
    "<meta name=\"viewport\" content=\"width=device-width, initial-scale=1\">\n",
    "</head>\n",
    "<body>\n",
    "<a href=\"{link}\" target=\"_blank\" >\n",
    "<button class=\"p-Widget jupyter-widgets jupyter-button widget-button mod-warning\" style=\"width:100px; background-color:#E9E9E9; font-size:10pt; color:black\">{text}</button>\n",
    "</a>\n",
    "</body>\n",
    "</html>\n",
    "'''\n",
    "\n",
    "\n",
    "HTMLDeadPrompt = '''<html>\n",
    "<head>\n",
    "<meta name=\"viewport\" content=\"width=device-width, initial-scale=1\">\n",
    "</head>\n",
    "<body>\n",
    "<button class=\"p-Widget jupyter-widgets jupyter-button widget-button mod-warning\" style=\"width:100px; background-color:#E9E9E9; font-size:10pt; color:#D2D2D2\">{text}</button>\n",
    "</body>\n",
    "</html>'''\n",
    "\n",
    "\n",
    "\n",
    "def copy_exercise(self):\n",
    "    uname = txt_uname.value.replace(\" \", \"_\").lower()\n",
    "    fpath = \"../../../../local/\"\n",
    "    flist = ['analysis_2.ipynb']\n",
    "    \n",
    "    cpname = \"JouleThomson2_\" + uname + \".ipynb\"\n",
    "\n",
    "    if len(uname)<=0:\n",
    "        print('Please enter a valid user name!')\n",
    "        \n",
    "    elif os.path.isfile(fpath+cpname) and cb_overwrite.value==False:\n",
    "        message_box.value = 'The file already exists! Click \\\"Open\\\" to access.<br> \\\n",
    "        If you want to delete the file and start fresh, you\\'ll need to: <br>  \\\n",
    "           (1) open the file, <br> \\\n",
    "           (2) Click \\\"Edit App\\\" in the top-right corner,<br>\\\n",
    "           (3) Click the File > Open dropdown, and <br> \\\n",
    "           (4) Manually delete the file using the file browser. <br> \\\n",
    "        Then you can return to this page to copy it again. <br> \\\n",
    "        <b>But be careful!</b> This will also delete any data that you\\'ve stored in the notebook!'\n",
    "        bt_open.value=HTMLButtonPrompt.format(link=fpath+cpname, text='Open')\n",
    "        \n",
    "    else:\n",
    "        err = False\n",
    "        \n",
    "        for fname in flist:\n",
    "            \n",
    "            # If it's the first file, reset the file name\n",
    "            if fname==flist[0]:\n",
    "                out = !{\"cp \" + fname + \" \" + fpath+cpname}\n",
    "                if len(out)>0:\n",
    "                    for line in out:\n",
    "                        err = True\n",
    "                        print(out)\n",
    "            else:\n",
    "                \n",
    "                # If it's an image file, make sure the img folder exists\n",
    "                if fname[0:4]=='img/':\n",
    "                    if os.path.isdir(fpath+'/img')==False:\n",
    "                        out = !{'mkdir ' + fpath + '/img'}\n",
    "                        if len(out)>0:\n",
    "                            err = True\n",
    "                            for line in out:\n",
    "                                print(out)\n",
    "                                \n",
    "                # Now copy the file\n",
    "                out = !{\"cp \" + fname + \" \" + fpath+fname}\n",
    "                if len(out)>0:\n",
    "                    for line in out:\n",
    "                        err = True\n",
    "                        print(out)\n",
    "                \n",
    "        if err==False:\n",
    "            bt_open.value=HTMLButtonPrompt.format(link=fpath+cpname, text='Open')\n",
    "    \n",
    "txt_uname = widgets.Text(\n",
    "    value='',\n",
    "    placeholder='User name',\n",
    "    description='Purdue ID:',\n",
    "    disabled=False\n",
    ")\n",
    "\n",
    "\n",
    "bt_genfile = widgets.Button(\n",
    "    description='Copy Exercise',\n",
    "    disabled=False,\n",
    "    button_style='', # 'success', 'info', 'warning', 'danger' or ''\n",
    "    tooltip='Enter your username and then click to create a local exercise file'\n",
    ")\n",
    "\n",
    "bt_open = widgets.HTML(HTMLDeadPrompt.format(text='Open'))\n",
    "\n",
    "cb_overwrite = widgets.Checkbox(\n",
    "    value=False,\n",
    "    description='Overwrite Existing?',\n",
    "    disabled=False\n",
    ")\n",
    "\n",
    "bt_genfile.on_click(copy_exercise)\n",
    "\n",
    "message_box = widgets.HTML('')\n",
    "\n",
    "display(widgets.HBox([txt_uname, bt_genfile, bt_open]))\n",
    "display(message_box)\n"
   ]
  },
  {
   "cell_type": "code",
   "execution_count": null,
   "metadata": {},
   "outputs": [],
   "source": []
  }
 ],
 "metadata": {
  "kernelspec": {
   "display_name": "Python 3.8",
   "language": "python",
   "name": "python3"
  },
  "language_info": {
   "codemirror_mode": {
    "name": "ipython",
    "version": 3
   },
   "file_extension": ".py",
   "mimetype": "text/x-python",
   "name": "python",
   "nbconvert_exporter": "python",
   "pygments_lexer": "ipython3",
   "version": "3.8.10"
  },
  "toc": {
   "base_numbering": 1,
   "nav_menu": {},
   "number_sections": true,
   "sideBar": true,
   "skip_h1_title": false,
   "title_cell": "Table of Contents",
   "title_sidebar": "Contents",
   "toc_cell": false,
   "toc_position": {},
   "toc_section_display": true,
   "toc_window_display": false
  },
  "varInspector": {
   "cols": {
    "lenName": 16,
    "lenType": 16,
    "lenVar": 40
   },
   "kernels_config": {
    "python": {
     "delete_cmd_postfix": "",
     "delete_cmd_prefix": "del ",
     "library": "var_list.py",
     "varRefreshCmd": "print(var_dic_list())"
    },
    "r": {
     "delete_cmd_postfix": ") ",
     "delete_cmd_prefix": "rm(",
     "library": "var_list.r",
     "varRefreshCmd": "cat(var_dic_list()) "
    }
   },
   "types_to_exclude": [
    "module",
    "function",
    "builtin_function_or_method",
    "instance",
    "_Feature"
   ],
   "window_display": false
  }
 },
 "nbformat": 4,
 "nbformat_minor": 2
}
