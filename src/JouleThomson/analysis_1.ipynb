{
 "cells": [
  {
   "cell_type": "markdown",
   "metadata": {},
   "source": [
    "# Joule Thomson Lab Analysis #\n",
    "\n",
    "\n",
    "### 1. Enter your experimental data. ###\n",
    "\n",
    "Define NumPy arrays named `Pgauge`, `VAB`, and `dPmv` storing, respectively, your measured Gauge pressure, voltage difference $V_\\text{AB}$ and pressure-monitor voltage $\\Delta P_\\text{mv}$. "
   ]
  },
  {
   "cell_type": "code",
   "execution_count": null,
   "metadata": {},
   "outputs": [],
   "source": []
  },
  {
   "cell_type": "markdown",
   "metadata": {},
   "source": [
    "### 2. Convert voltage inputs to $\\Delta P$ and $\\Delta T$ ### \n",
    "\n",
    "In the lab protocol, formulas are provided for calculating \n",
    "1. The pressure drop $\\Delta P$ across the Joule Thomson expansion chamber from the *voltage difference* $\\Delta P_\\text{mv}$ monitored experimentally via the first DMM. \n",
    "\n",
    "2. The resistance difference $\\Delta R$ between the two Thermistors in the wheatstone bridge from the voltage difference $V_\\text{AB}$ displayed on the second DMM. \n",
    "\n",
    "3. The *temperature change* $\\Delta T$ across the frit from the resistance difference $\\Delta R$. \n",
    "\n",
    "Locate the respective formulas in the lab procedure and enter code in the cell below to do the corresponding calculations. Store the $\\Delta P$ data in a NumPy array called `dP` and the $\\Delta T$ values in a NumPy array called `dT`. \n",
    "\n",
    "\n",
    "**IMPORTANT**: The coefficients provided will give $\\Delta P$ values in kPa. **Convert your values to atm** before storing them in the `dP` array. (This will allow you to compare directly against literature values later.)"
   ]
  },
  {
   "cell_type": "code",
   "execution_count": null,
   "metadata": {},
   "outputs": [],
   "source": []
  },
  {
   "cell_type": "markdown",
   "metadata": {},
   "source": [
    "### 3. Calculate the Joule-Thomson Coefficient for each Data Point ###\n",
    "\n",
    "Since you have 10 data points (corresponding to different $\\Delta P$ values), you can actually calculate the Joule Thomson coefficient \n",
    "$$\\mu_{JT} \\equiv \\left( \\frac{\\partial T}{\\partial P} \\right)_H .$$ \n",
    "\n",
    "in several different ways. \n",
    "\n",
    "First, calculate $\\mu_\\text{JT}$ *for each data point individually* by simply dividing $\\Delta T$ by $\\Delta P$. (Recall that $H$ is constant during the experiment, so if $\\Delta P$ and $\\Delta T$ are small enough $\\frac{\\Delta T}{\\Delta P}$ is a good approximation to $\\mu_\\text{JT}$.) \n",
    "\n",
    "In the code cell below, divide your `dT` vector by your `dP` vector and store the result in a new vector called `muJT`. This new vector should contain 10 data points, corresponding to the measured Joule-Thomson coefficient for each value of $\\Delta P$. \n",
    "\n",
    "\n",
    "Print also the *average* value of the `muJT` array, i.e., your average $\\mu_{JT}$ coefficient calculated from the individual data points. \n",
    "\n",
    "\n",
    "Now plot the `muJT` vector as a function of `dP`. Are the measured $\\mu_\\text{JT}$ values constant, or do they vary with $\\Delta P$? (You'll give your thoughts on this in the answer to one of the analysis questions below.) "
   ]
  },
  {
   "cell_type": "code",
   "execution_count": null,
   "metadata": {},
   "outputs": [],
   "source": []
  },
  {
   "cell_type": "markdown",
   "metadata": {},
   "source": [
    "### 4. Calculate the Overall Best-Fit Coefficient ###\n",
    "\n",
    "In the last cell, you calculated a Joule Thomson coefficient for each data point individually. Another way to estimate an *average* coefficient is to simply plot $\\Delta T$ versus $\\Delta P$ and calculate the best-fit line. The *slope* of that line is an estimate for $\\mu_\\text{JT}$ since it describes how $\\Delta T$ varies as a function of $\\Delta P$. \n",
    "\n",
    "In the cell block below, plot $\\Delta T$ against $\\Delta P$, calculate a best-fit line, and compare the slope of that line against the point-by-point $\\mu_\\text{JT}$ values you just calculated. "
   ]
  },
  {
   "cell_type": "code",
   "execution_count": null,
   "metadata": {},
   "outputs": [],
   "source": []
  },
  {
   "cell_type": "markdown",
   "metadata": {},
   "source": [
    "## Questions ##\n",
    "\n",
    "### Question 1 ###\n",
    "\n",
    "*Are your calculated $\\mu_\\text{JT}$ values constant with $\\Delta P$ or do they change? Is there a trend to $\\mu_\\text{J}$ as a function of $\\Delta P$? Why might this be the case?*"
   ]
  },
  {
   "cell_type": "markdown",
   "metadata": {},
   "source": []
  },
  {
   "cell_type": "markdown",
   "metadata": {},
   "source": [
    "### Question 2 ###\n",
    "\n",
    "*How does your overall best-fit $\\mu_\\text{JT}$ value compare with the $\\mu_\\text{JT}$ values calculated for individual data points? Where might differences between these values come from?*"
   ]
  },
  {
   "cell_type": "markdown",
   "metadata": {},
   "source": []
  },
  {
   "cell_type": "markdown",
   "metadata": {},
   "source": [
    "### Question 3 ###\n",
    "\n",
    "*The actual value of $\\mu_\\text{JT}$ for CO$_2$ is approximately +1.066 K/atm at 298 K. How does this compare to your calculated average value? What do you think are the primary sources of error in our measurement?*\n"
   ]
  },
  {
   "cell_type": "markdown",
   "metadata": {},
   "source": []
  },
  {
   "cell_type": "markdown",
   "metadata": {},
   "source": [
    "### Question 4 ###\n",
    "\n",
    "*In your experiment, did the temperature of the gas increase or decrease when moving from a region of high-pressure to low-pressure? How does this relate to the function of an air-conditioner or refrigerator?*"
   ]
  },
  {
   "cell_type": "markdown",
   "metadata": {},
   "source": []
  },
  {
   "cell_type": "markdown",
   "metadata": {},
   "source": [
    "\n",
    "### Question 5 ###\n",
    "\n",
    "*What is the significance of the frit inside the Joule-Thomson expansion cell? Why could we not run the experiment without something to slow down passage of the gas?*"
   ]
  },
  {
   "cell_type": "markdown",
   "metadata": {},
   "source": []
  }
 ],
 "metadata": {
  "kernelspec": {
   "display_name": "Python 3",
   "language": "python",
   "name": "python3"
  },
  "language_info": {
   "codemirror_mode": {
    "name": "ipython",
    "version": 3
   },
   "file_extension": ".py",
   "mimetype": "text/x-python",
   "name": "python",
   "nbconvert_exporter": "python",
   "pygments_lexer": "ipython3",
   "version": "3.7.7"
  }
 },
 "nbformat": 4,
 "nbformat_minor": 2
}
