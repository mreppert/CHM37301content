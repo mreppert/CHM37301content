{
 "cells": [
  {
   "cell_type": "markdown",
   "metadata": {},
   "source": [
    "# Joule Thomson Coefficients and the van der Waals Equation #\n",
    "\n",
    "\n",
    "\n",
    "The table below lists accurate experimentally measured parameters for the gases He and CO$_2$. You'll compare the behavior you measured experimentally in lab against the values in this table. \n",
    "\n",
    "\n",
    "<table style=\"width:6in; text-align:left\">\n",
    "    <tr>\n",
    "        <td>\n",
    "            Gas\n",
    "        </td>\n",
    "        <td>\n",
    "            $a$ (m$^6$ Pa / mol$^2$)\n",
    "        </td>\n",
    "        <td>\n",
    "            $b$ (m$^3$/mol)\n",
    "        </td>\n",
    "        <td>\n",
    "            ${\\bar C}_P$ (J/mol$\\cdot$K)\n",
    "        </td>\n",
    "        <td>\n",
    "            $\\mu_{JT}$ (K/atm)\n",
    "        </td>\n",
    "    </tr>\n",
    "    <tr>\n",
    "        <td>\n",
    "            Helium\n",
    "        </td>\n",
    "        <td>\n",
    "            0.00346\n",
    "        </td>\n",
    "        <td>\n",
    "            $2.37\\cdot 10^{-5}$\n",
    "        </td>\n",
    "        <td>\n",
    "            20.79\n",
    "        </td>\n",
    "        <td>\n",
    "            -0.00624\n",
    "        </td>\n",
    "    </tr>\n",
    "    <tr>\n",
    "        <td>\n",
    "            CO$_2$\n",
    "        </td>\n",
    "        <td>\n",
    "            0.364\n",
    "        </td>\n",
    "        <td>\n",
    "            $4.27\\cdot 10^{-5}$\n",
    "        </td>\n",
    "        <td>\n",
    "            37.13\n",
    "        </td>\n",
    "        <td>\n",
    "            +1.066\n",
    "        </td>\n",
    "    </tr>\n",
    "</table>\n",
    "\n",
    "### 1. Calculate $\\mu_{JT}$ for He Gas ###\n",
    "\n",
    "In the code block below, repeat last week's data analysis to calculate the Joule Thomson coefficient $\\mu_{JT}$ from the best-fit line to your experimental $\\Delta T$ and $\\Delta P$ values for He gas. Create the same plots as last week, and print the same values. \n",
    "\n"
   ]
  },
  {
   "cell_type": "code",
   "execution_count": null,
   "metadata": {},
   "outputs": [],
   "source": []
  },
  {
   "cell_type": "markdown",
   "metadata": {},
   "source": [
    "\n",
    "### 2. Plot the predictions of the van der Waals Model ### \n",
    "\n",
    "In the code block below, use the data table at the top of this page, together with the equation \n",
    "\n",
    "$$ \\mu_{JT} \\approx \\frac{1}{\\bar C_P} \\left( \\frac{2a}{RT} - b \\right)$$\n",
    "\n",
    "given in the prelab reading, to calculate the expected $JT$ coefficients for He gas between the temperatures of 10 K and 1000 K. Make a plot of $\\mu_{JT}$ as a function of temperature across this range (with proper axis and data labels, including units). On the same plot, add a \"baseline\" at $\\mu_{JT} = 0$ using the command\n",
    "\n",
    "``plt.plot(Taxis, 0*Taxis, 'k--')``\n",
    "\n",
    "where ``Taxis`` should be the vector containing your temperature axis from 10 to 1000 K. \n",
    "\n",
    "\n",
    "**Watch your units! Some values are given to you in Pa and others in atm, so be sure to convert appropriately!** All $\\mu_{JT}$ values you plot should be in units of (K/atm). \n",
    "\n",
    "**Hint:** You'll probably find it easiest to keep all pressure units in Pa (with $R$ in units of m$^3$ $\\cdot$ Pa / (mol $\\cdot$ K)) when you calculate $\\mu_{JT}$ and then to convert afterward from K/Pa to K/atm. In this case, you'll want to remember that 1 Pa is equivalent to 1 J/m$^3$. \n"
   ]
  },
  {
   "cell_type": "code",
   "execution_count": null,
   "metadata": {},
   "outputs": [],
   "source": []
  },
  {
   "cell_type": "markdown",
   "metadata": {},
   "source": [
    "### 3. Compare to your measurements ###\n",
    "\n",
    "In the cell below, plot this same graph again, but this time add also data points for both \n",
    "1. Your measured $\\mu_{JT}$ value for He and \n",
    "2. The literature $\\mu_{JT}$ value for He included in the data table at the top of this page. \n",
    "\n",
    "Be sure that the two data points are easily distinguishable. E.g., you might use an 'x' symbol when you plot the measured value and an 'o' symbol when you plot the literature value. "
   ]
  },
  {
   "cell_type": "code",
   "execution_count": null,
   "metadata": {},
   "outputs": [],
   "source": []
  },
  {
   "cell_type": "markdown",
   "metadata": {},
   "source": [
    "### 4. Plot CO$_2$ data ###\n",
    "\n",
    "Now make the same graph as the last code cell EXCEPT\n",
    "1. Plot data for CO$_2$ instead of He and\n",
    "2. Limit the temperature range to only 100 K to 500 K. \n",
    "\n",
    "Note that you'll need to refer to last week's lab for your measured Joule-Thomson coefficient, and you'll need to re-calculate the van der Waals prediction using the CO$_2$ coefficients from the data table at the top of the page"
   ]
  },
  {
   "cell_type": "code",
   "execution_count": null,
   "metadata": {},
   "outputs": [],
   "source": []
  },
  {
   "cell_type": "markdown",
   "metadata": {},
   "source": [
    "## Questions ##\n",
    "\n",
    "### Question 1 ###\n",
    "\n",
    "*How well does the van der Waals prediction work in calculating Joule Thomson coefficients for He and CO$_2$? Is it quantitatively accurate? Does it predict the correct sign at room temperature?*"
   ]
  },
  {
   "cell_type": "markdown",
   "metadata": {},
   "source": []
  },
  {
   "cell_type": "markdown",
   "metadata": {},
   "source": [
    "### Question 2 ###\n",
    "\n",
    "*How could you enlarge on this experiment to more rigorously probe the validity of the van der Waals equation of state for these two gases?*"
   ]
  },
  {
   "cell_type": "markdown",
   "metadata": {},
   "source": []
  },
  {
   "cell_type": "markdown",
   "metadata": {},
   "source": [
    "### Question 3 ###\n",
    "\n",
    "*The Joule Thomson coefficient for He is negative, while the Joule Thomson coefficient for CO$_2$ is positive. How is this reflected in the values of the $a$ and $b$ coefficients of the van der Waals model?*"
   ]
  },
  {
   "cell_type": "markdown",
   "metadata": {},
   "source": []
  },
  {
   "cell_type": "markdown",
   "metadata": {},
   "source": [
    "### Question 4 ###\n",
    "\n",
    "*How do the values of the $a$ and $b$ coefficients reflect the physical properties of He and CO$_2$ gas particles?*"
   ]
  },
  {
   "cell_type": "markdown",
   "metadata": {},
   "source": []
  },
  {
   "cell_type": "markdown",
   "metadata": {},
   "source": [
    "### Question 5 ###\n",
    "\n",
    "*Based on your measured $\\mu_{JT}$ values, which gas (He or CO$_2$) would make a better working substance for an air conditioner?*"
   ]
  },
  {
   "cell_type": "markdown",
   "metadata": {},
   "source": []
  },
  {
   "cell_type": "markdown",
   "metadata": {},
   "source": [
    "\n",
    "### Question 6 ###\n",
    "\n",
    "*Based on your calculated $\\mu_{JT}$ curve for He, around what temperature would elemental He work best as a refrigerant? Google \"helium refrigerator\". Does what you find support your answer?*\n",
    "\n",
    "**Note:** Helium refrigerators work by a much more complicated mechanism than ordinary refrigerators, so don't interpret this correlation too literally. "
   ]
  },
  {
   "cell_type": "markdown",
   "metadata": {},
   "source": []
  }
 ],
 "metadata": {
  "kernelspec": {
   "display_name": "Python 3",
   "language": "python",
   "name": "python3"
  },
  "language_info": {
   "codemirror_mode": {
    "name": "ipython",
    "version": 3
   },
   "file_extension": ".py",
   "mimetype": "text/x-python",
   "name": "python",
   "nbconvert_exporter": "python",
   "pygments_lexer": "ipython3",
   "version": "3.7.7"
  }
 },
 "nbformat": 4,
 "nbformat_minor": 2
}
